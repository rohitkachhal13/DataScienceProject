{
 "cells": [
  {
   "cell_type": "markdown",
   "id": "7addb2a1",
   "metadata": {},
   "source": [
    "### 1. Import usefull libraries"
   ]
  },
  {
   "cell_type": "code",
   "execution_count": 1,
   "id": "6e4a263c",
   "metadata": {},
   "outputs": [],
   "source": [
    "import numpy as np\n",
    "import pandas as pd\n",
    "import matplotlib.pyplot as plt\n",
    "import seaborn as sns\n",
    "\n",
    "import warnings\n",
    "warnings.filterwarnings('ignore')"
   ]
  },
  {
   "cell_type": "markdown",
   "id": "b7a1b95d",
   "metadata": {},
   "source": [
    "### 2. Import data"
   ]
  },
  {
   "cell_type": "code",
   "execution_count": 2,
   "id": "19db2d0e",
   "metadata": {},
   "outputs": [],
   "source": [
    "df = pd.read_csv(r'https://raw.githubusercontent.com/dsrscientist/dataset1/master/titanic_train.csv',sep=',')"
   ]
  },
  {
   "cell_type": "markdown",
   "id": "e66e57af",
   "metadata": {},
   "source": [
    "### 3. Data Frame"
   ]
  },
  {
   "cell_type": "markdown",
   "id": "7354e509",
   "metadata": {},
   "source": [
    "#### a). Display Data Frame Top 5 Rows"
   ]
  },
  {
   "cell_type": "code",
   "execution_count": 3,
   "id": "37a1976f",
   "metadata": {},
   "outputs": [
    {
     "data": {
      "text/html": [
       "<div>\n",
       "<style scoped>\n",
       "    .dataframe tbody tr th:only-of-type {\n",
       "        vertical-align: middle;\n",
       "    }\n",
       "\n",
       "    .dataframe tbody tr th {\n",
       "        vertical-align: top;\n",
       "    }\n",
       "\n",
       "    .dataframe thead th {\n",
       "        text-align: right;\n",
       "    }\n",
       "</style>\n",
       "<table border=\"1\" class=\"dataframe\">\n",
       "  <thead>\n",
       "    <tr style=\"text-align: right;\">\n",
       "      <th></th>\n",
       "      <th>PassengerId</th>\n",
       "      <th>Survived</th>\n",
       "      <th>Pclass</th>\n",
       "      <th>Name</th>\n",
       "      <th>Sex</th>\n",
       "      <th>Age</th>\n",
       "      <th>SibSp</th>\n",
       "      <th>Parch</th>\n",
       "      <th>Ticket</th>\n",
       "      <th>Fare</th>\n",
       "      <th>Cabin</th>\n",
       "      <th>Embarked</th>\n",
       "    </tr>\n",
       "  </thead>\n",
       "  <tbody>\n",
       "    <tr>\n",
       "      <th>0</th>\n",
       "      <td>1</td>\n",
       "      <td>0</td>\n",
       "      <td>3</td>\n",
       "      <td>Braund, Mr. Owen Harris</td>\n",
       "      <td>male</td>\n",
       "      <td>22.0</td>\n",
       "      <td>1</td>\n",
       "      <td>0</td>\n",
       "      <td>A/5 21171</td>\n",
       "      <td>7.2500</td>\n",
       "      <td>NaN</td>\n",
       "      <td>S</td>\n",
       "    </tr>\n",
       "    <tr>\n",
       "      <th>1</th>\n",
       "      <td>2</td>\n",
       "      <td>1</td>\n",
       "      <td>1</td>\n",
       "      <td>Cumings, Mrs. John Bradley (Florence Briggs Th...</td>\n",
       "      <td>female</td>\n",
       "      <td>38.0</td>\n",
       "      <td>1</td>\n",
       "      <td>0</td>\n",
       "      <td>PC 17599</td>\n",
       "      <td>71.2833</td>\n",
       "      <td>C85</td>\n",
       "      <td>C</td>\n",
       "    </tr>\n",
       "    <tr>\n",
       "      <th>2</th>\n",
       "      <td>3</td>\n",
       "      <td>1</td>\n",
       "      <td>3</td>\n",
       "      <td>Heikkinen, Miss. Laina</td>\n",
       "      <td>female</td>\n",
       "      <td>26.0</td>\n",
       "      <td>0</td>\n",
       "      <td>0</td>\n",
       "      <td>STON/O2. 3101282</td>\n",
       "      <td>7.9250</td>\n",
       "      <td>NaN</td>\n",
       "      <td>S</td>\n",
       "    </tr>\n",
       "    <tr>\n",
       "      <th>3</th>\n",
       "      <td>4</td>\n",
       "      <td>1</td>\n",
       "      <td>1</td>\n",
       "      <td>Futrelle, Mrs. Jacques Heath (Lily May Peel)</td>\n",
       "      <td>female</td>\n",
       "      <td>35.0</td>\n",
       "      <td>1</td>\n",
       "      <td>0</td>\n",
       "      <td>113803</td>\n",
       "      <td>53.1000</td>\n",
       "      <td>C123</td>\n",
       "      <td>S</td>\n",
       "    </tr>\n",
       "    <tr>\n",
       "      <th>4</th>\n",
       "      <td>5</td>\n",
       "      <td>0</td>\n",
       "      <td>3</td>\n",
       "      <td>Allen, Mr. William Henry</td>\n",
       "      <td>male</td>\n",
       "      <td>35.0</td>\n",
       "      <td>0</td>\n",
       "      <td>0</td>\n",
       "      <td>373450</td>\n",
       "      <td>8.0500</td>\n",
       "      <td>NaN</td>\n",
       "      <td>S</td>\n",
       "    </tr>\n",
       "  </tbody>\n",
       "</table>\n",
       "</div>"
      ],
      "text/plain": [
       "   PassengerId  Survived  Pclass  \\\n",
       "0            1         0       3   \n",
       "1            2         1       1   \n",
       "2            3         1       3   \n",
       "3            4         1       1   \n",
       "4            5         0       3   \n",
       "\n",
       "                                                Name     Sex   Age  SibSp  \\\n",
       "0                            Braund, Mr. Owen Harris    male  22.0      1   \n",
       "1  Cumings, Mrs. John Bradley (Florence Briggs Th...  female  38.0      1   \n",
       "2                             Heikkinen, Miss. Laina  female  26.0      0   \n",
       "3       Futrelle, Mrs. Jacques Heath (Lily May Peel)  female  35.0      1   \n",
       "4                           Allen, Mr. William Henry    male  35.0      0   \n",
       "\n",
       "   Parch            Ticket     Fare Cabin Embarked  \n",
       "0      0         A/5 21171   7.2500   NaN        S  \n",
       "1      0          PC 17599  71.2833   C85        C  \n",
       "2      0  STON/O2. 3101282   7.9250   NaN        S  \n",
       "3      0            113803  53.1000  C123        S  \n",
       "4      0            373450   8.0500   NaN        S  "
      ]
     },
     "execution_count": 3,
     "metadata": {},
     "output_type": "execute_result"
    }
   ],
   "source": [
    "df.head()"
   ]
  },
  {
   "cell_type": "markdown",
   "id": "5dd12baf",
   "metadata": {},
   "source": [
    "#### b). Data Frame Shape"
   ]
  },
  {
   "cell_type": "code",
   "execution_count": 4,
   "id": "9dce2a96",
   "metadata": {},
   "outputs": [
    {
     "name": "stdout",
     "output_type": "stream",
     "text": [
      "The shape of Data Frame is : (891, 12)\n"
     ]
    }
   ],
   "source": [
    "print('The shape of Data Frame is :',df.shape)"
   ]
  },
  {
   "cell_type": "markdown",
   "id": "d18a4910",
   "metadata": {},
   "source": [
    "#### c). Data Frame info"
   ]
  },
  {
   "cell_type": "code",
   "execution_count": 5,
   "id": "64efa65b",
   "metadata": {},
   "outputs": [
    {
     "name": "stdout",
     "output_type": "stream",
     "text": [
      "<class 'pandas.core.frame.DataFrame'>\n",
      "RangeIndex: 891 entries, 0 to 890\n",
      "Data columns (total 12 columns):\n",
      " #   Column       Non-Null Count  Dtype  \n",
      "---  ------       --------------  -----  \n",
      " 0   PassengerId  891 non-null    int64  \n",
      " 1   Survived     891 non-null    int64  \n",
      " 2   Pclass       891 non-null    int64  \n",
      " 3   Name         891 non-null    object \n",
      " 4   Sex          891 non-null    object \n",
      " 5   Age          714 non-null    float64\n",
      " 6   SibSp        891 non-null    int64  \n",
      " 7   Parch        891 non-null    int64  \n",
      " 8   Ticket       891 non-null    object \n",
      " 9   Fare         891 non-null    float64\n",
      " 10  Cabin        204 non-null    object \n",
      " 11  Embarked     889 non-null    object \n",
      "dtypes: float64(2), int64(5), object(5)\n",
      "memory usage: 83.7+ KB\n"
     ]
    }
   ],
   "source": [
    "df.info()"
   ]
  },
  {
   "cell_type": "markdown",
   "id": "56ca4daf",
   "metadata": {},
   "source": [
    "##### Outcome :\n",
    "* There are total 12 columns in data frame\n",
    "* 'PassengerId','Survived','Pclass','SibSp','Parch' are int type.\n",
    "* 'Name','Sex','Ticket','Cabin','Embarked' are object type.\n",
    "* 'Age','Fare' are float type.\n",
    "* Some column like 'Age','Cabin' & 'Embarked' have null values."
   ]
  },
  {
   "cell_type": "markdown",
   "id": "d2d33aef",
   "metadata": {},
   "source": [
    "#### d). Checking the null values in the column"
   ]
  },
  {
   "cell_type": "code",
   "execution_count": 6,
   "id": "1ae3643e",
   "metadata": {},
   "outputs": [
    {
     "data": {
      "text/plain": [
       "PassengerId      0\n",
       "Survived         0\n",
       "Pclass           0\n",
       "Name             0\n",
       "Sex              0\n",
       "Age            177\n",
       "SibSp            0\n",
       "Parch            0\n",
       "Ticket           0\n",
       "Fare             0\n",
       "Cabin          687\n",
       "Embarked         2\n",
       "dtype: int64"
      ]
     },
     "execution_count": 6,
     "metadata": {},
     "output_type": "execute_result"
    }
   ],
   "source": [
    "df.isnull().sum()"
   ]
  },
  {
   "cell_type": "markdown",
   "id": "37bbffa3",
   "metadata": {},
   "source": [
    "##### Outcome :\n",
    "* 'Age' have 177 null value\n",
    "* 'Cabin' have 687 null value\n",
    "* 'Embarked' have 2 null value"
   ]
  },
  {
   "cell_type": "markdown",
   "id": "346608e4",
   "metadata": {},
   "source": [
    "#### e). Dealing with null values present in 'Age' "
   ]
  },
  {
   "cell_type": "markdown",
   "id": "e1f394df",
   "metadata": {},
   "source": [
    "#####      we can deal it with mean value"
   ]
  },
  {
   "cell_type": "code",
   "execution_count": 7,
   "id": "888ad0ed",
   "metadata": {},
   "outputs": [],
   "source": [
    "df['Age'] = df['Age'].fillna(df['Age'].mean())"
   ]
  },
  {
   "cell_type": "markdown",
   "id": "3a3f029a",
   "metadata": {},
   "source": [
    "##### Checking whether we deal with 'na' present in 'Age'"
   ]
  },
  {
   "cell_type": "code",
   "execution_count": 8,
   "id": "7e871232",
   "metadata": {},
   "outputs": [
    {
     "data": {
      "text/plain": [
       "PassengerId      0\n",
       "Survived         0\n",
       "Pclass           0\n",
       "Name             0\n",
       "Sex              0\n",
       "Age              0\n",
       "SibSp            0\n",
       "Parch            0\n",
       "Ticket           0\n",
       "Fare             0\n",
       "Cabin          687\n",
       "Embarked         2\n",
       "dtype: int64"
      ]
     },
     "execution_count": 8,
     "metadata": {},
     "output_type": "execute_result"
    }
   ],
   "source": [
    "df.isnull().sum()"
   ]
  },
  {
   "cell_type": "markdown",
   "id": "19836415",
   "metadata": {},
   "source": [
    "#### f). Dealing with null values present in 'Cabin'"
   ]
  },
  {
   "cell_type": "markdown",
   "id": "e2b5484a",
   "metadata": {},
   "source": [
    "##### As we have total 891 rows out of which 'Cabin' have 687 cell which have null value.So better to drop the 'Cabin' column."
   ]
  },
  {
   "cell_type": "code",
   "execution_count": 9,
   "id": "6fa77d77",
   "metadata": {},
   "outputs": [],
   "source": [
    "df = df.drop(columns='Cabin',axis=1)"
   ]
  },
  {
   "cell_type": "code",
   "execution_count": 10,
   "id": "a6954ec1",
   "metadata": {},
   "outputs": [
    {
     "data": {
      "text/plain": [
       "(891, 11)"
      ]
     },
     "execution_count": 10,
     "metadata": {},
     "output_type": "execute_result"
    }
   ],
   "source": [
    "df.shape"
   ]
  },
  {
   "cell_type": "code",
   "execution_count": 11,
   "id": "c6920071",
   "metadata": {},
   "outputs": [
    {
     "data": {
      "text/html": [
       "<div>\n",
       "<style scoped>\n",
       "    .dataframe tbody tr th:only-of-type {\n",
       "        vertical-align: middle;\n",
       "    }\n",
       "\n",
       "    .dataframe tbody tr th {\n",
       "        vertical-align: top;\n",
       "    }\n",
       "\n",
       "    .dataframe thead th {\n",
       "        text-align: right;\n",
       "    }\n",
       "</style>\n",
       "<table border=\"1\" class=\"dataframe\">\n",
       "  <thead>\n",
       "    <tr style=\"text-align: right;\">\n",
       "      <th></th>\n",
       "      <th>PassengerId</th>\n",
       "      <th>Survived</th>\n",
       "      <th>Pclass</th>\n",
       "      <th>Name</th>\n",
       "      <th>Sex</th>\n",
       "      <th>Age</th>\n",
       "      <th>SibSp</th>\n",
       "      <th>Parch</th>\n",
       "      <th>Ticket</th>\n",
       "      <th>Fare</th>\n",
       "      <th>Embarked</th>\n",
       "    </tr>\n",
       "  </thead>\n",
       "  <tbody>\n",
       "    <tr>\n",
       "      <th>0</th>\n",
       "      <td>1</td>\n",
       "      <td>0</td>\n",
       "      <td>3</td>\n",
       "      <td>Braund, Mr. Owen Harris</td>\n",
       "      <td>male</td>\n",
       "      <td>22.0</td>\n",
       "      <td>1</td>\n",
       "      <td>0</td>\n",
       "      <td>A/5 21171</td>\n",
       "      <td>7.2500</td>\n",
       "      <td>S</td>\n",
       "    </tr>\n",
       "    <tr>\n",
       "      <th>1</th>\n",
       "      <td>2</td>\n",
       "      <td>1</td>\n",
       "      <td>1</td>\n",
       "      <td>Cumings, Mrs. John Bradley (Florence Briggs Th...</td>\n",
       "      <td>female</td>\n",
       "      <td>38.0</td>\n",
       "      <td>1</td>\n",
       "      <td>0</td>\n",
       "      <td>PC 17599</td>\n",
       "      <td>71.2833</td>\n",
       "      <td>C</td>\n",
       "    </tr>\n",
       "    <tr>\n",
       "      <th>2</th>\n",
       "      <td>3</td>\n",
       "      <td>1</td>\n",
       "      <td>3</td>\n",
       "      <td>Heikkinen, Miss. Laina</td>\n",
       "      <td>female</td>\n",
       "      <td>26.0</td>\n",
       "      <td>0</td>\n",
       "      <td>0</td>\n",
       "      <td>STON/O2. 3101282</td>\n",
       "      <td>7.9250</td>\n",
       "      <td>S</td>\n",
       "    </tr>\n",
       "    <tr>\n",
       "      <th>3</th>\n",
       "      <td>4</td>\n",
       "      <td>1</td>\n",
       "      <td>1</td>\n",
       "      <td>Futrelle, Mrs. Jacques Heath (Lily May Peel)</td>\n",
       "      <td>female</td>\n",
       "      <td>35.0</td>\n",
       "      <td>1</td>\n",
       "      <td>0</td>\n",
       "      <td>113803</td>\n",
       "      <td>53.1000</td>\n",
       "      <td>S</td>\n",
       "    </tr>\n",
       "    <tr>\n",
       "      <th>4</th>\n",
       "      <td>5</td>\n",
       "      <td>0</td>\n",
       "      <td>3</td>\n",
       "      <td>Allen, Mr. William Henry</td>\n",
       "      <td>male</td>\n",
       "      <td>35.0</td>\n",
       "      <td>0</td>\n",
       "      <td>0</td>\n",
       "      <td>373450</td>\n",
       "      <td>8.0500</td>\n",
       "      <td>S</td>\n",
       "    </tr>\n",
       "  </tbody>\n",
       "</table>\n",
       "</div>"
      ],
      "text/plain": [
       "   PassengerId  Survived  Pclass  \\\n",
       "0            1         0       3   \n",
       "1            2         1       1   \n",
       "2            3         1       3   \n",
       "3            4         1       1   \n",
       "4            5         0       3   \n",
       "\n",
       "                                                Name     Sex   Age  SibSp  \\\n",
       "0                            Braund, Mr. Owen Harris    male  22.0      1   \n",
       "1  Cumings, Mrs. John Bradley (Florence Briggs Th...  female  38.0      1   \n",
       "2                             Heikkinen, Miss. Laina  female  26.0      0   \n",
       "3       Futrelle, Mrs. Jacques Heath (Lily May Peel)  female  35.0      1   \n",
       "4                           Allen, Mr. William Henry    male  35.0      0   \n",
       "\n",
       "   Parch            Ticket     Fare Embarked  \n",
       "0      0         A/5 21171   7.2500        S  \n",
       "1      0          PC 17599  71.2833        C  \n",
       "2      0  STON/O2. 3101282   7.9250        S  \n",
       "3      0            113803  53.1000        S  \n",
       "4      0            373450   8.0500        S  "
      ]
     },
     "execution_count": 11,
     "metadata": {},
     "output_type": "execute_result"
    }
   ],
   "source": [
    "df.head()"
   ]
  },
  {
   "cell_type": "markdown",
   "id": "d96a195a",
   "metadata": {},
   "source": [
    "#### g). Dealing with null values present in 'Embarked'"
   ]
  },
  {
   "cell_type": "markdown",
   "id": "c6265ed7",
   "metadata": {},
   "source": [
    "##### Checking the value count for 'Embarked'"
   ]
  },
  {
   "cell_type": "code",
   "execution_count": 12,
   "id": "33f9719e",
   "metadata": {},
   "outputs": [
    {
     "data": {
      "text/plain": [
       "S    644\n",
       "C    168\n",
       "Q     77\n",
       "Name: Embarked, dtype: int64"
      ]
     },
     "execution_count": 12,
     "metadata": {},
     "output_type": "execute_result"
    }
   ],
   "source": [
    "df['Embarked'].value_counts()"
   ]
  },
  {
   "cell_type": "markdown",
   "id": "56f68521",
   "metadata": {},
   "source": [
    "##### Outcome : \n",
    "* There are 3 type of value in 'Embarked' as it is not continous data so we can not deal it with mean,avg etc. So better to drop it. "
   ]
  },
  {
   "cell_type": "code",
   "execution_count": 13,
   "id": "2951f388",
   "metadata": {},
   "outputs": [],
   "source": [
    "df = df.dropna(axis=0)"
   ]
  },
  {
   "cell_type": "code",
   "execution_count": 14,
   "id": "f94355e9",
   "metadata": {},
   "outputs": [
    {
     "data": {
      "text/plain": [
       "(889, 11)"
      ]
     },
     "execution_count": 14,
     "metadata": {},
     "output_type": "execute_result"
    }
   ],
   "source": [
    "df.shape"
   ]
  },
  {
   "cell_type": "code",
   "execution_count": 15,
   "id": "d148af05",
   "metadata": {},
   "outputs": [
    {
     "name": "stdout",
     "output_type": "stream",
     "text": [
      "<class 'pandas.core.frame.DataFrame'>\n",
      "Int64Index: 889 entries, 0 to 890\n",
      "Data columns (total 11 columns):\n",
      " #   Column       Non-Null Count  Dtype  \n",
      "---  ------       --------------  -----  \n",
      " 0   PassengerId  889 non-null    int64  \n",
      " 1   Survived     889 non-null    int64  \n",
      " 2   Pclass       889 non-null    int64  \n",
      " 3   Name         889 non-null    object \n",
      " 4   Sex          889 non-null    object \n",
      " 5   Age          889 non-null    float64\n",
      " 6   SibSp        889 non-null    int64  \n",
      " 7   Parch        889 non-null    int64  \n",
      " 8   Ticket       889 non-null    object \n",
      " 9   Fare         889 non-null    float64\n",
      " 10  Embarked     889 non-null    object \n",
      "dtypes: float64(2), int64(5), object(4)\n",
      "memory usage: 83.3+ KB\n"
     ]
    }
   ],
   "source": [
    "df.info()"
   ]
  },
  {
   "cell_type": "code",
   "execution_count": 16,
   "id": "4dbfdbea",
   "metadata": {},
   "outputs": [
    {
     "data": {
      "text/plain": [
       "PassengerId    0\n",
       "Survived       0\n",
       "Pclass         0\n",
       "Name           0\n",
       "Sex            0\n",
       "Age            0\n",
       "SibSp          0\n",
       "Parch          0\n",
       "Ticket         0\n",
       "Fare           0\n",
       "Embarked       0\n",
       "dtype: int64"
      ]
     },
     "execution_count": 16,
     "metadata": {},
     "output_type": "execute_result"
    }
   ],
   "source": [
    "df.isnull().sum()"
   ]
  },
  {
   "cell_type": "markdown",
   "id": "84030416",
   "metadata": {},
   "source": [
    "##### Outcome :\n",
    "* Now i successfully deal with null value. I can proceed further."
   ]
  },
  {
   "cell_type": "markdown",
   "id": "5540e932",
   "metadata": {},
   "source": [
    "### 4. Data Visualization of individual variable"
   ]
  },
  {
   "cell_type": "markdown",
   "id": "c97e7f6f",
   "metadata": {},
   "source": [
    "#### a). Visualize the data distribution based on 'Sex' "
   ]
  },
  {
   "cell_type": "code",
   "execution_count": 17,
   "id": "4a60aa68",
   "metadata": {},
   "outputs": [
    {
     "data": {
      "text/plain": [
       "<AxesSubplot:xlabel='Sex', ylabel='count'>"
      ]
     },
     "execution_count": 17,
     "metadata": {},
     "output_type": "execute_result"
    },
    {
     "data": {
      "image/png": "[encoded data removed]",
      "text/plain": [
       "<Figure size 432x288 with 1 Axes>"
      ]
     },
     "metadata": {
      "needs_background": "light"
     },
     "output_type": "display_data"
    }
   ],
   "source": [
    "sns.countplot(x='Sex',data=df)"
   ]
  },
  {
   "cell_type": "code",
   "execution_count": 18,
   "id": "db9bbefb",
   "metadata": {},
   "outputs": [
    {
     "data": {
      "text/plain": [
       "male      577\n",
       "female    312\n",
       "Name: Sex, dtype: int64"
      ]
     },
     "execution_count": 18,
     "metadata": {},
     "output_type": "execute_result"
    }
   ],
   "source": [
    "df['Sex'].value_counts()"
   ]
  },
  {
   "cell_type": "markdown",
   "id": "6e302569",
   "metadata": {},
   "source": [
    "#### b). Visualize the data distribution based on 'Age' "
   ]
  },
  {
   "cell_type": "code",
   "execution_count": 19,
   "id": "af97bb6f",
   "metadata": {},
   "outputs": [
    {
     "data": {
      "text/plain": [
       "<AxesSubplot:xlabel='Age', ylabel='count'>"
      ]
     },
     "execution_count": 19,
     "metadata": {},
     "output_type": "execute_result"
    },
    {
     "data": {
      "image/png": "[encoded data removed]",
      "text/plain": [
       "<Figure size 432x288 with 1 Axes>"
      ]
     },
     "metadata": {
      "needs_background": "light"
     },
     "output_type": "display_data"
    }
   ],
   "source": [
    "sns.countplot(x='Age',data=df)"
   ]
  },
  {
   "cell_type": "code",
   "execution_count": 20,
   "id": "06d9fb9d",
   "metadata": {},
   "outputs": [
    {
     "data": {
      "text/plain": [
       "29.699118    177\n",
       "24.000000     30\n",
       "22.000000     27\n",
       "18.000000     26\n",
       "30.000000     25\n",
       "            ... \n",
       "53.000000      1\n",
       "55.500000      1\n",
       "0.920000       1\n",
       "24.500000      1\n",
       "70.500000      1\n",
       "Name: Age, Length: 89, dtype: int64"
      ]
     },
     "execution_count": 20,
     "metadata": {},
     "output_type": "execute_result"
    }
   ],
   "source": [
    "df['Age'].value_counts()"
   ]
  },
  {
   "cell_type": "markdown",
   "id": "a91b5c63",
   "metadata": {},
   "source": [
    "#### c). Visualize the data distribution based on 'Pclass' "
   ]
  },
  {
   "cell_type": "code",
   "execution_count": 21,
   "id": "0b2192a8",
   "metadata": {},
   "outputs": [
    {
     "data": {
      "text/plain": [
       "<AxesSubplot:xlabel='Pclass', ylabel='count'>"
      ]
     },
     "execution_count": 21,
     "metadata": {},
     "output_type": "execute_result"
    },
    {
     "data": {
      "image/png": "[encoded data removed]",
      "text/plain": [
       "<Figure size 432x288 with 1 Axes>"
      ]
     },
     "metadata": {
      "needs_background": "light"
     },
     "output_type": "display_data"
    }
   ],
   "source": [
    "sns.countplot(x='Pclass',data=df)"
   ]
  },
  {
   "cell_type": "code",
   "execution_count": 22,
   "id": "083d84ec",
   "metadata": {},
   "outputs": [
    {
     "data": {
      "text/plain": [
       "3    491\n",
       "1    214\n",
       "2    184\n",
       "Name: Pclass, dtype: int64"
      ]
     },
     "execution_count": 22,
     "metadata": {},
     "output_type": "execute_result"
    }
   ],
   "source": [
    "df['Pclass'].value_counts()"
   ]
  },
  {
   "cell_type": "markdown",
   "id": "f503c89d",
   "metadata": {},
   "source": [
    "#### d). Visualize the data distribution based on 'Survived' "
   ]
  },
  {
   "cell_type": "code",
   "execution_count": 23,
   "id": "9f98ed9b",
   "metadata": {},
   "outputs": [
    {
     "data": {
      "text/plain": [
       "<AxesSubplot:xlabel='Survived', ylabel='count'>"
      ]
     },
     "execution_count": 23,
     "metadata": {},
     "output_type": "execute_result"
    },
    {
     "data": {
      "image/png": "[encoded data removed]",
      "text/plain": [
       "<Figure size 432x288 with 1 Axes>"
      ]
     },
     "metadata": {
      "needs_background": "light"
     },
     "output_type": "display_data"
    }
   ],
   "source": [
    "sns.countplot(x='Survived',data=df)"
   ]
  },
  {
   "cell_type": "code",
   "execution_count": 24,
   "id": "618a6ee5",
   "metadata": {},
   "outputs": [
    {
     "data": {
      "text/plain": [
       "0    549\n",
       "1    340\n",
       "Name: Survived, dtype: int64"
      ]
     },
     "execution_count": 24,
     "metadata": {},
     "output_type": "execute_result"
    }
   ],
   "source": [
    "df['Survived'].value_counts()"
   ]
  },
  {
   "cell_type": "markdown",
   "id": "4927e382",
   "metadata": {},
   "source": [
    "#### e). Visualize the data distribution based on 'Embarked' "
   ]
  },
  {
   "cell_type": "code",
   "execution_count": 25,
   "id": "2ab17369",
   "metadata": {},
   "outputs": [
    {
     "data": {
      "text/plain": [
       "<AxesSubplot:xlabel='Embarked', ylabel='count'>"
      ]
     },
     "execution_count": 25,
     "metadata": {},
     "output_type": "execute_result"
    },
    {
     "data": {
      "image/png": "[encoded data removed]",
      "text/plain": [
       "<Figure size 432x288 with 1 Axes>"
      ]
     },
     "metadata": {
      "needs_background": "light"
     },
     "output_type": "display_data"
    }
   ],
   "source": [
    "sns.countplot(x='Embarked',data=df)"
   ]
  },
  {
   "cell_type": "code",
   "execution_count": 26,
   "id": "4237ffe0",
   "metadata": {},
   "outputs": [
    {
     "data": {
      "text/plain": [
       "S    644\n",
       "C    168\n",
       "Q     77\n",
       "Name: Embarked, dtype: int64"
      ]
     },
     "execution_count": 26,
     "metadata": {},
     "output_type": "execute_result"
    }
   ],
   "source": [
    "df['Embarked'].value_counts()"
   ]
  },
  {
   "cell_type": "markdown",
   "id": "8f69240d",
   "metadata": {},
   "source": [
    "### 5. Data Describe"
   ]
  },
  {
   "cell_type": "code",
   "execution_count": 27,
   "id": "2f94f472",
   "metadata": {},
   "outputs": [
    {
     "data": {
      "text/html": [
       "<div>\n",
       "<style scoped>\n",
       "    .dataframe tbody tr th:only-of-type {\n",
       "        vertical-align: middle;\n",
       "    }\n",
       "\n",
       "    .dataframe tbody tr th {\n",
       "        vertical-align: top;\n",
       "    }\n",
       "\n",
       "    .dataframe thead th {\n",
       "        text-align: right;\n",
       "    }\n",
       "</style>\n",
       "<table border=\"1\" class=\"dataframe\">\n",
       "  <thead>\n",
       "    <tr style=\"text-align: right;\">\n",
       "      <th></th>\n",
       "      <th>PassengerId</th>\n",
       "      <th>Survived</th>\n",
       "      <th>Pclass</th>\n",
       "      <th>Age</th>\n",
       "      <th>SibSp</th>\n",
       "      <th>Parch</th>\n",
       "      <th>Fare</th>\n",
       "    </tr>\n",
       "  </thead>\n",
       "  <tbody>\n",
       "    <tr>\n",
       "      <th>count</th>\n",
       "      <td>889.000000</td>\n",
       "      <td>889.000000</td>\n",
       "      <td>889.000000</td>\n",
       "      <td>889.000000</td>\n",
       "      <td>889.000000</td>\n",
       "      <td>889.000000</td>\n",
       "      <td>889.000000</td>\n",
       "    </tr>\n",
       "    <tr>\n",
       "      <th>mean</th>\n",
       "      <td>446.000000</td>\n",
       "      <td>0.382452</td>\n",
       "      <td>2.311586</td>\n",
       "      <td>29.653446</td>\n",
       "      <td>0.524184</td>\n",
       "      <td>0.382452</td>\n",
       "      <td>32.096681</td>\n",
       "    </tr>\n",
       "    <tr>\n",
       "      <th>std</th>\n",
       "      <td>256.998173</td>\n",
       "      <td>0.486260</td>\n",
       "      <td>0.834700</td>\n",
       "      <td>12.968366</td>\n",
       "      <td>1.103705</td>\n",
       "      <td>0.806761</td>\n",
       "      <td>49.697504</td>\n",
       "    </tr>\n",
       "    <tr>\n",
       "      <th>min</th>\n",
       "      <td>1.000000</td>\n",
       "      <td>0.000000</td>\n",
       "      <td>1.000000</td>\n",
       "      <td>0.420000</td>\n",
       "      <td>0.000000</td>\n",
       "      <td>0.000000</td>\n",
       "      <td>0.000000</td>\n",
       "    </tr>\n",
       "    <tr>\n",
       "      <th>25%</th>\n",
       "      <td>224.000000</td>\n",
       "      <td>0.000000</td>\n",
       "      <td>2.000000</td>\n",
       "      <td>22.000000</td>\n",
       "      <td>0.000000</td>\n",
       "      <td>0.000000</td>\n",
       "      <td>7.895800</td>\n",
       "    </tr>\n",
       "    <tr>\n",
       "      <th>50%</th>\n",
       "      <td>446.000000</td>\n",
       "      <td>0.000000</td>\n",
       "      <td>3.000000</td>\n",
       "      <td>29.699118</td>\n",
       "      <td>0.000000</td>\n",
       "      <td>0.000000</td>\n",
       "      <td>14.454200</td>\n",
       "    </tr>\n",
       "    <tr>\n",
       "      <th>75%</th>\n",
       "      <td>668.000000</td>\n",
       "      <td>1.000000</td>\n",
       "      <td>3.000000</td>\n",
       "      <td>35.000000</td>\n",
       "      <td>1.000000</td>\n",
       "      <td>0.000000</td>\n",
       "      <td>31.000000</td>\n",
       "    </tr>\n",
       "    <tr>\n",
       "      <th>max</th>\n",
       "      <td>891.000000</td>\n",
       "      <td>1.000000</td>\n",
       "      <td>3.000000</td>\n",
       "      <td>80.000000</td>\n",
       "      <td>8.000000</td>\n",
       "      <td>6.000000</td>\n",
       "      <td>512.329200</td>\n",
       "    </tr>\n",
       "  </tbody>\n",
       "</table>\n",
       "</div>"
      ],
      "text/plain": [
       "       PassengerId    Survived      Pclass         Age       SibSp  \\\n",
       "count   889.000000  889.000000  889.000000  889.000000  889.000000   \n",
       "mean    446.000000    0.382452    2.311586   29.653446    0.524184   \n",
       "std     256.998173    0.486260    0.834700   12.968366    1.103705   \n",
       "min       1.000000    0.000000    1.000000    0.420000    0.000000   \n",
       "25%     224.000000    0.000000    2.000000   22.000000    0.000000   \n",
       "50%     446.000000    0.000000    3.000000   29.699118    0.000000   \n",
       "75%     668.000000    1.000000    3.000000   35.000000    1.000000   \n",
       "max     891.000000    1.000000    3.000000   80.000000    8.000000   \n",
       "\n",
       "            Parch        Fare  \n",
       "count  889.000000  889.000000  \n",
       "mean     0.382452   32.096681  \n",
       "std      0.806761   49.697504  \n",
       "min      0.000000    0.000000  \n",
       "25%      0.000000    7.895800  \n",
       "50%      0.000000   14.454200  \n",
       "75%      0.000000   31.000000  \n",
       "max      6.000000  512.329200  "
      ]
     },
     "execution_count": 27,
     "metadata": {},
     "output_type": "execute_result"
    }
   ],
   "source": [
    "df.describe()"
   ]
  },
  {
   "cell_type": "code",
   "execution_count": 28,
   "id": "80aa7504",
   "metadata": {},
   "outputs": [
    {
     "data": {
      "text/html": [
       "<div>\n",
       "<style scoped>\n",
       "    .dataframe tbody tr th:only-of-type {\n",
       "        vertical-align: middle;\n",
       "    }\n",
       "\n",
       "    .dataframe tbody tr th {\n",
       "        vertical-align: top;\n",
       "    }\n",
       "\n",
       "    .dataframe thead th {\n",
       "        text-align: right;\n",
       "    }\n",
       "</style>\n",
       "<table border=\"1\" class=\"dataframe\">\n",
       "  <thead>\n",
       "    <tr style=\"text-align: right;\">\n",
       "      <th></th>\n",
       "      <th>PassengerId</th>\n",
       "      <th>Survived</th>\n",
       "      <th>Pclass</th>\n",
       "      <th>Name</th>\n",
       "      <th>Sex</th>\n",
       "      <th>Age</th>\n",
       "      <th>SibSp</th>\n",
       "      <th>Parch</th>\n",
       "      <th>Ticket</th>\n",
       "      <th>Fare</th>\n",
       "      <th>Embarked</th>\n",
       "    </tr>\n",
       "  </thead>\n",
       "  <tbody>\n",
       "    <tr>\n",
       "      <th>0</th>\n",
       "      <td>1</td>\n",
       "      <td>0</td>\n",
       "      <td>3</td>\n",
       "      <td>Braund, Mr. Owen Harris</td>\n",
       "      <td>male</td>\n",
       "      <td>22.0</td>\n",
       "      <td>1</td>\n",
       "      <td>0</td>\n",
       "      <td>A/5 21171</td>\n",
       "      <td>7.2500</td>\n",
       "      <td>S</td>\n",
       "    </tr>\n",
       "    <tr>\n",
       "      <th>1</th>\n",
       "      <td>2</td>\n",
       "      <td>1</td>\n",
       "      <td>1</td>\n",
       "      <td>Cumings, Mrs. John Bradley (Florence Briggs Th...</td>\n",
       "      <td>female</td>\n",
       "      <td>38.0</td>\n",
       "      <td>1</td>\n",
       "      <td>0</td>\n",
       "      <td>PC 17599</td>\n",
       "      <td>71.2833</td>\n",
       "      <td>C</td>\n",
       "    </tr>\n",
       "    <tr>\n",
       "      <th>2</th>\n",
       "      <td>3</td>\n",
       "      <td>1</td>\n",
       "      <td>3</td>\n",
       "      <td>Heikkinen, Miss. Laina</td>\n",
       "      <td>female</td>\n",
       "      <td>26.0</td>\n",
       "      <td>0</td>\n",
       "      <td>0</td>\n",
       "      <td>STON/O2. 3101282</td>\n",
       "      <td>7.9250</td>\n",
       "      <td>S</td>\n",
       "    </tr>\n",
       "    <tr>\n",
       "      <th>3</th>\n",
       "      <td>4</td>\n",
       "      <td>1</td>\n",
       "      <td>1</td>\n",
       "      <td>Futrelle, Mrs. Jacques Heath (Lily May Peel)</td>\n",
       "      <td>female</td>\n",
       "      <td>35.0</td>\n",
       "      <td>1</td>\n",
       "      <td>0</td>\n",
       "      <td>113803</td>\n",
       "      <td>53.1000</td>\n",
       "      <td>S</td>\n",
       "    </tr>\n",
       "    <tr>\n",
       "      <th>4</th>\n",
       "      <td>5</td>\n",
       "      <td>0</td>\n",
       "      <td>3</td>\n",
       "      <td>Allen, Mr. William Henry</td>\n",
       "      <td>male</td>\n",
       "      <td>35.0</td>\n",
       "      <td>0</td>\n",
       "      <td>0</td>\n",
       "      <td>373450</td>\n",
       "      <td>8.0500</td>\n",
       "      <td>S</td>\n",
       "    </tr>\n",
       "  </tbody>\n",
       "</table>\n",
       "</div>"
      ],
      "text/plain": [
       "   PassengerId  Survived  Pclass  \\\n",
       "0            1         0       3   \n",
       "1            2         1       1   \n",
       "2            3         1       3   \n",
       "3            4         1       1   \n",
       "4            5         0       3   \n",
       "\n",
       "                                                Name     Sex   Age  SibSp  \\\n",
       "0                            Braund, Mr. Owen Harris    male  22.0      1   \n",
       "1  Cumings, Mrs. John Bradley (Florence Briggs Th...  female  38.0      1   \n",
       "2                             Heikkinen, Miss. Laina  female  26.0      0   \n",
       "3       Futrelle, Mrs. Jacques Heath (Lily May Peel)  female  35.0      1   \n",
       "4                           Allen, Mr. William Henry    male  35.0      0   \n",
       "\n",
       "   Parch            Ticket     Fare Embarked  \n",
       "0      0         A/5 21171   7.2500        S  \n",
       "1      0          PC 17599  71.2833        C  \n",
       "2      0  STON/O2. 3101282   7.9250        S  \n",
       "3      0            113803  53.1000        S  \n",
       "4      0            373450   8.0500        S  "
      ]
     },
     "execution_count": 28,
     "metadata": {},
     "output_type": "execute_result"
    }
   ],
   "source": [
    "df.head()"
   ]
  },
  {
   "cell_type": "markdown",
   "id": "971cf6d8",
   "metadata": {},
   "source": [
    "##### Outcome :\n",
    "* 'PassengerId' is unique for everyone and is not for our use.\n",
    "* 'Name' is not for our use also name have string value that our model not understand.\n",
    "* 'Ticket' is not our use.\n",
    "* 'SibSp' is the number of siblings or spouse of a person onboard which i observed from web about this dataset.\n",
    "* 'Parch' contained the number of parents or children each passenger was touring with which i observed from web about this dataset.\n",
    "* 'Embarked' is define as the origin of passenger. So i am going to both situation with it and without it too see the impact.\n",
    "* 'Sex' have object data type so we need to conver it into int type as our model not able to under object value.\n",
    "* 'Survived' is our target variable as per problem statement. \n",
    "\n",
    "##### Decision From Outcome :\n",
    "* By adding 'SibSp' and 'Parch' i am creating a new column 'Family'\n",
    "* Replacing 'male' as 1 & 'female' as 0\n",
    "* Replacing 0 as 'Dead' & 1 as 'Survived'\n",
    "* Dropping the useless column : 'PassengerId', 'Name', 'Ticket'"
   ]
  },
  {
   "cell_type": "markdown",
   "id": "6a8507cd",
   "metadata": {},
   "source": [
    "### 6. Data Frame Refining"
   ]
  },
  {
   "cell_type": "markdown",
   "id": "3d923b0b",
   "metadata": {},
   "source": [
    "#### a). Adding new column into data frame which conatain the adding of 'SibSp' & 'Parch'"
   ]
  },
  {
   "cell_type": "code",
   "execution_count": 29,
   "id": "354c8582",
   "metadata": {},
   "outputs": [],
   "source": [
    "df['Family'] = df['SibSp'] + df['Parch']"
   ]
  },
  {
   "cell_type": "code",
   "execution_count": 30,
   "id": "3eea12ba",
   "metadata": {},
   "outputs": [
    {
     "data": {
      "text/html": [
       "<div>\n",
       "<style scoped>\n",
       "    .dataframe tbody tr th:only-of-type {\n",
       "        vertical-align: middle;\n",
       "    }\n",
       "\n",
       "    .dataframe tbody tr th {\n",
       "        vertical-align: top;\n",
       "    }\n",
       "\n",
       "    .dataframe thead th {\n",
       "        text-align: right;\n",
       "    }\n",
       "</style>\n",
       "<table border=\"1\" class=\"dataframe\">\n",
       "  <thead>\n",
       "    <tr style=\"text-align: right;\">\n",
       "      <th></th>\n",
       "      <th>PassengerId</th>\n",
       "      <th>Survived</th>\n",
       "      <th>Pclass</th>\n",
       "      <th>Name</th>\n",
       "      <th>Sex</th>\n",
       "      <th>Age</th>\n",
       "      <th>SibSp</th>\n",
       "      <th>Parch</th>\n",
       "      <th>Ticket</th>\n",
       "      <th>Fare</th>\n",
       "      <th>Embarked</th>\n",
       "      <th>Family</th>\n",
       "    </tr>\n",
       "  </thead>\n",
       "  <tbody>\n",
       "    <tr>\n",
       "      <th>0</th>\n",
       "      <td>1</td>\n",
       "      <td>0</td>\n",
       "      <td>3</td>\n",
       "      <td>Braund, Mr. Owen Harris</td>\n",
       "      <td>male</td>\n",
       "      <td>22.0</td>\n",
       "      <td>1</td>\n",
       "      <td>0</td>\n",
       "      <td>A/5 21171</td>\n",
       "      <td>7.2500</td>\n",
       "      <td>S</td>\n",
       "      <td>1</td>\n",
       "    </tr>\n",
       "    <tr>\n",
       "      <th>1</th>\n",
       "      <td>2</td>\n",
       "      <td>1</td>\n",
       "      <td>1</td>\n",
       "      <td>Cumings, Mrs. John Bradley (Florence Briggs Th...</td>\n",
       "      <td>female</td>\n",
       "      <td>38.0</td>\n",
       "      <td>1</td>\n",
       "      <td>0</td>\n",
       "      <td>PC 17599</td>\n",
       "      <td>71.2833</td>\n",
       "      <td>C</td>\n",
       "      <td>1</td>\n",
       "    </tr>\n",
       "    <tr>\n",
       "      <th>2</th>\n",
       "      <td>3</td>\n",
       "      <td>1</td>\n",
       "      <td>3</td>\n",
       "      <td>Heikkinen, Miss. Laina</td>\n",
       "      <td>female</td>\n",
       "      <td>26.0</td>\n",
       "      <td>0</td>\n",
       "      <td>0</td>\n",
       "      <td>STON/O2. 3101282</td>\n",
       "      <td>7.9250</td>\n",
       "      <td>S</td>\n",
       "      <td>0</td>\n",
       "    </tr>\n",
       "    <tr>\n",
       "      <th>3</th>\n",
       "      <td>4</td>\n",
       "      <td>1</td>\n",
       "      <td>1</td>\n",
       "      <td>Futrelle, Mrs. Jacques Heath (Lily May Peel)</td>\n",
       "      <td>female</td>\n",
       "      <td>35.0</td>\n",
       "      <td>1</td>\n",
       "      <td>0</td>\n",
       "      <td>113803</td>\n",
       "      <td>53.1000</td>\n",
       "      <td>S</td>\n",
       "      <td>1</td>\n",
       "    </tr>\n",
       "    <tr>\n",
       "      <th>4</th>\n",
       "      <td>5</td>\n",
       "      <td>0</td>\n",
       "      <td>3</td>\n",
       "      <td>Allen, Mr. William Henry</td>\n",
       "      <td>male</td>\n",
       "      <td>35.0</td>\n",
       "      <td>0</td>\n",
       "      <td>0</td>\n",
       "      <td>373450</td>\n",
       "      <td>8.0500</td>\n",
       "      <td>S</td>\n",
       "      <td>0</td>\n",
       "    </tr>\n",
       "  </tbody>\n",
       "</table>\n",
       "</div>"
      ],
      "text/plain": [
       "   PassengerId  Survived  Pclass  \\\n",
       "0            1         0       3   \n",
       "1            2         1       1   \n",
       "2            3         1       3   \n",
       "3            4         1       1   \n",
       "4            5         0       3   \n",
       "\n",
       "                                                Name     Sex   Age  SibSp  \\\n",
       "0                            Braund, Mr. Owen Harris    male  22.0      1   \n",
       "1  Cumings, Mrs. John Bradley (Florence Briggs Th...  female  38.0      1   \n",
       "2                             Heikkinen, Miss. Laina  female  26.0      0   \n",
       "3       Futrelle, Mrs. Jacques Heath (Lily May Peel)  female  35.0      1   \n",
       "4                           Allen, Mr. William Henry    male  35.0      0   \n",
       "\n",
       "   Parch            Ticket     Fare Embarked  Family  \n",
       "0      0         A/5 21171   7.2500        S       1  \n",
       "1      0          PC 17599  71.2833        C       1  \n",
       "2      0  STON/O2. 3101282   7.9250        S       0  \n",
       "3      0            113803  53.1000        S       1  \n",
       "4      0            373450   8.0500        S       0  "
      ]
     },
     "execution_count": 30,
     "metadata": {},
     "output_type": "execute_result"
    }
   ],
   "source": [
    "df.head()"
   ]
  },
  {
   "cell_type": "markdown",
   "id": "3ddcc8b5",
   "metadata": {},
   "source": [
    "#### b). Replacing the 'male' as 1 & 'female' as 0 in 'Sex'"
   ]
  },
  {
   "cell_type": "code",
   "execution_count": 31,
   "id": "6c3a4713",
   "metadata": {},
   "outputs": [],
   "source": [
    "df['Sex'] = df['Sex'].replace({'male':1,'female':0})"
   ]
  },
  {
   "cell_type": "code",
   "execution_count": 32,
   "id": "d55104f5",
   "metadata": {},
   "outputs": [
    {
     "data": {
      "text/html": [
       "<div>\n",
       "<style scoped>\n",
       "    .dataframe tbody tr th:only-of-type {\n",
       "        vertical-align: middle;\n",
       "    }\n",
       "\n",
       "    .dataframe tbody tr th {\n",
       "        vertical-align: top;\n",
       "    }\n",
       "\n",
       "    .dataframe thead th {\n",
       "        text-align: right;\n",
       "    }\n",
       "</style>\n",
       "<table border=\"1\" class=\"dataframe\">\n",
       "  <thead>\n",
       "    <tr style=\"text-align: right;\">\n",
       "      <th></th>\n",
       "      <th>PassengerId</th>\n",
       "      <th>Survived</th>\n",
       "      <th>Pclass</th>\n",
       "      <th>Name</th>\n",
       "      <th>Sex</th>\n",
       "      <th>Age</th>\n",
       "      <th>SibSp</th>\n",
       "      <th>Parch</th>\n",
       "      <th>Ticket</th>\n",
       "      <th>Fare</th>\n",
       "      <th>Embarked</th>\n",
       "      <th>Family</th>\n",
       "    </tr>\n",
       "  </thead>\n",
       "  <tbody>\n",
       "    <tr>\n",
       "      <th>0</th>\n",
       "      <td>1</td>\n",
       "      <td>0</td>\n",
       "      <td>3</td>\n",
       "      <td>Braund, Mr. Owen Harris</td>\n",
       "      <td>1</td>\n",
       "      <td>22.0</td>\n",
       "      <td>1</td>\n",
       "      <td>0</td>\n",
       "      <td>A/5 21171</td>\n",
       "      <td>7.2500</td>\n",
       "      <td>S</td>\n",
       "      <td>1</td>\n",
       "    </tr>\n",
       "    <tr>\n",
       "      <th>1</th>\n",
       "      <td>2</td>\n",
       "      <td>1</td>\n",
       "      <td>1</td>\n",
       "      <td>Cumings, Mrs. John Bradley (Florence Briggs Th...</td>\n",
       "      <td>0</td>\n",
       "      <td>38.0</td>\n",
       "      <td>1</td>\n",
       "      <td>0</td>\n",
       "      <td>PC 17599</td>\n",
       "      <td>71.2833</td>\n",
       "      <td>C</td>\n",
       "      <td>1</td>\n",
       "    </tr>\n",
       "    <tr>\n",
       "      <th>2</th>\n",
       "      <td>3</td>\n",
       "      <td>1</td>\n",
       "      <td>3</td>\n",
       "      <td>Heikkinen, Miss. Laina</td>\n",
       "      <td>0</td>\n",
       "      <td>26.0</td>\n",
       "      <td>0</td>\n",
       "      <td>0</td>\n",
       "      <td>STON/O2. 3101282</td>\n",
       "      <td>7.9250</td>\n",
       "      <td>S</td>\n",
       "      <td>0</td>\n",
       "    </tr>\n",
       "    <tr>\n",
       "      <th>3</th>\n",
       "      <td>4</td>\n",
       "      <td>1</td>\n",
       "      <td>1</td>\n",
       "      <td>Futrelle, Mrs. Jacques Heath (Lily May Peel)</td>\n",
       "      <td>0</td>\n",
       "      <td>35.0</td>\n",
       "      <td>1</td>\n",
       "      <td>0</td>\n",
       "      <td>113803</td>\n",
       "      <td>53.1000</td>\n",
       "      <td>S</td>\n",
       "      <td>1</td>\n",
       "    </tr>\n",
       "    <tr>\n",
       "      <th>4</th>\n",
       "      <td>5</td>\n",
       "      <td>0</td>\n",
       "      <td>3</td>\n",
       "      <td>Allen, Mr. William Henry</td>\n",
       "      <td>1</td>\n",
       "      <td>35.0</td>\n",
       "      <td>0</td>\n",
       "      <td>0</td>\n",
       "      <td>373450</td>\n",
       "      <td>8.0500</td>\n",
       "      <td>S</td>\n",
       "      <td>0</td>\n",
       "    </tr>\n",
       "  </tbody>\n",
       "</table>\n",
       "</div>"
      ],
      "text/plain": [
       "   PassengerId  Survived  Pclass  \\\n",
       "0            1         0       3   \n",
       "1            2         1       1   \n",
       "2            3         1       3   \n",
       "3            4         1       1   \n",
       "4            5         0       3   \n",
       "\n",
       "                                                Name  Sex   Age  SibSp  Parch  \\\n",
       "0                            Braund, Mr. Owen Harris    1  22.0      1      0   \n",
       "1  Cumings, Mrs. John Bradley (Florence Briggs Th...    0  38.0      1      0   \n",
       "2                             Heikkinen, Miss. Laina    0  26.0      0      0   \n",
       "3       Futrelle, Mrs. Jacques Heath (Lily May Peel)    0  35.0      1      0   \n",
       "4                           Allen, Mr. William Henry    1  35.0      0      0   \n",
       "\n",
       "             Ticket     Fare Embarked  Family  \n",
       "0         A/5 21171   7.2500        S       1  \n",
       "1          PC 17599  71.2833        C       1  \n",
       "2  STON/O2. 3101282   7.9250        S       0  \n",
       "3            113803  53.1000        S       1  \n",
       "4            373450   8.0500        S       0  "
      ]
     },
     "execution_count": 32,
     "metadata": {},
     "output_type": "execute_result"
    }
   ],
   "source": [
    "df.head()"
   ]
  },
  {
   "cell_type": "markdown",
   "id": "07bd6146",
   "metadata": {},
   "source": [
    "#### c). Replacing the 'S' as 0,'C' as 1 & 'Q' as 2"
   ]
  },
  {
   "cell_type": "code",
   "execution_count": 33,
   "id": "d7511d1a",
   "metadata": {},
   "outputs": [],
   "source": [
    "df['Embarked'] = df['Embarked'].replace({'S':0,'C':1,'Q':2})"
   ]
  },
  {
   "cell_type": "code",
   "execution_count": 34,
   "id": "8d5c1ed5",
   "metadata": {},
   "outputs": [
    {
     "data": {
      "text/html": [
       "<div>\n",
       "<style scoped>\n",
       "    .dataframe tbody tr th:only-of-type {\n",
       "        vertical-align: middle;\n",
       "    }\n",
       "\n",
       "    .dataframe tbody tr th {\n",
       "        vertical-align: top;\n",
       "    }\n",
       "\n",
       "    .dataframe thead th {\n",
       "        text-align: right;\n",
       "    }\n",
       "</style>\n",
       "<table border=\"1\" class=\"dataframe\">\n",
       "  <thead>\n",
       "    <tr style=\"text-align: right;\">\n",
       "      <th></th>\n",
       "      <th>PassengerId</th>\n",
       "      <th>Survived</th>\n",
       "      <th>Pclass</th>\n",
       "      <th>Name</th>\n",
       "      <th>Sex</th>\n",
       "      <th>Age</th>\n",
       "      <th>SibSp</th>\n",
       "      <th>Parch</th>\n",
       "      <th>Ticket</th>\n",
       "      <th>Fare</th>\n",
       "      <th>Embarked</th>\n",
       "      <th>Family</th>\n",
       "    </tr>\n",
       "  </thead>\n",
       "  <tbody>\n",
       "    <tr>\n",
       "      <th>0</th>\n",
       "      <td>1</td>\n",
       "      <td>0</td>\n",
       "      <td>3</td>\n",
       "      <td>Braund, Mr. Owen Harris</td>\n",
       "      <td>1</td>\n",
       "      <td>22.0</td>\n",
       "      <td>1</td>\n",
       "      <td>0</td>\n",
       "      <td>A/5 21171</td>\n",
       "      <td>7.2500</td>\n",
       "      <td>0</td>\n",
       "      <td>1</td>\n",
       "    </tr>\n",
       "    <tr>\n",
       "      <th>1</th>\n",
       "      <td>2</td>\n",
       "      <td>1</td>\n",
       "      <td>1</td>\n",
       "      <td>Cumings, Mrs. John Bradley (Florence Briggs Th...</td>\n",
       "      <td>0</td>\n",
       "      <td>38.0</td>\n",
       "      <td>1</td>\n",
       "      <td>0</td>\n",
       "      <td>PC 17599</td>\n",
       "      <td>71.2833</td>\n",
       "      <td>1</td>\n",
       "      <td>1</td>\n",
       "    </tr>\n",
       "    <tr>\n",
       "      <th>2</th>\n",
       "      <td>3</td>\n",
       "      <td>1</td>\n",
       "      <td>3</td>\n",
       "      <td>Heikkinen, Miss. Laina</td>\n",
       "      <td>0</td>\n",
       "      <td>26.0</td>\n",
       "      <td>0</td>\n",
       "      <td>0</td>\n",
       "      <td>STON/O2. 3101282</td>\n",
       "      <td>7.9250</td>\n",
       "      <td>0</td>\n",
       "      <td>0</td>\n",
       "    </tr>\n",
       "    <tr>\n",
       "      <th>3</th>\n",
       "      <td>4</td>\n",
       "      <td>1</td>\n",
       "      <td>1</td>\n",
       "      <td>Futrelle, Mrs. Jacques Heath (Lily May Peel)</td>\n",
       "      <td>0</td>\n",
       "      <td>35.0</td>\n",
       "      <td>1</td>\n",
       "      <td>0</td>\n",
       "      <td>113803</td>\n",
       "      <td>53.1000</td>\n",
       "      <td>0</td>\n",
       "      <td>1</td>\n",
       "    </tr>\n",
       "    <tr>\n",
       "      <th>4</th>\n",
       "      <td>5</td>\n",
       "      <td>0</td>\n",
       "      <td>3</td>\n",
       "      <td>Allen, Mr. William Henry</td>\n",
       "      <td>1</td>\n",
       "      <td>35.0</td>\n",
       "      <td>0</td>\n",
       "      <td>0</td>\n",
       "      <td>373450</td>\n",
       "      <td>8.0500</td>\n",
       "      <td>0</td>\n",
       "      <td>0</td>\n",
       "    </tr>\n",
       "  </tbody>\n",
       "</table>\n",
       "</div>"
      ],
      "text/plain": [
       "   PassengerId  Survived  Pclass  \\\n",
       "0            1         0       3   \n",
       "1            2         1       1   \n",
       "2            3         1       3   \n",
       "3            4         1       1   \n",
       "4            5         0       3   \n",
       "\n",
       "                                                Name  Sex   Age  SibSp  Parch  \\\n",
       "0                            Braund, Mr. Owen Harris    1  22.0      1      0   \n",
       "1  Cumings, Mrs. John Bradley (Florence Briggs Th...    0  38.0      1      0   \n",
       "2                             Heikkinen, Miss. Laina    0  26.0      0      0   \n",
       "3       Futrelle, Mrs. Jacques Heath (Lily May Peel)    0  35.0      1      0   \n",
       "4                           Allen, Mr. William Henry    1  35.0      0      0   \n",
       "\n",
       "             Ticket     Fare  Embarked  Family  \n",
       "0         A/5 21171   7.2500         0       1  \n",
       "1          PC 17599  71.2833         1       1  \n",
       "2  STON/O2. 3101282   7.9250         0       0  \n",
       "3            113803  53.1000         0       1  \n",
       "4            373450   8.0500         0       0  "
      ]
     },
     "execution_count": 34,
     "metadata": {},
     "output_type": "execute_result"
    }
   ],
   "source": [
    "df.head()"
   ]
  },
  {
   "cell_type": "markdown",
   "id": "78ea46b7",
   "metadata": {},
   "source": [
    "#### d). Dropping extra column from data frame"
   ]
  },
  {
   "cell_type": "code",
   "execution_count": 35,
   "id": "ccc117b7",
   "metadata": {},
   "outputs": [],
   "source": [
    "df = df.drop(columns=['PassengerId','Name','Ticket','SibSp','Parch'])"
   ]
  },
  {
   "cell_type": "code",
   "execution_count": 36,
   "id": "c843b0a7",
   "metadata": {},
   "outputs": [
    {
     "data": {
      "text/html": [
       "<div>\n",
       "<style scoped>\n",
       "    .dataframe tbody tr th:only-of-type {\n",
       "        vertical-align: middle;\n",
       "    }\n",
       "\n",
       "    .dataframe tbody tr th {\n",
       "        vertical-align: top;\n",
       "    }\n",
       "\n",
       "    .dataframe thead th {\n",
       "        text-align: right;\n",
       "    }\n",
       "</style>\n",
       "<table border=\"1\" class=\"dataframe\">\n",
       "  <thead>\n",
       "    <tr style=\"text-align: right;\">\n",
       "      <th></th>\n",
       "      <th>Survived</th>\n",
       "      <th>Pclass</th>\n",
       "      <th>Sex</th>\n",
       "      <th>Age</th>\n",
       "      <th>Fare</th>\n",
       "      <th>Embarked</th>\n",
       "      <th>Family</th>\n",
       "    </tr>\n",
       "  </thead>\n",
       "  <tbody>\n",
       "    <tr>\n",
       "      <th>0</th>\n",
       "      <td>0</td>\n",
       "      <td>3</td>\n",
       "      <td>1</td>\n",
       "      <td>22.0</td>\n",
       "      <td>7.2500</td>\n",
       "      <td>0</td>\n",
       "      <td>1</td>\n",
       "    </tr>\n",
       "    <tr>\n",
       "      <th>1</th>\n",
       "      <td>1</td>\n",
       "      <td>1</td>\n",
       "      <td>0</td>\n",
       "      <td>38.0</td>\n",
       "      <td>71.2833</td>\n",
       "      <td>1</td>\n",
       "      <td>1</td>\n",
       "    </tr>\n",
       "    <tr>\n",
       "      <th>2</th>\n",
       "      <td>1</td>\n",
       "      <td>3</td>\n",
       "      <td>0</td>\n",
       "      <td>26.0</td>\n",
       "      <td>7.9250</td>\n",
       "      <td>0</td>\n",
       "      <td>0</td>\n",
       "    </tr>\n",
       "    <tr>\n",
       "      <th>3</th>\n",
       "      <td>1</td>\n",
       "      <td>1</td>\n",
       "      <td>0</td>\n",
       "      <td>35.0</td>\n",
       "      <td>53.1000</td>\n",
       "      <td>0</td>\n",
       "      <td>1</td>\n",
       "    </tr>\n",
       "    <tr>\n",
       "      <th>4</th>\n",
       "      <td>0</td>\n",
       "      <td>3</td>\n",
       "      <td>1</td>\n",
       "      <td>35.0</td>\n",
       "      <td>8.0500</td>\n",
       "      <td>0</td>\n",
       "      <td>0</td>\n",
       "    </tr>\n",
       "  </tbody>\n",
       "</table>\n",
       "</div>"
      ],
      "text/plain": [
       "   Survived  Pclass  Sex   Age     Fare  Embarked  Family\n",
       "0         0       3    1  22.0   7.2500         0       1\n",
       "1         1       1    0  38.0  71.2833         1       1\n",
       "2         1       3    0  26.0   7.9250         0       0\n",
       "3         1       1    0  35.0  53.1000         0       1\n",
       "4         0       3    1  35.0   8.0500         0       0"
      ]
     },
     "execution_count": 36,
     "metadata": {},
     "output_type": "execute_result"
    }
   ],
   "source": [
    "df.head()"
   ]
  },
  {
   "cell_type": "code",
   "execution_count": 37,
   "id": "16c6b974",
   "metadata": {},
   "outputs": [
    {
     "data": {
      "text/html": [
       "<div>\n",
       "<style scoped>\n",
       "    .dataframe tbody tr th:only-of-type {\n",
       "        vertical-align: middle;\n",
       "    }\n",
       "\n",
       "    .dataframe tbody tr th {\n",
       "        vertical-align: top;\n",
       "    }\n",
       "\n",
       "    .dataframe thead th {\n",
       "        text-align: right;\n",
       "    }\n",
       "</style>\n",
       "<table border=\"1\" class=\"dataframe\">\n",
       "  <thead>\n",
       "    <tr style=\"text-align: right;\">\n",
       "      <th></th>\n",
       "      <th>Survived</th>\n",
       "      <th>Pclass</th>\n",
       "      <th>Sex</th>\n",
       "      <th>Age</th>\n",
       "      <th>Fare</th>\n",
       "      <th>Embarked</th>\n",
       "      <th>Family</th>\n",
       "    </tr>\n",
       "  </thead>\n",
       "  <tbody>\n",
       "    <tr>\n",
       "      <th>count</th>\n",
       "      <td>889.000000</td>\n",
       "      <td>889.000000</td>\n",
       "      <td>889.000000</td>\n",
       "      <td>889.000000</td>\n",
       "      <td>889.000000</td>\n",
       "      <td>889.000000</td>\n",
       "      <td>889.000000</td>\n",
       "    </tr>\n",
       "    <tr>\n",
       "      <th>mean</th>\n",
       "      <td>0.382452</td>\n",
       "      <td>2.311586</td>\n",
       "      <td>0.649044</td>\n",
       "      <td>29.653446</td>\n",
       "      <td>32.096681</td>\n",
       "      <td>0.362205</td>\n",
       "      <td>0.906637</td>\n",
       "    </tr>\n",
       "    <tr>\n",
       "      <th>std</th>\n",
       "      <td>0.486260</td>\n",
       "      <td>0.834700</td>\n",
       "      <td>0.477538</td>\n",
       "      <td>12.968366</td>\n",
       "      <td>49.697504</td>\n",
       "      <td>0.636157</td>\n",
       "      <td>1.614703</td>\n",
       "    </tr>\n",
       "    <tr>\n",
       "      <th>min</th>\n",
       "      <td>0.000000</td>\n",
       "      <td>1.000000</td>\n",
       "      <td>0.000000</td>\n",
       "      <td>0.420000</td>\n",
       "      <td>0.000000</td>\n",
       "      <td>0.000000</td>\n",
       "      <td>0.000000</td>\n",
       "    </tr>\n",
       "    <tr>\n",
       "      <th>25%</th>\n",
       "      <td>0.000000</td>\n",
       "      <td>2.000000</td>\n",
       "      <td>0.000000</td>\n",
       "      <td>22.000000</td>\n",
       "      <td>7.895800</td>\n",
       "      <td>0.000000</td>\n",
       "      <td>0.000000</td>\n",
       "    </tr>\n",
       "    <tr>\n",
       "      <th>50%</th>\n",
       "      <td>0.000000</td>\n",
       "      <td>3.000000</td>\n",
       "      <td>1.000000</td>\n",
       "      <td>29.699118</td>\n",
       "      <td>14.454200</td>\n",
       "      <td>0.000000</td>\n",
       "      <td>0.000000</td>\n",
       "    </tr>\n",
       "    <tr>\n",
       "      <th>75%</th>\n",
       "      <td>1.000000</td>\n",
       "      <td>3.000000</td>\n",
       "      <td>1.000000</td>\n",
       "      <td>35.000000</td>\n",
       "      <td>31.000000</td>\n",
       "      <td>1.000000</td>\n",
       "      <td>1.000000</td>\n",
       "    </tr>\n",
       "    <tr>\n",
       "      <th>max</th>\n",
       "      <td>1.000000</td>\n",
       "      <td>3.000000</td>\n",
       "      <td>1.000000</td>\n",
       "      <td>80.000000</td>\n",
       "      <td>512.329200</td>\n",
       "      <td>2.000000</td>\n",
       "      <td>10.000000</td>\n",
       "    </tr>\n",
       "  </tbody>\n",
       "</table>\n",
       "</div>"
      ],
      "text/plain": [
       "         Survived      Pclass         Sex         Age        Fare    Embarked  \\\n",
       "count  889.000000  889.000000  889.000000  889.000000  889.000000  889.000000   \n",
       "mean     0.382452    2.311586    0.649044   29.653446   32.096681    0.362205   \n",
       "std      0.486260    0.834700    0.477538   12.968366   49.697504    0.636157   \n",
       "min      0.000000    1.000000    0.000000    0.420000    0.000000    0.000000   \n",
       "25%      0.000000    2.000000    0.000000   22.000000    7.895800    0.000000   \n",
       "50%      0.000000    3.000000    1.000000   29.699118   14.454200    0.000000   \n",
       "75%      1.000000    3.000000    1.000000   35.000000   31.000000    1.000000   \n",
       "max      1.000000    3.000000    1.000000   80.000000  512.329200    2.000000   \n",
       "\n",
       "           Family  \n",
       "count  889.000000  \n",
       "mean     0.906637  \n",
       "std      1.614703  \n",
       "min      0.000000  \n",
       "25%      0.000000  \n",
       "50%      0.000000  \n",
       "75%      1.000000  \n",
       "max     10.000000  "
      ]
     },
     "execution_count": 37,
     "metadata": {},
     "output_type": "execute_result"
    }
   ],
   "source": [
    "df.describe()"
   ]
  },
  {
   "cell_type": "markdown",
   "id": "b13876fb",
   "metadata": {},
   "source": [
    "#### 7). Visualize the data distribution"
   ]
  },
  {
   "cell_type": "code",
   "execution_count": 38,
   "id": "1ca1283a",
   "metadata": {},
   "outputs": [
    {
     "data": {
      "image/png": "[encoded data removed]",
      "text/plain": [
       "<Figure size 1440x1800 with 7 Axes>"
      ]
     },
     "metadata": {
      "needs_background": "light"
     },
     "output_type": "display_data"
    }
   ],
   "source": [
    "plt.figure(figsize=(20,25))\n",
    "plotnumber = 1\n",
    "\n",
    "for colum in df:\n",
    "    if plotnumber<=7:\n",
    "        ax = plt.subplot(3,3,plotnumber)\n",
    "        sns.distplot(df[colum])\n",
    "        plt.xlabel(colum,fontsize = 20)\n",
    "        \n",
    "    plotnumber+=1\n",
    "plt.show() "
   ]
  },
  {
   "cell_type": "markdown",
   "id": "30e617ae",
   "metadata": {},
   "source": [
    "##### Outcome :\n",
    "* 'Survived' is our target variable having only two category '0' & '1' so in distribution there is no problem.\n",
    "* 'Pclass','Sex' & 'Embarked' again categorical variable so there are also no problem.\n",
    "* 'Age','Fare' & 'Family' for this dataset there is also no problem.\n",
    "* Data distribution look's like normal. I can proceed further. "
   ]
  },
  {
   "cell_type": "markdown",
   "id": "6727dc1c",
   "metadata": {},
   "source": [
    "### 8). Correlation matrix to see the coffecient of multicolinearity"
   ]
  },
  {
   "cell_type": "markdown",
   "id": "6bdafb31",
   "metadata": {},
   "source": [
    "#### a). Correlation matrix in form of Data Frame"
   ]
  },
  {
   "cell_type": "code",
   "execution_count": 39,
   "id": "f9eac144",
   "metadata": {},
   "outputs": [
    {
     "data": {
      "text/html": [
       "<div>\n",
       "<style scoped>\n",
       "    .dataframe tbody tr th:only-of-type {\n",
       "        vertical-align: middle;\n",
       "    }\n",
       "\n",
       "    .dataframe tbody tr th {\n",
       "        vertical-align: top;\n",
       "    }\n",
       "\n",
       "    .dataframe thead th {\n",
       "        text-align: right;\n",
       "    }\n",
       "</style>\n",
       "<table border=\"1\" class=\"dataframe\">\n",
       "  <thead>\n",
       "    <tr style=\"text-align: right;\">\n",
       "      <th></th>\n",
       "      <th>Survived</th>\n",
       "      <th>Pclass</th>\n",
       "      <th>Sex</th>\n",
       "      <th>Age</th>\n",
       "      <th>Fare</th>\n",
       "      <th>Embarked</th>\n",
       "      <th>Family</th>\n",
       "    </tr>\n",
       "  </thead>\n",
       "  <tbody>\n",
       "    <tr>\n",
       "      <th>Survived</th>\n",
       "      <td>1.000000</td>\n",
       "      <td>0.335549</td>\n",
       "      <td>0.541585</td>\n",
       "      <td>0.074673</td>\n",
       "      <td>0.255290</td>\n",
       "      <td>0.108669</td>\n",
       "      <td>0.018277</td>\n",
       "    </tr>\n",
       "    <tr>\n",
       "      <th>Pclass</th>\n",
       "      <td>0.335549</td>\n",
       "      <td>1.000000</td>\n",
       "      <td>0.127741</td>\n",
       "      <td>0.327954</td>\n",
       "      <td>0.548193</td>\n",
       "      <td>0.043835</td>\n",
       "      <td>0.064221</td>\n",
       "    </tr>\n",
       "    <tr>\n",
       "      <th>Sex</th>\n",
       "      <td>0.541585</td>\n",
       "      <td>0.127741</td>\n",
       "      <td>1.000000</td>\n",
       "      <td>0.089434</td>\n",
       "      <td>0.179958</td>\n",
       "      <td>0.118593</td>\n",
       "      <td>0.203191</td>\n",
       "    </tr>\n",
       "    <tr>\n",
       "      <th>Age</th>\n",
       "      <td>0.074673</td>\n",
       "      <td>0.327954</td>\n",
       "      <td>0.089434</td>\n",
       "      <td>1.000000</td>\n",
       "      <td>0.088604</td>\n",
       "      <td>0.009499</td>\n",
       "      <td>0.247546</td>\n",
       "    </tr>\n",
       "    <tr>\n",
       "      <th>Fare</th>\n",
       "      <td>0.255290</td>\n",
       "      <td>0.548193</td>\n",
       "      <td>0.179958</td>\n",
       "      <td>0.088604</td>\n",
       "      <td>1.000000</td>\n",
       "      <td>0.063462</td>\n",
       "      <td>0.218658</td>\n",
       "    </tr>\n",
       "    <tr>\n",
       "      <th>Embarked</th>\n",
       "      <td>0.108669</td>\n",
       "      <td>0.043835</td>\n",
       "      <td>0.118593</td>\n",
       "      <td>0.009499</td>\n",
       "      <td>0.063462</td>\n",
       "      <td>1.000000</td>\n",
       "      <td>0.081057</td>\n",
       "    </tr>\n",
       "    <tr>\n",
       "      <th>Family</th>\n",
       "      <td>0.018277</td>\n",
       "      <td>0.064221</td>\n",
       "      <td>0.203191</td>\n",
       "      <td>0.247546</td>\n",
       "      <td>0.218658</td>\n",
       "      <td>0.081057</td>\n",
       "      <td>1.000000</td>\n",
       "    </tr>\n",
       "  </tbody>\n",
       "</table>\n",
       "</div>"
      ],
      "text/plain": [
       "          Survived    Pclass       Sex       Age      Fare  Embarked    Family\n",
       "Survived  1.000000  0.335549  0.541585  0.074673  0.255290  0.108669  0.018277\n",
       "Pclass    0.335549  1.000000  0.127741  0.327954  0.548193  0.043835  0.064221\n",
       "Sex       0.541585  0.127741  1.000000  0.089434  0.179958  0.118593  0.203191\n",
       "Age       0.074673  0.327954  0.089434  1.000000  0.088604  0.009499  0.247546\n",
       "Fare      0.255290  0.548193  0.179958  0.088604  1.000000  0.063462  0.218658\n",
       "Embarked  0.108669  0.043835  0.118593  0.009499  0.063462  1.000000  0.081057\n",
       "Family    0.018277  0.064221  0.203191  0.247546  0.218658  0.081057  1.000000"
      ]
     },
     "execution_count": 39,
     "metadata": {},
     "output_type": "execute_result"
    }
   ],
   "source": [
    "df_corr = df.corr().abs()\n",
    "df_corr"
   ]
  },
  {
   "cell_type": "markdown",
   "id": "daf25075",
   "metadata": {},
   "source": [
    "#### b). Visualize Correlation matrix using heatmap"
   ]
  },
  {
   "cell_type": "code",
   "execution_count": 40,
   "id": "2ee9ee7c",
   "metadata": {},
   "outputs": [
    {
     "data": {
      "image/png": "[encoded data removed]",
      "text/plain": [
       "<Figure size 1080x864 with 2 Axes>"
      ]
     },
     "metadata": {
      "needs_background": "light"
     },
     "output_type": "display_data"
    }
   ],
   "source": [
    "plt.figure(figsize=(15,12))\n",
    "sns.heatmap(df_corr,annot=True,annot_kws={'size':12})\n",
    "plt.show()"
   ]
  },
  {
   "cell_type": "markdown",
   "id": "880355ab",
   "metadata": {},
   "source": [
    "##### Outcome :\n",
    "* Every features have positive correlation with target variable.\n",
    "* 'Sex' have 54 percent correlation with target column which can be consider as strong bond.\n",
    "* 'Pclass' have 34 percent correlation with target column which can be consider as good bond.\n",
    "* 'Fare' have 26 percent correlation with target column which can be consider as good bond.\n",
    "* 'Embarked' have 11 percent correlation with target column which is less bond.\n",
    "* 'Age' have 7.5 percent correlation with target column which is less bond.\n",
    "* 'Family' have 1.8 percent correlation with target column which is less bond."
   ]
  },
  {
   "cell_type": "markdown",
   "id": "518ab9e0",
   "metadata": {},
   "source": [
    "#### c). Replacing the 1 as 'Survived' & 0 as 'Died' in 'Survived'"
   ]
  },
  {
   "cell_type": "code",
   "execution_count": 41,
   "id": "0e701419",
   "metadata": {},
   "outputs": [],
   "source": [
    "df['Survived'] = df['Survived'].replace({1:'Survived',0:'Died'})"
   ]
  },
  {
   "cell_type": "code",
   "execution_count": 42,
   "id": "acf5d783",
   "metadata": {},
   "outputs": [
    {
     "data": {
      "text/html": [
       "<div>\n",
       "<style scoped>\n",
       "    .dataframe tbody tr th:only-of-type {\n",
       "        vertical-align: middle;\n",
       "    }\n",
       "\n",
       "    .dataframe tbody tr th {\n",
       "        vertical-align: top;\n",
       "    }\n",
       "\n",
       "    .dataframe thead th {\n",
       "        text-align: right;\n",
       "    }\n",
       "</style>\n",
       "<table border=\"1\" class=\"dataframe\">\n",
       "  <thead>\n",
       "    <tr style=\"text-align: right;\">\n",
       "      <th></th>\n",
       "      <th>Survived</th>\n",
       "      <th>Pclass</th>\n",
       "      <th>Sex</th>\n",
       "      <th>Age</th>\n",
       "      <th>Fare</th>\n",
       "      <th>Embarked</th>\n",
       "      <th>Family</th>\n",
       "    </tr>\n",
       "  </thead>\n",
       "  <tbody>\n",
       "    <tr>\n",
       "      <th>0</th>\n",
       "      <td>Died</td>\n",
       "      <td>3</td>\n",
       "      <td>1</td>\n",
       "      <td>22.0</td>\n",
       "      <td>7.2500</td>\n",
       "      <td>0</td>\n",
       "      <td>1</td>\n",
       "    </tr>\n",
       "    <tr>\n",
       "      <th>1</th>\n",
       "      <td>Survived</td>\n",
       "      <td>1</td>\n",
       "      <td>0</td>\n",
       "      <td>38.0</td>\n",
       "      <td>71.2833</td>\n",
       "      <td>1</td>\n",
       "      <td>1</td>\n",
       "    </tr>\n",
       "    <tr>\n",
       "      <th>2</th>\n",
       "      <td>Survived</td>\n",
       "      <td>3</td>\n",
       "      <td>0</td>\n",
       "      <td>26.0</td>\n",
       "      <td>7.9250</td>\n",
       "      <td>0</td>\n",
       "      <td>0</td>\n",
       "    </tr>\n",
       "    <tr>\n",
       "      <th>3</th>\n",
       "      <td>Survived</td>\n",
       "      <td>1</td>\n",
       "      <td>0</td>\n",
       "      <td>35.0</td>\n",
       "      <td>53.1000</td>\n",
       "      <td>0</td>\n",
       "      <td>1</td>\n",
       "    </tr>\n",
       "    <tr>\n",
       "      <th>4</th>\n",
       "      <td>Died</td>\n",
       "      <td>3</td>\n",
       "      <td>1</td>\n",
       "      <td>35.0</td>\n",
       "      <td>8.0500</td>\n",
       "      <td>0</td>\n",
       "      <td>0</td>\n",
       "    </tr>\n",
       "  </tbody>\n",
       "</table>\n",
       "</div>"
      ],
      "text/plain": [
       "   Survived  Pclass  Sex   Age     Fare  Embarked  Family\n",
       "0      Died       3    1  22.0   7.2500         0       1\n",
       "1  Survived       1    0  38.0  71.2833         1       1\n",
       "2  Survived       3    0  26.0   7.9250         0       0\n",
       "3  Survived       1    0  35.0  53.1000         0       1\n",
       "4      Died       3    1  35.0   8.0500         0       0"
      ]
     },
     "execution_count": 42,
     "metadata": {},
     "output_type": "execute_result"
    }
   ],
   "source": [
    "df.head()"
   ]
  },
  {
   "cell_type": "markdown",
   "id": "a0f263e3",
   "metadata": {},
   "source": [
    "### 9(a). Part - 1 When i am including 'Embarked'"
   ]
  },
  {
   "cell_type": "markdown",
   "id": "dbc9b915",
   "metadata": {},
   "source": [
    "#### (i). Selecting dependent variable y as 'Survived' & rest are as independent variable "
   ]
  },
  {
   "cell_type": "code",
   "execution_count": 43,
   "id": "34308a19",
   "metadata": {},
   "outputs": [],
   "source": [
    "X = df.drop(columns='Survived')\n",
    "y = df['Survived']"
   ]
  },
  {
   "cell_type": "code",
   "execution_count": 44,
   "id": "e92c8dc3",
   "metadata": {},
   "outputs": [
    {
     "data": {
      "text/plain": [
       "(889, 6)"
      ]
     },
     "execution_count": 44,
     "metadata": {},
     "output_type": "execute_result"
    }
   ],
   "source": [
    "X.shape"
   ]
  },
  {
   "cell_type": "code",
   "execution_count": 45,
   "id": "2370c923",
   "metadata": {},
   "outputs": [
    {
     "data": {
      "text/plain": [
       "(889,)"
      ]
     },
     "execution_count": 45,
     "metadata": {},
     "output_type": "execute_result"
    }
   ],
   "source": [
    "y.shape"
   ]
  },
  {
   "cell_type": "code",
   "execution_count": 46,
   "id": "f99c9ccb",
   "metadata": {},
   "outputs": [
    {
     "data": {
      "text/html": [
       "<div>\n",
       "<style scoped>\n",
       "    .dataframe tbody tr th:only-of-type {\n",
       "        vertical-align: middle;\n",
       "    }\n",
       "\n",
       "    .dataframe tbody tr th {\n",
       "        vertical-align: top;\n",
       "    }\n",
       "\n",
       "    .dataframe thead th {\n",
       "        text-align: right;\n",
       "    }\n",
       "</style>\n",
       "<table border=\"1\" class=\"dataframe\">\n",
       "  <thead>\n",
       "    <tr style=\"text-align: right;\">\n",
       "      <th></th>\n",
       "      <th>Pclass</th>\n",
       "      <th>Sex</th>\n",
       "      <th>Age</th>\n",
       "      <th>Fare</th>\n",
       "      <th>Embarked</th>\n",
       "      <th>Family</th>\n",
       "    </tr>\n",
       "  </thead>\n",
       "  <tbody>\n",
       "    <tr>\n",
       "      <th>0</th>\n",
       "      <td>3</td>\n",
       "      <td>1</td>\n",
       "      <td>22.000000</td>\n",
       "      <td>7.2500</td>\n",
       "      <td>0</td>\n",
       "      <td>1</td>\n",
       "    </tr>\n",
       "    <tr>\n",
       "      <th>1</th>\n",
       "      <td>1</td>\n",
       "      <td>0</td>\n",
       "      <td>38.000000</td>\n",
       "      <td>71.2833</td>\n",
       "      <td>1</td>\n",
       "      <td>1</td>\n",
       "    </tr>\n",
       "    <tr>\n",
       "      <th>2</th>\n",
       "      <td>3</td>\n",
       "      <td>0</td>\n",
       "      <td>26.000000</td>\n",
       "      <td>7.9250</td>\n",
       "      <td>0</td>\n",
       "      <td>0</td>\n",
       "    </tr>\n",
       "    <tr>\n",
       "      <th>3</th>\n",
       "      <td>1</td>\n",
       "      <td>0</td>\n",
       "      <td>35.000000</td>\n",
       "      <td>53.1000</td>\n",
       "      <td>0</td>\n",
       "      <td>1</td>\n",
       "    </tr>\n",
       "    <tr>\n",
       "      <th>4</th>\n",
       "      <td>3</td>\n",
       "      <td>1</td>\n",
       "      <td>35.000000</td>\n",
       "      <td>8.0500</td>\n",
       "      <td>0</td>\n",
       "      <td>0</td>\n",
       "    </tr>\n",
       "    <tr>\n",
       "      <th>...</th>\n",
       "      <td>...</td>\n",
       "      <td>...</td>\n",
       "      <td>...</td>\n",
       "      <td>...</td>\n",
       "      <td>...</td>\n",
       "      <td>...</td>\n",
       "    </tr>\n",
       "    <tr>\n",
       "      <th>886</th>\n",
       "      <td>2</td>\n",
       "      <td>1</td>\n",
       "      <td>27.000000</td>\n",
       "      <td>13.0000</td>\n",
       "      <td>0</td>\n",
       "      <td>0</td>\n",
       "    </tr>\n",
       "    <tr>\n",
       "      <th>887</th>\n",
       "      <td>1</td>\n",
       "      <td>0</td>\n",
       "      <td>19.000000</td>\n",
       "      <td>30.0000</td>\n",
       "      <td>0</td>\n",
       "      <td>0</td>\n",
       "    </tr>\n",
       "    <tr>\n",
       "      <th>888</th>\n",
       "      <td>3</td>\n",
       "      <td>0</td>\n",
       "      <td>29.699118</td>\n",
       "      <td>23.4500</td>\n",
       "      <td>0</td>\n",
       "      <td>3</td>\n",
       "    </tr>\n",
       "    <tr>\n",
       "      <th>889</th>\n",
       "      <td>1</td>\n",
       "      <td>1</td>\n",
       "      <td>26.000000</td>\n",
       "      <td>30.0000</td>\n",
       "      <td>1</td>\n",
       "      <td>0</td>\n",
       "    </tr>\n",
       "    <tr>\n",
       "      <th>890</th>\n",
       "      <td>3</td>\n",
       "      <td>1</td>\n",
       "      <td>32.000000</td>\n",
       "      <td>7.7500</td>\n",
       "      <td>2</td>\n",
       "      <td>0</td>\n",
       "    </tr>\n",
       "  </tbody>\n",
       "</table>\n",
       "<p>889 rows × 6 columns</p>\n",
       "</div>"
      ],
      "text/plain": [
       "     Pclass  Sex        Age     Fare  Embarked  Family\n",
       "0         3    1  22.000000   7.2500         0       1\n",
       "1         1    0  38.000000  71.2833         1       1\n",
       "2         3    0  26.000000   7.9250         0       0\n",
       "3         1    0  35.000000  53.1000         0       1\n",
       "4         3    1  35.000000   8.0500         0       0\n",
       "..      ...  ...        ...      ...       ...     ...\n",
       "886       2    1  27.000000  13.0000         0       0\n",
       "887       1    0  19.000000  30.0000         0       0\n",
       "888       3    0  29.699118  23.4500         0       3\n",
       "889       1    1  26.000000  30.0000         1       0\n",
       "890       3    1  32.000000   7.7500         2       0\n",
       "\n",
       "[889 rows x 6 columns]"
      ]
     },
     "execution_count": 46,
     "metadata": {},
     "output_type": "execute_result"
    }
   ],
   "source": [
    "X"
   ]
  },
  {
   "cell_type": "markdown",
   "id": "354a9be9",
   "metadata": {},
   "source": [
    "#### (ii). X data is not scaled. Using standard scaler scaled the data "
   ]
  },
  {
   "cell_type": "code",
   "execution_count": 47,
   "id": "17db1271",
   "metadata": {},
   "outputs": [],
   "source": [
    "from sklearn.preprocessing import StandardScaler"
   ]
  },
  {
   "cell_type": "code",
   "execution_count": 48,
   "id": "09fa482e",
   "metadata": {},
   "outputs": [],
   "source": [
    "scaler = StandardScaler()"
   ]
  },
  {
   "cell_type": "code",
   "execution_count": 49,
   "id": "c230bd87",
   "metadata": {},
   "outputs": [],
   "source": [
    "X_scaled = scaler.fit_transform(X)"
   ]
  },
  {
   "cell_type": "code",
   "execution_count": 50,
   "id": "1fecda35",
   "metadata": {},
   "outputs": [
    {
     "data": {
      "text/plain": [
       "array([[ 0.82520863,  0.73534203, -0.59049493, -0.50023975, -0.56968402,\n",
       "         0.05785331],\n",
       "       [-1.57221121, -1.35991138,  0.64397101,  0.78894661,  1.00313924,\n",
       "         0.05785331],\n",
       "       [ 0.82520863, -1.35991138, -0.28187844, -0.48664993, -0.56968402,\n",
       "        -0.5618044 ],\n",
       "       ...,\n",
       "       [ 0.82520863, -1.35991138,  0.00352373, -0.17408416, -0.56968402,\n",
       "         1.29716872],\n",
       "       [-1.57221121,  0.73534203, -0.28187844, -0.0422126 ,  1.00313924,\n",
       "        -0.5618044 ],\n",
       "       [ 0.82520863,  0.73534203,  0.18104628, -0.49017322,  2.5759625 ,\n",
       "        -0.5618044 ]])"
      ]
     },
     "execution_count": 50,
     "metadata": {},
     "output_type": "execute_result"
    }
   ],
   "source": [
    "X_scaled"
   ]
  },
  {
   "cell_type": "code",
   "execution_count": 51,
   "id": "7c0f6edd",
   "metadata": {},
   "outputs": [
    {
     "data": {
      "text/plain": [
       "0          Died\n",
       "1      Survived\n",
       "2      Survived\n",
       "3      Survived\n",
       "4          Died\n",
       "         ...   \n",
       "886        Died\n",
       "887    Survived\n",
       "888        Died\n",
       "889    Survived\n",
       "890        Died\n",
       "Name: Survived, Length: 889, dtype: object"
      ]
     },
     "execution_count": 51,
     "metadata": {},
     "output_type": "execute_result"
    }
   ],
   "source": [
    "y"
   ]
  },
  {
   "cell_type": "markdown",
   "id": "90c15a09",
   "metadata": {},
   "source": [
    "#### (iii). Split the data set using train test split"
   ]
  },
  {
   "cell_type": "code",
   "execution_count": 52,
   "id": "16447be8",
   "metadata": {},
   "outputs": [],
   "source": [
    "from sklearn.model_selection import train_test_split"
   ]
  },
  {
   "cell_type": "code",
   "execution_count": 53,
   "id": "819d6678",
   "metadata": {},
   "outputs": [],
   "source": [
    "X_train, X_test, y_train, y_test = train_test_split(X_scaled, y, test_size=0.30, random_state=355)"
   ]
  },
  {
   "cell_type": "code",
   "execution_count": 54,
   "id": "fcc1c677",
   "metadata": {},
   "outputs": [
    {
     "name": "stdout",
     "output_type": "stream",
     "text": [
      "The shape of X-train dataset is : (622, 6)\n",
      "The shape of X-test dataset is : (267, 6)\n",
      "The shape of y-train dataset is : (622,)\n",
      "The shape of y-test dataset is : (267,)\n"
     ]
    }
   ],
   "source": [
    "print('The shape of X-train dataset is :',X_train.shape)\n",
    "print('The shape of X-test dataset is :',X_test.shape)\n",
    "print('The shape of y-train dataset is :',y_train.shape)\n",
    "print('The shape of y-test dataset is :',y_test.shape)"
   ]
  },
  {
   "cell_type": "markdown",
   "id": "f719b93d",
   "metadata": {},
   "source": [
    "#### (iv). Initiate our model"
   ]
  },
  {
   "cell_type": "code",
   "execution_count": 55,
   "id": "e6ddc18d",
   "metadata": {},
   "outputs": [],
   "source": [
    "from sklearn.linear_model import LogisticRegression\n",
    "from sklearn.neighbors import KNeighborsClassifier\n",
    "from sklearn.tree import DecisionTreeClassifier\n",
    "from sklearn.ensemble import RandomForestClassifier\n",
    "from sklearn.svm import SVC\n",
    "\n",
    "from sklearn.metrics import accuracy_score,classification_report,confusion_matrix"
   ]
  },
  {
   "cell_type": "code",
   "execution_count": 56,
   "id": "243270aa",
   "metadata": {},
   "outputs": [],
   "source": [
    "lr = LogisticRegression()\n",
    "kn = KNeighborsClassifier()\n",
    "dt = DecisionTreeClassifier()\n",
    "rf = RandomForestClassifier()\n",
    "sc = SVC()"
   ]
  },
  {
   "cell_type": "markdown",
   "id": "5430e9dc",
   "metadata": {},
   "source": [
    "#### (v). Fit our model"
   ]
  },
  {
   "cell_type": "code",
   "execution_count": 57,
   "id": "9711c7bd",
   "metadata": {},
   "outputs": [
    {
     "name": "stdout",
     "output_type": "stream",
     "text": [
      "All model are captured\n"
     ]
    }
   ],
   "source": [
    "lr.fit(X_train,y_train)\n",
    "kn.fit(X_train,y_train)\n",
    "dt.fit(X_train,y_train)\n",
    "rf.fit(X_train,y_train)\n",
    "sc.fit(X_train,y_train)\n",
    "\n",
    "print('All model are captured')"
   ]
  },
  {
   "cell_type": "markdown",
   "id": "8199acfd",
   "metadata": {},
   "source": [
    "#### (vi). Predicting the value on test set for different model"
   ]
  },
  {
   "cell_type": "code",
   "execution_count": 58,
   "id": "aeaf9ac2",
   "metadata": {},
   "outputs": [],
   "source": [
    "y_pred_lr = lr.predict(X_test)\n",
    "y_pred_kn = kn.predict(X_test)\n",
    "y_pred_dt = dt.predict(X_test)\n",
    "y_pred_rf = rf.predict(X_test)\n",
    "y_pred_sc = sc.predict(X_test)"
   ]
  },
  {
   "cell_type": "markdown",
   "id": "2d997f4a",
   "metadata": {},
   "source": [
    "#### (vii). Displaying the score for training data set "
   ]
  },
  {
   "cell_type": "code",
   "execution_count": 59,
   "id": "8adb5ec3",
   "metadata": {},
   "outputs": [
    {
     "name": "stdout",
     "output_type": "stream",
     "text": [
      "The score of logistic regrression on training data set is : 0.7861736334405145\n",
      "The score of kneighbors classifier on training data set is : 0.8585209003215434\n",
      "The score of decision tree classifier on training data set is : 0.9871382636655949\n",
      "The score of random forest classifier on training data set is : 0.9871382636655949\n",
      "The score of support vector classifier on training data set is : 0.8263665594855305\n"
     ]
    }
   ],
   "source": [
    "print('The score of logistic regrression on training data set is :',lr.score(X_train,y_train))\n",
    "print('The score of kneighbors classifier on training data set is :',kn.score(X_train,y_train))\n",
    "print('The score of decision tree classifier on training data set is :',dt.score(X_train,y_train))\n",
    "print('The score of random forest classifier on training data set is :',rf.score(X_train,y_train))\n",
    "print('The score of support vector classifier on training data set is :',sc.score(X_train,y_train))"
   ]
  },
  {
   "cell_type": "markdown",
   "id": "25f961ae",
   "metadata": {},
   "source": [
    "#### (viii). Displaying the score for testing data set"
   ]
  },
  {
   "cell_type": "code",
   "execution_count": 60,
   "id": "a72d2a2d",
   "metadata": {},
   "outputs": [
    {
     "name": "stdout",
     "output_type": "stream",
     "text": [
      "The score of logistic regrression on testing data set is : 0.8314606741573034\n",
      "The score of kneighbors classifier on testing data set is : 0.8052434456928839\n",
      "The score of decision tree classifier on testing data set is : 0.8052434456928839\n",
      "The score of random forest classifier on testing data set is : 0.8127340823970037\n",
      "The score of support vector classifier on testing data set is : 0.8651685393258427\n"
     ]
    }
   ],
   "source": [
    "print('The score of logistic regrression on testing data set is :',lr.score(X_test,y_test))\n",
    "print('The score of kneighbors classifier on testing data set is :',kn.score(X_test,y_test))\n",
    "print('The score of decision tree classifier on testing data set is :',dt.score(X_test,y_test))\n",
    "print('The score of random forest classifier on testing data set is :',rf.score(X_test,y_test))\n",
    "print('The score of support vector classifier on testing data set is :',sc.score(X_test,y_test))"
   ]
  },
  {
   "cell_type": "markdown",
   "id": "53380f03",
   "metadata": {},
   "source": [
    "#### (ix). Displaying accuracy score of different model"
   ]
  },
  {
   "cell_type": "code",
   "execution_count": 61,
   "id": "c99529e7",
   "metadata": {},
   "outputs": [
    {
     "name": "stdout",
     "output_type": "stream",
     "text": [
      "The accuracy score of logistic regrression is : 0.8314606741573034\n",
      "The accuracy score of kneighbors classifier is : 0.8052434456928839\n",
      "The accuracy score of decision tree classifier is : 0.8052434456928839\n",
      "The accuracy score of random forest classifier is : 0.8127340823970037\n",
      "The accuracy score of support vector classifieris : 0.8651685393258427\n"
     ]
    }
   ],
   "source": [
    "print('The accuracy score of logistic regrression is :',accuracy_score(y_pred_lr,y_test))\n",
    "print('The accuracy score of kneighbors classifier is :',accuracy_score(y_pred_kn,y_test))\n",
    "print('The accuracy score of decision tree classifier is :',accuracy_score(y_pred_dt,y_test))\n",
    "print('The accuracy score of random forest classifier is :',accuracy_score(y_pred_rf,y_test))\n",
    "print('The accuracy score of support vector classifieris :',accuracy_score(y_pred_sc,y_test))"
   ]
  },
  {
   "cell_type": "markdown",
   "id": "290d0092",
   "metadata": {},
   "source": [
    "### 9(b). Part - 2 When i am not including 'Embarked'"
   ]
  },
  {
   "cell_type": "code",
   "execution_count": 62,
   "id": "eedd6c78",
   "metadata": {},
   "outputs": [],
   "source": [
    "X_we = df.drop(columns=['Survived','Embarked'])\n",
    "y_we = df['Survived']"
   ]
  },
  {
   "cell_type": "code",
   "execution_count": 63,
   "id": "136a4d8f",
   "metadata": {},
   "outputs": [
    {
     "data": {
      "text/plain": [
       "(889, 5)"
      ]
     },
     "execution_count": 63,
     "metadata": {},
     "output_type": "execute_result"
    }
   ],
   "source": [
    "X_we.shape"
   ]
  },
  {
   "cell_type": "code",
   "execution_count": 64,
   "id": "432249f2",
   "metadata": {},
   "outputs": [
    {
     "data": {
      "text/plain": [
       "(889,)"
      ]
     },
     "execution_count": 64,
     "metadata": {},
     "output_type": "execute_result"
    }
   ],
   "source": [
    "y_we.shape"
   ]
  },
  {
   "cell_type": "code",
   "execution_count": 65,
   "id": "2cc70073",
   "metadata": {},
   "outputs": [
    {
     "data": {
      "text/html": [
       "<div>\n",
       "<style scoped>\n",
       "    .dataframe tbody tr th:only-of-type {\n",
       "        vertical-align: middle;\n",
       "    }\n",
       "\n",
       "    .dataframe tbody tr th {\n",
       "        vertical-align: top;\n",
       "    }\n",
       "\n",
       "    .dataframe thead th {\n",
       "        text-align: right;\n",
       "    }\n",
       "</style>\n",
       "<table border=\"1\" class=\"dataframe\">\n",
       "  <thead>\n",
       "    <tr style=\"text-align: right;\">\n",
       "      <th></th>\n",
       "      <th>Pclass</th>\n",
       "      <th>Sex</th>\n",
       "      <th>Age</th>\n",
       "      <th>Fare</th>\n",
       "      <th>Family</th>\n",
       "    </tr>\n",
       "  </thead>\n",
       "  <tbody>\n",
       "    <tr>\n",
       "      <th>0</th>\n",
       "      <td>3</td>\n",
       "      <td>1</td>\n",
       "      <td>22.000000</td>\n",
       "      <td>7.2500</td>\n",
       "      <td>1</td>\n",
       "    </tr>\n",
       "    <tr>\n",
       "      <th>1</th>\n",
       "      <td>1</td>\n",
       "      <td>0</td>\n",
       "      <td>38.000000</td>\n",
       "      <td>71.2833</td>\n",
       "      <td>1</td>\n",
       "    </tr>\n",
       "    <tr>\n",
       "      <th>2</th>\n",
       "      <td>3</td>\n",
       "      <td>0</td>\n",
       "      <td>26.000000</td>\n",
       "      <td>7.9250</td>\n",
       "      <td>0</td>\n",
       "    </tr>\n",
       "    <tr>\n",
       "      <th>3</th>\n",
       "      <td>1</td>\n",
       "      <td>0</td>\n",
       "      <td>35.000000</td>\n",
       "      <td>53.1000</td>\n",
       "      <td>1</td>\n",
       "    </tr>\n",
       "    <tr>\n",
       "      <th>4</th>\n",
       "      <td>3</td>\n",
       "      <td>1</td>\n",
       "      <td>35.000000</td>\n",
       "      <td>8.0500</td>\n",
       "      <td>0</td>\n",
       "    </tr>\n",
       "    <tr>\n",
       "      <th>...</th>\n",
       "      <td>...</td>\n",
       "      <td>...</td>\n",
       "      <td>...</td>\n",
       "      <td>...</td>\n",
       "      <td>...</td>\n",
       "    </tr>\n",
       "    <tr>\n",
       "      <th>886</th>\n",
       "      <td>2</td>\n",
       "      <td>1</td>\n",
       "      <td>27.000000</td>\n",
       "      <td>13.0000</td>\n",
       "      <td>0</td>\n",
       "    </tr>\n",
       "    <tr>\n",
       "      <th>887</th>\n",
       "      <td>1</td>\n",
       "      <td>0</td>\n",
       "      <td>19.000000</td>\n",
       "      <td>30.0000</td>\n",
       "      <td>0</td>\n",
       "    </tr>\n",
       "    <tr>\n",
       "      <th>888</th>\n",
       "      <td>3</td>\n",
       "      <td>0</td>\n",
       "      <td>29.699118</td>\n",
       "      <td>23.4500</td>\n",
       "      <td>3</td>\n",
       "    </tr>\n",
       "    <tr>\n",
       "      <th>889</th>\n",
       "      <td>1</td>\n",
       "      <td>1</td>\n",
       "      <td>26.000000</td>\n",
       "      <td>30.0000</td>\n",
       "      <td>0</td>\n",
       "    </tr>\n",
       "    <tr>\n",
       "      <th>890</th>\n",
       "      <td>3</td>\n",
       "      <td>1</td>\n",
       "      <td>32.000000</td>\n",
       "      <td>7.7500</td>\n",
       "      <td>0</td>\n",
       "    </tr>\n",
       "  </tbody>\n",
       "</table>\n",
       "<p>889 rows × 5 columns</p>\n",
       "</div>"
      ],
      "text/plain": [
       "     Pclass  Sex        Age     Fare  Family\n",
       "0         3    1  22.000000   7.2500       1\n",
       "1         1    0  38.000000  71.2833       1\n",
       "2         3    0  26.000000   7.9250       0\n",
       "3         1    0  35.000000  53.1000       1\n",
       "4         3    1  35.000000   8.0500       0\n",
       "..      ...  ...        ...      ...     ...\n",
       "886       2    1  27.000000  13.0000       0\n",
       "887       1    0  19.000000  30.0000       0\n",
       "888       3    0  29.699118  23.4500       3\n",
       "889       1    1  26.000000  30.0000       0\n",
       "890       3    1  32.000000   7.7500       0\n",
       "\n",
       "[889 rows x 5 columns]"
      ]
     },
     "execution_count": 65,
     "metadata": {},
     "output_type": "execute_result"
    }
   ],
   "source": [
    "X_we"
   ]
  },
  {
   "cell_type": "markdown",
   "id": "3f3a8bd3",
   "metadata": {},
   "source": [
    "#### (ii). X data is not scaled. Using standard scaler scaled the data "
   ]
  },
  {
   "cell_type": "code",
   "execution_count": 66,
   "id": "60174575",
   "metadata": {},
   "outputs": [],
   "source": [
    "scaler_we = StandardScaler()\n",
    "X_we_scaled = scaler_we.fit_transform(X_we)"
   ]
  },
  {
   "cell_type": "code",
   "execution_count": 67,
   "id": "080fc2f6",
   "metadata": {},
   "outputs": [
    {
     "data": {
      "text/plain": [
       "array([[ 0.82520863,  0.73534203, -0.59049493, -0.50023975,  0.05785331],\n",
       "       [-1.57221121, -1.35991138,  0.64397101,  0.78894661,  0.05785331],\n",
       "       [ 0.82520863, -1.35991138, -0.28187844, -0.48664993, -0.5618044 ],\n",
       "       ...,\n",
       "       [ 0.82520863, -1.35991138,  0.00352373, -0.17408416,  1.29716872],\n",
       "       [-1.57221121,  0.73534203, -0.28187844, -0.0422126 , -0.5618044 ],\n",
       "       [ 0.82520863,  0.73534203,  0.18104628, -0.49017322, -0.5618044 ]])"
      ]
     },
     "execution_count": 67,
     "metadata": {},
     "output_type": "execute_result"
    }
   ],
   "source": [
    "X_we_scaled"
   ]
  },
  {
   "cell_type": "code",
   "execution_count": 68,
   "id": "223f5593",
   "metadata": {},
   "outputs": [
    {
     "data": {
      "text/plain": [
       "0          Died\n",
       "1      Survived\n",
       "2      Survived\n",
       "3      Survived\n",
       "4          Died\n",
       "         ...   \n",
       "886        Died\n",
       "887    Survived\n",
       "888        Died\n",
       "889    Survived\n",
       "890        Died\n",
       "Name: Survived, Length: 889, dtype: object"
      ]
     },
     "execution_count": 68,
     "metadata": {},
     "output_type": "execute_result"
    }
   ],
   "source": [
    "y_we"
   ]
  },
  {
   "cell_type": "markdown",
   "id": "536eccde",
   "metadata": {},
   "source": [
    "#### (iii). Split the data set using train test split"
   ]
  },
  {
   "cell_type": "code",
   "execution_count": 69,
   "id": "c812d1cb",
   "metadata": {},
   "outputs": [],
   "source": [
    "X_we_train, X_we_test, y_we_train, y_we_test = train_test_split(X_we_scaled, y_we, test_size=0.30, random_state=355)"
   ]
  },
  {
   "cell_type": "code",
   "execution_count": 70,
   "id": "8326a556",
   "metadata": {},
   "outputs": [
    {
     "name": "stdout",
     "output_type": "stream",
     "text": [
      "The shape of X-train dataset is : (622, 5)\n",
      "The shape of X-test dataset is : (267, 5)\n",
      "The shape of y-train dataset is : (622,)\n",
      "The shape of y-test dataset is : (267,)\n"
     ]
    }
   ],
   "source": [
    "print('The shape of X-train dataset is :',X_we_train.shape)\n",
    "print('The shape of X-test dataset is :',X_we_test.shape)\n",
    "print('The shape of y-train dataset is :',y_we_train.shape)\n",
    "print('The shape of y-test dataset is :',y_we_test.shape)"
   ]
  },
  {
   "cell_type": "markdown",
   "id": "b750ddd8",
   "metadata": {},
   "source": [
    "#### (iv). Initiate our model"
   ]
  },
  {
   "cell_type": "code",
   "execution_count": 71,
   "id": "f8022213",
   "metadata": {},
   "outputs": [],
   "source": [
    "lr_we = LogisticRegression()\n",
    "kn_we = KNeighborsClassifier()\n",
    "dt_we = DecisionTreeClassifier()\n",
    "rf_we = RandomForestClassifier()\n",
    "sc_we = SVC()"
   ]
  },
  {
   "cell_type": "markdown",
   "id": "3c2a241f",
   "metadata": {},
   "source": [
    "#### (v). Fit our model"
   ]
  },
  {
   "cell_type": "code",
   "execution_count": 72,
   "id": "7c96c159",
   "metadata": {},
   "outputs": [
    {
     "name": "stdout",
     "output_type": "stream",
     "text": [
      "All model are captured\n"
     ]
    }
   ],
   "source": [
    "lr_we.fit(X_we_train,y_we_train)\n",
    "kn_we.fit(X_we_train,y_we_train)\n",
    "dt_we.fit(X_we_train,y_we_train)\n",
    "rf_we.fit(X_we_train,y_we_train)\n",
    "sc_we.fit(X_we_train,y_we_train)\n",
    "\n",
    "print('All model are captured')"
   ]
  },
  {
   "cell_type": "markdown",
   "id": "0c0ea23b",
   "metadata": {},
   "source": [
    "#### (vi). Predicting the value on test set for different model"
   ]
  },
  {
   "cell_type": "code",
   "execution_count": 73,
   "id": "911d0e92",
   "metadata": {},
   "outputs": [],
   "source": [
    "y_we_pred_lr = lr_we.predict(X_we_test)\n",
    "y_we_pred_kn = kn_we.predict(X_we_test)\n",
    "y_we_pred_dt = dt_we.predict(X_we_test)\n",
    "y_we_pred_rf = rf_we.predict(X_we_test)\n",
    "y_we_pred_sc = sc_we.predict(X_we_test)"
   ]
  },
  {
   "cell_type": "markdown",
   "id": "a440f7de",
   "metadata": {},
   "source": [
    "#### (vii). Displaying the score for training data set "
   ]
  },
  {
   "cell_type": "code",
   "execution_count": 74,
   "id": "38de8821",
   "metadata": {},
   "outputs": [
    {
     "name": "stdout",
     "output_type": "stream",
     "text": [
      "The score of logistic regrression on training data set is : 0.7877813504823151\n",
      "The score of kneighbors classifier on training data set is : 0.8569131832797428\n",
      "The score of decision tree classifier on training data set is : 0.9871382636655949\n",
      "The score of random forest classifier on training data set is : 0.9871382636655949\n",
      "The score of support vector classifier on training data set is : 0.8215434083601286\n"
     ]
    }
   ],
   "source": [
    "print('The score of logistic regrression on training data set is :',lr_we.score(X_we_train,y_we_train))\n",
    "print('The score of kneighbors classifier on training data set is :',kn_we.score(X_we_train,y_we_train))\n",
    "print('The score of decision tree classifier on training data set is :',dt_we.score(X_we_train,y_we_train))\n",
    "print('The score of random forest classifier on training data set is :',rf_we.score(X_we_train,y_we_train))\n",
    "print('The score of support vector classifier on training data set is :',sc_we.score(X_we_train,y_we_train))"
   ]
  },
  {
   "cell_type": "markdown",
   "id": "274c3829",
   "metadata": {},
   "source": [
    "#### (viii). Displaying the score for testing data set"
   ]
  },
  {
   "cell_type": "code",
   "execution_count": 75,
   "id": "8d75277c",
   "metadata": {},
   "outputs": [
    {
     "name": "stdout",
     "output_type": "stream",
     "text": [
      "The score of logistic regrression on testing data set is : 0.8277153558052435\n",
      "The score of kneighbors classifier on testing data set is : 0.8277153558052435\n",
      "The score of decision tree classifier on testing data set is : 0.8014981273408239\n",
      "The score of random forest classifier on testing data set is : 0.8052434456928839\n",
      "The score of support vector classifier on testing data set is : 0.8539325842696629\n"
     ]
    }
   ],
   "source": [
    "print('The score of logistic regrression on testing data set is :',lr_we.score(X_we_test,y_we_test))\n",
    "print('The score of kneighbors classifier on testing data set is :',kn_we.score(X_we_test,y_we_test))\n",
    "print('The score of decision tree classifier on testing data set is :',dt_we.score(X_we_test,y_we_test))\n",
    "print('The score of random forest classifier on testing data set is :',rf_we.score(X_we_test,y_we_test))\n",
    "print('The score of support vector classifier on testing data set is :',sc_we.score(X_we_test,y_we_test))"
   ]
  },
  {
   "cell_type": "markdown",
   "id": "58e8d71f",
   "metadata": {},
   "source": [
    "#### (ix). Displaying accuracy score of different model"
   ]
  },
  {
   "cell_type": "code",
   "execution_count": 76,
   "id": "a2aae1ca",
   "metadata": {},
   "outputs": [
    {
     "name": "stdout",
     "output_type": "stream",
     "text": [
      "The accuracy score of logistic regrression is : 0.8277153558052435\n",
      "The accuracy score of kneighbors classifier is : 0.8277153558052435\n",
      "The accuracy score of decision tree classifier is : 0.8014981273408239\n",
      "The accuracy score of random forest classifier is : 0.8052434456928839\n",
      "The accuracy score of support vector classifieris : 0.8539325842696629\n"
     ]
    }
   ],
   "source": [
    "print('The accuracy score of logistic regrression is :',accuracy_score(y_we_pred_lr,y_we_test))\n",
    "print('The accuracy score of kneighbors classifier is :',accuracy_score(y_we_pred_kn,y_we_test))\n",
    "print('The accuracy score of decision tree classifier is :',accuracy_score(y_we_pred_dt,y_we_test))\n",
    "print('The accuracy score of random forest classifier is :',accuracy_score(y_we_pred_rf,y_we_test))\n",
    "print('The accuracy score of support vector classifieris :',accuracy_score(y_we_pred_sc,y_we_test))"
   ]
  },
  {
   "cell_type": "markdown",
   "id": "246a33a0",
   "metadata": {},
   "source": [
    "### 10. Creating data frame to visualize both condition outcome"
   ]
  },
  {
   "cell_type": "code",
   "execution_count": 77,
   "id": "57b52c90",
   "metadata": {},
   "outputs": [],
   "source": [
    "all_outcome = pd.DataFrame({})"
   ]
  },
  {
   "cell_type": "code",
   "execution_count": 78,
   "id": "a19d5814",
   "metadata": {},
   "outputs": [],
   "source": [
    "all_outcome['Model_Name'] = ['Logistic Regression','Kneighbors Classifier','Decision Tree Classifier','Random Forest Classifier','SVC']"
   ]
  },
  {
   "cell_type": "code",
   "execution_count": 79,
   "id": "659f1b07",
   "metadata": {},
   "outputs": [],
   "source": [
    "all_outcome['Accuracy_With_Embarked'] = [accuracy_score(y_pred_lr,y_test),accuracy_score(y_pred_kn,y_test),accuracy_score(y_pred_dt,y_test),accuracy_score(y_pred_rf,y_test),accuracy_score(y_pred_sc,y_test)]"
   ]
  },
  {
   "cell_type": "code",
   "execution_count": 80,
   "id": "b9d2b17c",
   "metadata": {},
   "outputs": [],
   "source": [
    "all_outcome['Accuracy_Without_Embarked'] = [accuracy_score(y_we_pred_lr,y_we_test),accuracy_score(y_we_pred_kn,y_we_test),accuracy_score(y_we_pred_dt,y_we_test),accuracy_score(y_we_pred_rf,y_we_test),accuracy_score(y_we_pred_sc,y_we_test)]"
   ]
  },
  {
   "cell_type": "code",
   "execution_count": 81,
   "id": "ea0dfeb8",
   "metadata": {},
   "outputs": [
    {
     "data": {
      "text/html": [
       "<div>\n",
       "<style scoped>\n",
       "    .dataframe tbody tr th:only-of-type {\n",
       "        vertical-align: middle;\n",
       "    }\n",
       "\n",
       "    .dataframe tbody tr th {\n",
       "        vertical-align: top;\n",
       "    }\n",
       "\n",
       "    .dataframe thead th {\n",
       "        text-align: right;\n",
       "    }\n",
       "</style>\n",
       "<table border=\"1\" class=\"dataframe\">\n",
       "  <thead>\n",
       "    <tr style=\"text-align: right;\">\n",
       "      <th></th>\n",
       "      <th>Model_Name</th>\n",
       "      <th>Accuracy_With_Embarked</th>\n",
       "      <th>Accuracy_Without_Embarked</th>\n",
       "    </tr>\n",
       "  </thead>\n",
       "  <tbody>\n",
       "    <tr>\n",
       "      <th>0</th>\n",
       "      <td>Logistic Regression</td>\n",
       "      <td>0.831461</td>\n",
       "      <td>0.827715</td>\n",
       "    </tr>\n",
       "    <tr>\n",
       "      <th>1</th>\n",
       "      <td>Kneighbors Classifier</td>\n",
       "      <td>0.805243</td>\n",
       "      <td>0.827715</td>\n",
       "    </tr>\n",
       "    <tr>\n",
       "      <th>2</th>\n",
       "      <td>Decision Tree Classifier</td>\n",
       "      <td>0.805243</td>\n",
       "      <td>0.801498</td>\n",
       "    </tr>\n",
       "    <tr>\n",
       "      <th>3</th>\n",
       "      <td>Random Forest Classifier</td>\n",
       "      <td>0.812734</td>\n",
       "      <td>0.805243</td>\n",
       "    </tr>\n",
       "    <tr>\n",
       "      <th>4</th>\n",
       "      <td>SVC</td>\n",
       "      <td>0.865169</td>\n",
       "      <td>0.853933</td>\n",
       "    </tr>\n",
       "  </tbody>\n",
       "</table>\n",
       "</div>"
      ],
      "text/plain": [
       "                 Model_Name  Accuracy_With_Embarked  Accuracy_Without_Embarked\n",
       "0       Logistic Regression                0.831461                   0.827715\n",
       "1     Kneighbors Classifier                0.805243                   0.827715\n",
       "2  Decision Tree Classifier                0.805243                   0.801498\n",
       "3  Random Forest Classifier                0.812734                   0.805243\n",
       "4                       SVC                0.865169                   0.853933"
      ]
     },
     "execution_count": 81,
     "metadata": {},
     "output_type": "execute_result"
    }
   ],
   "source": [
    "all_outcome"
   ]
  },
  {
   "cell_type": "code",
   "execution_count": 82,
   "id": "ae2feff8",
   "metadata": {},
   "outputs": [],
   "source": [
    "all_outcome['Training_Score_With_Embarked'] = [lr.score(X_train,y_train),kn.score(X_train,y_train),dt.score(X_train,y_train),rf.score(X_train,y_train),sc.score(X_train,y_train)]"
   ]
  },
  {
   "cell_type": "code",
   "execution_count": 83,
   "id": "4116ac2d",
   "metadata": {},
   "outputs": [],
   "source": [
    "all_outcome['Training_Score_Without_Embarked'] = [lr_we.score(X_we_train,y_we_train),kn_we.score(X_we_train,y_we_train),dt_we.score(X_we_train,y_we_train),rf_we.score(X_we_train,y_we_train),sc_we.score(X_we_train,y_we_train)]"
   ]
  },
  {
   "cell_type": "code",
   "execution_count": 84,
   "id": "cc07af22",
   "metadata": {},
   "outputs": [
    {
     "data": {
      "text/html": [
       "<div>\n",
       "<style scoped>\n",
       "    .dataframe tbody tr th:only-of-type {\n",
       "        vertical-align: middle;\n",
       "    }\n",
       "\n",
       "    .dataframe tbody tr th {\n",
       "        vertical-align: top;\n",
       "    }\n",
       "\n",
       "    .dataframe thead th {\n",
       "        text-align: right;\n",
       "    }\n",
       "</style>\n",
       "<table border=\"1\" class=\"dataframe\">\n",
       "  <thead>\n",
       "    <tr style=\"text-align: right;\">\n",
       "      <th></th>\n",
       "      <th>Model_Name</th>\n",
       "      <th>Accuracy_With_Embarked</th>\n",
       "      <th>Accuracy_Without_Embarked</th>\n",
       "      <th>Training_Score_With_Embarked</th>\n",
       "      <th>Training_Score_Without_Embarked</th>\n",
       "    </tr>\n",
       "  </thead>\n",
       "  <tbody>\n",
       "    <tr>\n",
       "      <th>0</th>\n",
       "      <td>Logistic Regression</td>\n",
       "      <td>0.831461</td>\n",
       "      <td>0.827715</td>\n",
       "      <td>0.786174</td>\n",
       "      <td>0.787781</td>\n",
       "    </tr>\n",
       "    <tr>\n",
       "      <th>1</th>\n",
       "      <td>Kneighbors Classifier</td>\n",
       "      <td>0.805243</td>\n",
       "      <td>0.827715</td>\n",
       "      <td>0.858521</td>\n",
       "      <td>0.856913</td>\n",
       "    </tr>\n",
       "    <tr>\n",
       "      <th>2</th>\n",
       "      <td>Decision Tree Classifier</td>\n",
       "      <td>0.805243</td>\n",
       "      <td>0.801498</td>\n",
       "      <td>0.987138</td>\n",
       "      <td>0.987138</td>\n",
       "    </tr>\n",
       "    <tr>\n",
       "      <th>3</th>\n",
       "      <td>Random Forest Classifier</td>\n",
       "      <td>0.812734</td>\n",
       "      <td>0.805243</td>\n",
       "      <td>0.987138</td>\n",
       "      <td>0.987138</td>\n",
       "    </tr>\n",
       "    <tr>\n",
       "      <th>4</th>\n",
       "      <td>SVC</td>\n",
       "      <td>0.865169</td>\n",
       "      <td>0.853933</td>\n",
       "      <td>0.826367</td>\n",
       "      <td>0.821543</td>\n",
       "    </tr>\n",
       "  </tbody>\n",
       "</table>\n",
       "</div>"
      ],
      "text/plain": [
       "                 Model_Name  Accuracy_With_Embarked  \\\n",
       "0       Logistic Regression                0.831461   \n",
       "1     Kneighbors Classifier                0.805243   \n",
       "2  Decision Tree Classifier                0.805243   \n",
       "3  Random Forest Classifier                0.812734   \n",
       "4                       SVC                0.865169   \n",
       "\n",
       "   Accuracy_Without_Embarked  Training_Score_With_Embarked  \\\n",
       "0                   0.827715                      0.786174   \n",
       "1                   0.827715                      0.858521   \n",
       "2                   0.801498                      0.987138   \n",
       "3                   0.805243                      0.987138   \n",
       "4                   0.853933                      0.826367   \n",
       "\n",
       "   Training_Score_Without_Embarked  \n",
       "0                         0.787781  \n",
       "1                         0.856913  \n",
       "2                         0.987138  \n",
       "3                         0.987138  \n",
       "4                         0.821543  "
      ]
     },
     "execution_count": 84,
     "metadata": {},
     "output_type": "execute_result"
    }
   ],
   "source": [
    "all_outcome"
   ]
  },
  {
   "cell_type": "code",
   "execution_count": 85,
   "id": "76489308",
   "metadata": {},
   "outputs": [],
   "source": [
    "all_outcome['Testing_Score_With_Embarked'] = [lr.score(X_test,y_test),kn.score(X_test,y_test),dt.score(X_test,y_test),rf.score(X_test,y_test),sc.score(X_test,y_test)]"
   ]
  },
  {
   "cell_type": "code",
   "execution_count": 86,
   "id": "924f8e2e",
   "metadata": {},
   "outputs": [],
   "source": [
    "all_outcome['Testing_Score_Without_Embarked'] = [lr_we.score(X_we_test,y_we_test),kn_we.score(X_we_test,y_we_test),dt_we.score(X_we_test,y_we_test),rf_we.score(X_we_test,y_we_test),sc_we.score(X_we_test,y_we_test)]"
   ]
  },
  {
   "cell_type": "code",
   "execution_count": 87,
   "id": "e3e5178c",
   "metadata": {},
   "outputs": [
    {
     "data": {
      "text/html": [
       "<div>\n",
       "<style scoped>\n",
       "    .dataframe tbody tr th:only-of-type {\n",
       "        vertical-align: middle;\n",
       "    }\n",
       "\n",
       "    .dataframe tbody tr th {\n",
       "        vertical-align: top;\n",
       "    }\n",
       "\n",
       "    .dataframe thead th {\n",
       "        text-align: right;\n",
       "    }\n",
       "</style>\n",
       "<table border=\"1\" class=\"dataframe\">\n",
       "  <thead>\n",
       "    <tr style=\"text-align: right;\">\n",
       "      <th></th>\n",
       "      <th>Model_Name</th>\n",
       "      <th>Accuracy_With_Embarked</th>\n",
       "      <th>Accuracy_Without_Embarked</th>\n",
       "      <th>Training_Score_With_Embarked</th>\n",
       "      <th>Training_Score_Without_Embarked</th>\n",
       "      <th>Testing_Score_With_Embarked</th>\n",
       "      <th>Testing_Score_Without_Embarked</th>\n",
       "    </tr>\n",
       "  </thead>\n",
       "  <tbody>\n",
       "    <tr>\n",
       "      <th>0</th>\n",
       "      <td>Logistic Regression</td>\n",
       "      <td>0.831461</td>\n",
       "      <td>0.827715</td>\n",
       "      <td>0.786174</td>\n",
       "      <td>0.787781</td>\n",
       "      <td>0.831461</td>\n",
       "      <td>0.827715</td>\n",
       "    </tr>\n",
       "    <tr>\n",
       "      <th>1</th>\n",
       "      <td>Kneighbors Classifier</td>\n",
       "      <td>0.805243</td>\n",
       "      <td>0.827715</td>\n",
       "      <td>0.858521</td>\n",
       "      <td>0.856913</td>\n",
       "      <td>0.805243</td>\n",
       "      <td>0.827715</td>\n",
       "    </tr>\n",
       "    <tr>\n",
       "      <th>2</th>\n",
       "      <td>Decision Tree Classifier</td>\n",
       "      <td>0.805243</td>\n",
       "      <td>0.801498</td>\n",
       "      <td>0.987138</td>\n",
       "      <td>0.987138</td>\n",
       "      <td>0.805243</td>\n",
       "      <td>0.801498</td>\n",
       "    </tr>\n",
       "    <tr>\n",
       "      <th>3</th>\n",
       "      <td>Random Forest Classifier</td>\n",
       "      <td>0.812734</td>\n",
       "      <td>0.805243</td>\n",
       "      <td>0.987138</td>\n",
       "      <td>0.987138</td>\n",
       "      <td>0.812734</td>\n",
       "      <td>0.805243</td>\n",
       "    </tr>\n",
       "    <tr>\n",
       "      <th>4</th>\n",
       "      <td>SVC</td>\n",
       "      <td>0.865169</td>\n",
       "      <td>0.853933</td>\n",
       "      <td>0.826367</td>\n",
       "      <td>0.821543</td>\n",
       "      <td>0.865169</td>\n",
       "      <td>0.853933</td>\n",
       "    </tr>\n",
       "  </tbody>\n",
       "</table>\n",
       "</div>"
      ],
      "text/plain": [
       "                 Model_Name  Accuracy_With_Embarked  \\\n",
       "0       Logistic Regression                0.831461   \n",
       "1     Kneighbors Classifier                0.805243   \n",
       "2  Decision Tree Classifier                0.805243   \n",
       "3  Random Forest Classifier                0.812734   \n",
       "4                       SVC                0.865169   \n",
       "\n",
       "   Accuracy_Without_Embarked  Training_Score_With_Embarked  \\\n",
       "0                   0.827715                      0.786174   \n",
       "1                   0.827715                      0.858521   \n",
       "2                   0.801498                      0.987138   \n",
       "3                   0.805243                      0.987138   \n",
       "4                   0.853933                      0.826367   \n",
       "\n",
       "   Training_Score_Without_Embarked  Testing_Score_With_Embarked  \\\n",
       "0                         0.787781                     0.831461   \n",
       "1                         0.856913                     0.805243   \n",
       "2                         0.987138                     0.805243   \n",
       "3                         0.987138                     0.812734   \n",
       "4                         0.821543                     0.865169   \n",
       "\n",
       "   Testing_Score_Without_Embarked  \n",
       "0                        0.827715  \n",
       "1                        0.827715  \n",
       "2                        0.801498  \n",
       "3                        0.805243  \n",
       "4                        0.853933  "
      ]
     },
     "execution_count": 87,
     "metadata": {},
     "output_type": "execute_result"
    }
   ],
   "source": [
    "all_outcome"
   ]
  },
  {
   "cell_type": "markdown",
   "id": "a23b57bd",
   "metadata": {},
   "source": [
    "##### Outcome : \n",
    "* As i observed 'Embarked' existance have no major impact so i can drop it also.\n",
    "* I considering all accuracy & score without 'Emabarked'.\n",
    "* The accuracy score by SVC have maximum accuracy.\n",
    "* For this dataset SVC will be best model with accuracy 85.39."
   ]
  },
  {
   "cell_type": "markdown",
   "id": "45631ac0",
   "metadata": {},
   "source": [
    "### 11. Model Evaluation"
   ]
  },
  {
   "cell_type": "markdown",
   "id": "d008d789",
   "metadata": {},
   "source": [
    "#### a). Confusion matrix for SVC model"
   ]
  },
  {
   "cell_type": "code",
   "execution_count": 88,
   "id": "62ffb86c",
   "metadata": {},
   "outputs": [
    {
     "data": {
      "text/plain": [
       "array([[149,  24],\n",
       "       [ 15,  79]], dtype=int64)"
      ]
     },
     "execution_count": 88,
     "metadata": {},
     "output_type": "execute_result"
    }
   ],
   "source": [
    "cfm_matrix = confusion_matrix(y_we_pred_sc,y_we_test)\n",
    "cfm_matrix"
   ]
  },
  {
   "cell_type": "markdown",
   "id": "11f82eea",
   "metadata": {},
   "source": [
    "#### b). Classification report for SVC model"
   ]
  },
  {
   "cell_type": "code",
   "execution_count": 89,
   "id": "fdd19e76",
   "metadata": {},
   "outputs": [
    {
     "name": "stdout",
     "output_type": "stream",
     "text": [
      "              precision    recall  f1-score   support\n",
      "\n",
      "        Died       0.91      0.86      0.88       173\n",
      "    Survived       0.77      0.84      0.80        94\n",
      "\n",
      "    accuracy                           0.85       267\n",
      "   macro avg       0.84      0.85      0.84       267\n",
      "weighted avg       0.86      0.85      0.86       267\n",
      "\n"
     ]
    }
   ],
   "source": [
    "print(classification_report(y_we_pred_sc,y_we_test))"
   ]
  },
  {
   "cell_type": "markdown",
   "id": "1070277d",
   "metadata": {},
   "source": [
    "### 12. Checking the model is whether overfitted or not using Cross Validation"
   ]
  },
  {
   "cell_type": "code",
   "execution_count": 90,
   "id": "c4002c8f",
   "metadata": {},
   "outputs": [],
   "source": [
    "from sklearn.model_selection import KFold,cross_val_score"
   ]
  },
  {
   "cell_type": "code",
   "execution_count": 91,
   "id": "cd3b6300",
   "metadata": {},
   "outputs": [
    {
     "data": {
      "text/plain": [
       "array([0.8258427 , 0.81460674, 0.81460674, 0.80898876, 0.85875706])"
      ]
     },
     "execution_count": 91,
     "metadata": {},
     "output_type": "execute_result"
    }
   ],
   "source": [
    "cross_val_score(sc_we,X_we_scaled,y_we,cv=5)"
   ]
  },
  {
   "cell_type": "code",
   "execution_count": 92,
   "id": "1b1766e5",
   "metadata": {},
   "outputs": [
    {
     "data": {
      "text/plain": [
       "0.8245604011934236"
      ]
     },
     "execution_count": 92,
     "metadata": {},
     "output_type": "execute_result"
    }
   ],
   "source": [
    "cross_val_score(SVC(),X_we_scaled,y_we,cv=5).mean()"
   ]
  },
  {
   "cell_type": "markdown",
   "id": "24dc7a24",
   "metadata": {},
   "source": [
    "##### Outcome :\n",
    "* Since there is minor difference in accuracy and cross validation score. So our model is not overfitted."
   ]
  },
  {
   "cell_type": "markdown",
   "id": "b48d4f1e",
   "metadata": {},
   "source": [
    "### 13. Saving our model"
   ]
  },
  {
   "cell_type": "code",
   "execution_count": 93,
   "id": "560923fa",
   "metadata": {},
   "outputs": [],
   "source": [
    "import pickle"
   ]
  },
  {
   "cell_type": "code",
   "execution_count": 94,
   "id": "692a50d6",
   "metadata": {},
   "outputs": [],
   "source": [
    "final_result = 'Titanic.pickle'\n",
    "pickle.dump(sc_we,open(final_result,'wb'))"
   ]
  }
 ],
 "metadata": {
  "kernelspec": {
   "display_name": "Python 3",
   "language": "python",
   "name": "python3"
  },
  "language_info": {
   "codemirror_mode": {
    "name": "ipython",
    "version": 3
   },
   "file_extension": ".py",
   "mimetype": "text/x-python",
   "name": "python",
   "nbconvert_exporter": "python",
   "pygments_lexer": "ipython3",
   "version": "3.8.8"
  }
 },
 "nbformat": 4,
 "nbformat_minor": 5
}
