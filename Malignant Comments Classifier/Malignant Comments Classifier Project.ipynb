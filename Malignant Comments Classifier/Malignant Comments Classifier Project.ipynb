{
 "cells": [
  {
   "cell_type": "markdown",
   "id": "86cfa1a4",
   "metadata": {},
   "source": [
    "### 1. Importing important libraries"
   ]
  },
  {
   "cell_type": "code",
   "execution_count": 1,
   "id": "2f8d8320",
   "metadata": {},
   "outputs": [],
   "source": [
    "import numpy as np\n",
    "import pandas as pd\n",
    "import matplotlib.pyplot as plt\n",
    "import seaborn as sns\n",
    "\n",
    "import warnings\n",
    "warnings.filterwarnings('ignore')"
   ]
  },
  {
   "cell_type": "markdown",
   "id": "e6337e6c",
   "metadata": {},
   "source": [
    "### 2. Importing dataset, creating dataframe and display first five rows"
   ]
  },
  {
   "cell_type": "markdown",
   "id": "c2b44471",
   "metadata": {},
   "source": [
    "#### a). Train dataset"
   ]
  },
  {
   "cell_type": "code",
   "execution_count": 2,
   "id": "4d3eed00",
   "metadata": {},
   "outputs": [
    {
     "data": {
      "text/html": [
       "<div>\n",
       "<style scoped>\n",
       "    .dataframe tbody tr th:only-of-type {\n",
       "        vertical-align: middle;\n",
       "    }\n",
       "\n",
       "    .dataframe tbody tr th {\n",
       "        vertical-align: top;\n",
       "    }\n",
       "\n",
       "    .dataframe thead th {\n",
       "        text-align: right;\n",
       "    }\n",
       "</style>\n",
       "<table border=\"1\" class=\"dataframe\">\n",
       "  <thead>\n",
       "    <tr style=\"text-align: right;\">\n",
       "      <th></th>\n",
       "      <th>id</th>\n",
       "      <th>comment_text</th>\n",
       "      <th>malignant</th>\n",
       "      <th>highly_malignant</th>\n",
       "      <th>rude</th>\n",
       "      <th>threat</th>\n",
       "      <th>abuse</th>\n",
       "      <th>loathe</th>\n",
       "    </tr>\n",
       "  </thead>\n",
       "  <tbody>\n",
       "    <tr>\n",
       "      <th>0</th>\n",
       "      <td>0000997932d777bf</td>\n",
       "      <td>Explanation\\nWhy the edits made under my usern...</td>\n",
       "      <td>0</td>\n",
       "      <td>0</td>\n",
       "      <td>0</td>\n",
       "      <td>0</td>\n",
       "      <td>0</td>\n",
       "      <td>0</td>\n",
       "    </tr>\n",
       "    <tr>\n",
       "      <th>1</th>\n",
       "      <td>000103f0d9cfb60f</td>\n",
       "      <td>D'aww! He matches this background colour I'm s...</td>\n",
       "      <td>0</td>\n",
       "      <td>0</td>\n",
       "      <td>0</td>\n",
       "      <td>0</td>\n",
       "      <td>0</td>\n",
       "      <td>0</td>\n",
       "    </tr>\n",
       "    <tr>\n",
       "      <th>2</th>\n",
       "      <td>000113f07ec002fd</td>\n",
       "      <td>Hey man, I'm really not trying to edit war. It...</td>\n",
       "      <td>0</td>\n",
       "      <td>0</td>\n",
       "      <td>0</td>\n",
       "      <td>0</td>\n",
       "      <td>0</td>\n",
       "      <td>0</td>\n",
       "    </tr>\n",
       "    <tr>\n",
       "      <th>3</th>\n",
       "      <td>0001b41b1c6bb37e</td>\n",
       "      <td>\"\\nMore\\nI can't make any real suggestions on ...</td>\n",
       "      <td>0</td>\n",
       "      <td>0</td>\n",
       "      <td>0</td>\n",
       "      <td>0</td>\n",
       "      <td>0</td>\n",
       "      <td>0</td>\n",
       "    </tr>\n",
       "    <tr>\n",
       "      <th>4</th>\n",
       "      <td>0001d958c54c6e35</td>\n",
       "      <td>You, sir, are my hero. Any chance you remember...</td>\n",
       "      <td>0</td>\n",
       "      <td>0</td>\n",
       "      <td>0</td>\n",
       "      <td>0</td>\n",
       "      <td>0</td>\n",
       "      <td>0</td>\n",
       "    </tr>\n",
       "  </tbody>\n",
       "</table>\n",
       "</div>"
      ],
      "text/plain": [
       "                 id                                       comment_text  \\\n",
       "0  0000997932d777bf  Explanation\\nWhy the edits made under my usern...   \n",
       "1  000103f0d9cfb60f  D'aww! He matches this background colour I'm s...   \n",
       "2  000113f07ec002fd  Hey man, I'm really not trying to edit war. It...   \n",
       "3  0001b41b1c6bb37e  \"\\nMore\\nI can't make any real suggestions on ...   \n",
       "4  0001d958c54c6e35  You, sir, are my hero. Any chance you remember...   \n",
       "\n",
       "   malignant  highly_malignant  rude  threat  abuse  loathe  \n",
       "0          0                 0     0       0      0       0  \n",
       "1          0                 0     0       0      0       0  \n",
       "2          0                 0     0       0      0       0  \n",
       "3          0                 0     0       0      0       0  \n",
       "4          0                 0     0       0      0       0  "
      ]
     },
     "execution_count": 2,
     "metadata": {},
     "output_type": "execute_result"
    }
   ],
   "source": [
    "df_train = pd.read_csv(r'E:/DATA TRAINED/Internship/Assignment 10/Malignant-Comments-Classifier-Project--1---1-/Malignant Comments Classifier Project/train.csv')\n",
    "df_train.head()"
   ]
  },
  {
   "cell_type": "markdown",
   "id": "7376618e",
   "metadata": {},
   "source": [
    "#### b). Test dataset"
   ]
  },
  {
   "cell_type": "code",
   "execution_count": 3,
   "id": "03e1e27e",
   "metadata": {},
   "outputs": [
    {
     "data": {
      "text/html": [
       "<div>\n",
       "<style scoped>\n",
       "    .dataframe tbody tr th:only-of-type {\n",
       "        vertical-align: middle;\n",
       "    }\n",
       "\n",
       "    .dataframe tbody tr th {\n",
       "        vertical-align: top;\n",
       "    }\n",
       "\n",
       "    .dataframe thead th {\n",
       "        text-align: right;\n",
       "    }\n",
       "</style>\n",
       "<table border=\"1\" class=\"dataframe\">\n",
       "  <thead>\n",
       "    <tr style=\"text-align: right;\">\n",
       "      <th></th>\n",
       "      <th>id</th>\n",
       "      <th>comment_text</th>\n",
       "    </tr>\n",
       "  </thead>\n",
       "  <tbody>\n",
       "    <tr>\n",
       "      <th>0</th>\n",
       "      <td>00001cee341fdb12</td>\n",
       "      <td>Yo bitch Ja Rule is more succesful then you'll...</td>\n",
       "    </tr>\n",
       "    <tr>\n",
       "      <th>1</th>\n",
       "      <td>0000247867823ef7</td>\n",
       "      <td>== From RfC == \\n\\n The title is fine as it is...</td>\n",
       "    </tr>\n",
       "    <tr>\n",
       "      <th>2</th>\n",
       "      <td>00013b17ad220c46</td>\n",
       "      <td>\" \\n\\n == Sources == \\n\\n * Zawe Ashton on Lap...</td>\n",
       "    </tr>\n",
       "    <tr>\n",
       "      <th>3</th>\n",
       "      <td>00017563c3f7919a</td>\n",
       "      <td>:If you have a look back at the source, the in...</td>\n",
       "    </tr>\n",
       "    <tr>\n",
       "      <th>4</th>\n",
       "      <td>00017695ad8997eb</td>\n",
       "      <td>I don't anonymously edit articles at all.</td>\n",
       "    </tr>\n",
       "  </tbody>\n",
       "</table>\n",
       "</div>"
      ],
      "text/plain": [
       "                 id                                       comment_text\n",
       "0  00001cee341fdb12  Yo bitch Ja Rule is more succesful then you'll...\n",
       "1  0000247867823ef7  == From RfC == \\n\\n The title is fine as it is...\n",
       "2  00013b17ad220c46  \" \\n\\n == Sources == \\n\\n * Zawe Ashton on Lap...\n",
       "3  00017563c3f7919a  :If you have a look back at the source, the in...\n",
       "4  00017695ad8997eb          I don't anonymously edit articles at all."
      ]
     },
     "execution_count": 3,
     "metadata": {},
     "output_type": "execute_result"
    }
   ],
   "source": [
    "df_test = pd.read_csv(r'E:/DATA TRAINED/Internship/Assignment 10/Malignant-Comments-Classifier-Project--1---1-/Malignant Comments Classifier Project/test.csv')\n",
    "df_test.head()"
   ]
  },
  {
   "cell_type": "markdown",
   "id": "24b9dc8b",
   "metadata": {},
   "source": [
    "### 3. Exploring dataframe"
   ]
  },
  {
   "cell_type": "markdown",
   "id": "bb7fd3e8",
   "metadata": {},
   "source": [
    "#### a). Dataframe Shape"
   ]
  },
  {
   "cell_type": "code",
   "execution_count": 4,
   "id": "93691bfd",
   "metadata": {},
   "outputs": [
    {
     "name": "stdout",
     "output_type": "stream",
     "text": [
      "The shape of train dataframe is : (159571, 8)\n",
      "The shape of test dataframe is : (153164, 2)\n"
     ]
    }
   ],
   "source": [
    "print('The shape of train dataframe is :',df_train.shape)\n",
    "print('The shape of test dataframe is :',df_test.shape)"
   ]
  },
  {
   "cell_type": "markdown",
   "id": "8ca7bf5c",
   "metadata": {},
   "source": [
    "##### Outcome : There are 159571 rows and 8 columns in the train dataset. There are 153164 rows and 2 columns in the test dataset."
   ]
  },
  {
   "cell_type": "markdown",
   "id": "12201a54",
   "metadata": {},
   "source": [
    "#### b). Dataframe info"
   ]
  },
  {
   "cell_type": "code",
   "execution_count": 5,
   "id": "2b6576fe",
   "metadata": {},
   "outputs": [
    {
     "name": "stdout",
     "output_type": "stream",
     "text": [
      "The info of train dataframe is :\n",
      "\n",
      "<class 'pandas.core.frame.DataFrame'>\n",
      "RangeIndex: 159571 entries, 0 to 159570\n",
      "Data columns (total 8 columns):\n",
      " #   Column            Non-Null Count   Dtype \n",
      "---  ------            --------------   ----- \n",
      " 0   id                159571 non-null  object\n",
      " 1   comment_text      159571 non-null  object\n",
      " 2   malignant         159571 non-null  int64 \n",
      " 3   highly_malignant  159571 non-null  int64 \n",
      " 4   rude              159571 non-null  int64 \n",
      " 5   threat            159571 non-null  int64 \n",
      " 6   abuse             159571 non-null  int64 \n",
      " 7   loathe            159571 non-null  int64 \n",
      "dtypes: int64(6), object(2)\n",
      "memory usage: 9.7+ MB\n",
      "\n",
      " ***************************************************\n",
      "\n",
      "The info of test dataframe is :\n",
      "\n",
      "<class 'pandas.core.frame.DataFrame'>\n",
      "RangeIndex: 153164 entries, 0 to 153163\n",
      "Data columns (total 2 columns):\n",
      " #   Column        Non-Null Count   Dtype \n",
      "---  ------        --------------   ----- \n",
      " 0   id            153164 non-null  object\n",
      " 1   comment_text  153164 non-null  object\n",
      "dtypes: object(2)\n",
      "memory usage: 2.3+ MB\n",
      "\n",
      " ***************************************************\n",
      "\n"
     ]
    }
   ],
   "source": [
    "print('The info of train dataframe is :\\n')\n",
    "df_train.info()\n",
    "print('\\n ***************************************************\\n')\n",
    "print('The info of test dataframe is :\\n')\n",
    "df_test.info()\n",
    "print('\\n ***************************************************\\n')"
   ]
  },
  {
   "cell_type": "markdown",
   "id": "9dcfac1e",
   "metadata": {},
   "source": [
    "##### Outcome :\n",
    "* 2 out of 8 columns are of object type in the train dataset.\n",
    "* 6 out of 8 columns are of int type in the train dataset.\n",
    "* 2 out of 2 columns are of object type in the test dataset.\n",
    "* In both dataset 'id' column is not useful for model.\n",
    "* There is no null values in the dataset."
   ]
  },
  {
   "cell_type": "markdown",
   "id": "e6499619",
   "metadata": {},
   "source": [
    "#### c). Cross checking the null values"
   ]
  },
  {
   "cell_type": "code",
   "execution_count": 6,
   "id": "8a2a61a2",
   "metadata": {},
   "outputs": [
    {
     "name": "stdout",
     "output_type": "stream",
     "text": [
      "The count of null values in train dataframe is :\n",
      " id                  0\n",
      "comment_text        0\n",
      "malignant           0\n",
      "highly_malignant    0\n",
      "rude                0\n",
      "threat              0\n",
      "abuse               0\n",
      "loathe              0\n",
      "dtype: int64\n",
      "\n",
      " ***************************************************\n",
      "\n",
      "The count of null values in test dataframe is :\n",
      " id              0\n",
      "comment_text    0\n",
      "dtype: int64\n",
      "\n",
      " ***************************************************\n",
      "\n"
     ]
    }
   ],
   "source": [
    "print('The count of null values in train dataframe is :\\n',df_train.isnull().sum())\n",
    "print('\\n ***************************************************\\n')\n",
    "print('The count of null values in test dataframe is :\\n',df_test.isnull().sum())\n",
    "print('\\n ***************************************************\\n')"
   ]
  },
  {
   "cell_type": "markdown",
   "id": "fa38f052",
   "metadata": {},
   "source": [
    "#### d). Checking the unique values count in each column"
   ]
  },
  {
   "cell_type": "code",
   "execution_count": 7,
   "id": "72ee0476",
   "metadata": {},
   "outputs": [
    {
     "name": "stdout",
     "output_type": "stream",
     "text": [
      "The count of unique values in train dataframe is :\n",
      " id                  159571\n",
      "comment_text        159571\n",
      "malignant                2\n",
      "highly_malignant         2\n",
      "rude                     2\n",
      "threat                   2\n",
      "abuse                    2\n",
      "loathe                   2\n",
      "dtype: int64\n",
      "\n",
      " ***************************************************\n",
      "\n",
      "The count of unique values in test dataframe is :\n",
      " id              153164\n",
      "comment_text    153164\n",
      "dtype: int64\n",
      "\n",
      " ***************************************************\n",
      "\n"
     ]
    }
   ],
   "source": [
    "print('The count of unique values in train dataframe is :\\n',df_train.nunique())\n",
    "print('\\n ***************************************************\\n')\n",
    "print('The count of unique values in test dataframe is :\\n',df_test.nunique())\n",
    "print('\\n ***************************************************\\n')"
   ]
  },
  {
   "cell_type": "markdown",
   "id": "4d6fefa1",
   "metadata": {},
   "source": [
    "##### Outcome : In both datset 'id' column is present which is not useful for model so need to drop it from both dataset."
   ]
  },
  {
   "cell_type": "code",
   "execution_count": 8,
   "id": "975f46dd",
   "metadata": {},
   "outputs": [],
   "source": [
    "df_train.drop(columns='id',axis=1,inplace=True)\n",
    "df_test.drop(columns='id',axis=1,inplace=True)"
   ]
  },
  {
   "cell_type": "code",
   "execution_count": 9,
   "id": "ff3ea1e6",
   "metadata": {},
   "outputs": [
    {
     "name": "stdout",
     "output_type": "stream",
     "text": [
      "Now the shape of train dataframe is : (159571, 7)\n",
      "Now the shape of test dataframe is : (153164, 1)\n"
     ]
    }
   ],
   "source": [
    "print('Now the shape of train dataframe is :',df_train.shape)\n",
    "print('Now the shape of test dataframe is :',df_test.shape)"
   ]
  },
  {
   "cell_type": "markdown",
   "id": "14cb9607",
   "metadata": {},
   "source": [
    "#### e). Checking the unique values in each column"
   ]
  },
  {
   "cell_type": "code",
   "execution_count": 10,
   "id": "f05ca6d0",
   "metadata": {},
   "outputs": [
    {
     "name": "stdout",
     "output_type": "stream",
     "text": [
      "The values count for malignant is :\n",
      " 0    144277\n",
      "1     15294\n",
      "Name: malignant, dtype: int64\n",
      "-----------------------------------------------------\n",
      "-----------------------------------------------------\n",
      "The values count for highly_malignant is :\n",
      " 0    157976\n",
      "1      1595\n",
      "Name: highly_malignant, dtype: int64\n",
      "-----------------------------------------------------\n",
      "-----------------------------------------------------\n",
      "The values count for rude is :\n",
      " 0    151122\n",
      "1      8449\n",
      "Name: rude, dtype: int64\n",
      "-----------------------------------------------------\n",
      "-----------------------------------------------------\n",
      "The values count for threat is :\n",
      " 0    159093\n",
      "1       478\n",
      "Name: threat, dtype: int64\n",
      "-----------------------------------------------------\n",
      "-----------------------------------------------------\n",
      "The values count for abuse is :\n",
      " 0    151694\n",
      "1      7877\n",
      "Name: abuse, dtype: int64\n",
      "-----------------------------------------------------\n",
      "-----------------------------------------------------\n",
      "The values count for loathe is :\n",
      " 0    158166\n",
      "1      1405\n",
      "Name: loathe, dtype: int64\n",
      "-----------------------------------------------------\n",
      "-----------------------------------------------------\n"
     ]
    }
   ],
   "source": [
    "column = ['malignant','highly_malignant','rude','threat','abuse','loathe']\n",
    "for col in column:\n",
    "    print('The values count for '+col+' is :\\n',df_train[col].value_counts())\n",
    "    print('-----------------------------------------------------')\n",
    "    print('-----------------------------------------------------')"
   ]
  },
  {
   "cell_type": "markdown",
   "id": "b3702f7b",
   "metadata": {},
   "source": [
    "### 4. Descriptive Statical Data"
   ]
  },
  {
   "cell_type": "code",
   "execution_count": 11,
   "id": "5707d985",
   "metadata": {},
   "outputs": [
    {
     "data": {
      "text/html": [
       "<div>\n",
       "<style scoped>\n",
       "    .dataframe tbody tr th:only-of-type {\n",
       "        vertical-align: middle;\n",
       "    }\n",
       "\n",
       "    .dataframe tbody tr th {\n",
       "        vertical-align: top;\n",
       "    }\n",
       "\n",
       "    .dataframe thead th {\n",
       "        text-align: right;\n",
       "    }\n",
       "</style>\n",
       "<table border=\"1\" class=\"dataframe\">\n",
       "  <thead>\n",
       "    <tr style=\"text-align: right;\">\n",
       "      <th></th>\n",
       "      <th>malignant</th>\n",
       "      <th>highly_malignant</th>\n",
       "      <th>rude</th>\n",
       "      <th>threat</th>\n",
       "      <th>abuse</th>\n",
       "      <th>loathe</th>\n",
       "    </tr>\n",
       "  </thead>\n",
       "  <tbody>\n",
       "    <tr>\n",
       "      <th>count</th>\n",
       "      <td>159571.000000</td>\n",
       "      <td>159571.000000</td>\n",
       "      <td>159571.000000</td>\n",
       "      <td>159571.000000</td>\n",
       "      <td>159571.000000</td>\n",
       "      <td>159571.000000</td>\n",
       "    </tr>\n",
       "    <tr>\n",
       "      <th>mean</th>\n",
       "      <td>0.095844</td>\n",
       "      <td>0.009996</td>\n",
       "      <td>0.052948</td>\n",
       "      <td>0.002996</td>\n",
       "      <td>0.049364</td>\n",
       "      <td>0.008805</td>\n",
       "    </tr>\n",
       "    <tr>\n",
       "      <th>std</th>\n",
       "      <td>0.294379</td>\n",
       "      <td>0.099477</td>\n",
       "      <td>0.223931</td>\n",
       "      <td>0.054650</td>\n",
       "      <td>0.216627</td>\n",
       "      <td>0.093420</td>\n",
       "    </tr>\n",
       "    <tr>\n",
       "      <th>min</th>\n",
       "      <td>0.000000</td>\n",
       "      <td>0.000000</td>\n",
       "      <td>0.000000</td>\n",
       "      <td>0.000000</td>\n",
       "      <td>0.000000</td>\n",
       "      <td>0.000000</td>\n",
       "    </tr>\n",
       "    <tr>\n",
       "      <th>25%</th>\n",
       "      <td>0.000000</td>\n",
       "      <td>0.000000</td>\n",
       "      <td>0.000000</td>\n",
       "      <td>0.000000</td>\n",
       "      <td>0.000000</td>\n",
       "      <td>0.000000</td>\n",
       "    </tr>\n",
       "    <tr>\n",
       "      <th>50%</th>\n",
       "      <td>0.000000</td>\n",
       "      <td>0.000000</td>\n",
       "      <td>0.000000</td>\n",
       "      <td>0.000000</td>\n",
       "      <td>0.000000</td>\n",
       "      <td>0.000000</td>\n",
       "    </tr>\n",
       "    <tr>\n",
       "      <th>75%</th>\n",
       "      <td>0.000000</td>\n",
       "      <td>0.000000</td>\n",
       "      <td>0.000000</td>\n",
       "      <td>0.000000</td>\n",
       "      <td>0.000000</td>\n",
       "      <td>0.000000</td>\n",
       "    </tr>\n",
       "    <tr>\n",
       "      <th>max</th>\n",
       "      <td>1.000000</td>\n",
       "      <td>1.000000</td>\n",
       "      <td>1.000000</td>\n",
       "      <td>1.000000</td>\n",
       "      <td>1.000000</td>\n",
       "      <td>1.000000</td>\n",
       "    </tr>\n",
       "  </tbody>\n",
       "</table>\n",
       "</div>"
      ],
      "text/plain": [
       "           malignant  highly_malignant           rude         threat  \\\n",
       "count  159571.000000     159571.000000  159571.000000  159571.000000   \n",
       "mean        0.095844          0.009996       0.052948       0.002996   \n",
       "std         0.294379          0.099477       0.223931       0.054650   \n",
       "min         0.000000          0.000000       0.000000       0.000000   \n",
       "25%         0.000000          0.000000       0.000000       0.000000   \n",
       "50%         0.000000          0.000000       0.000000       0.000000   \n",
       "75%         0.000000          0.000000       0.000000       0.000000   \n",
       "max         1.000000          1.000000       1.000000       1.000000   \n",
       "\n",
       "               abuse         loathe  \n",
       "count  159571.000000  159571.000000  \n",
       "mean        0.049364       0.008805  \n",
       "std         0.216627       0.093420  \n",
       "min         0.000000       0.000000  \n",
       "25%         0.000000       0.000000  \n",
       "50%         0.000000       0.000000  \n",
       "75%         0.000000       0.000000  \n",
       "max         1.000000       1.000000  "
      ]
     },
     "execution_count": 11,
     "metadata": {},
     "output_type": "execute_result"
    }
   ],
   "source": [
    "df_train.describe()"
   ]
  },
  {
   "cell_type": "markdown",
   "id": "d7ef52d6",
   "metadata": {},
   "source": [
    "##### Outcome :\n",
    "* There is no null values.\n",
    "* There is no outliers in the dataset.\n",
    "* As all are the categorical so there is no skewness."
   ]
  },
  {
   "cell_type": "markdown",
   "id": "a49d9baf",
   "metadata": {},
   "source": [
    "### 5. Data preprocessing"
   ]
  },
  {
   "cell_type": "code",
   "execution_count": 12,
   "id": "f697ae57",
   "metadata": {},
   "outputs": [
    {
     "data": {
      "text/plain": [
       "malignant           15294\n",
       "highly_malignant     1595\n",
       "rude                 8449\n",
       "threat                478\n",
       "abuse                7877\n",
       "loathe               1405\n",
       "dtype: int64"
      ]
     },
     "execution_count": 12,
     "metadata": {},
     "output_type": "execute_result"
    }
   ],
   "source": [
    "df_train[column].sum()"
   ]
  },
  {
   "cell_type": "code",
   "execution_count": 13,
   "id": "9e82644d",
   "metadata": {},
   "outputs": [
    {
     "data": {
      "text/html": [
       "<div>\n",
       "<style scoped>\n",
       "    .dataframe tbody tr th:only-of-type {\n",
       "        vertical-align: middle;\n",
       "    }\n",
       "\n",
       "    .dataframe tbody tr th {\n",
       "        vertical-align: top;\n",
       "    }\n",
       "\n",
       "    .dataframe thead th {\n",
       "        text-align: right;\n",
       "    }\n",
       "</style>\n",
       "<table border=\"1\" class=\"dataframe\">\n",
       "  <thead>\n",
       "    <tr style=\"text-align: right;\">\n",
       "      <th></th>\n",
       "      <th>comment_text</th>\n",
       "      <th>malignant</th>\n",
       "      <th>highly_malignant</th>\n",
       "      <th>rude</th>\n",
       "      <th>threat</th>\n",
       "      <th>abuse</th>\n",
       "      <th>loathe</th>\n",
       "      <th>label</th>\n",
       "    </tr>\n",
       "  </thead>\n",
       "  <tbody>\n",
       "    <tr>\n",
       "      <th>0</th>\n",
       "      <td>Explanation\\nWhy the edits made under my usern...</td>\n",
       "      <td>0</td>\n",
       "      <td>0</td>\n",
       "      <td>0</td>\n",
       "      <td>0</td>\n",
       "      <td>0</td>\n",
       "      <td>0</td>\n",
       "      <td>0</td>\n",
       "    </tr>\n",
       "    <tr>\n",
       "      <th>1</th>\n",
       "      <td>D'aww! He matches this background colour I'm s...</td>\n",
       "      <td>0</td>\n",
       "      <td>0</td>\n",
       "      <td>0</td>\n",
       "      <td>0</td>\n",
       "      <td>0</td>\n",
       "      <td>0</td>\n",
       "      <td>0</td>\n",
       "    </tr>\n",
       "    <tr>\n",
       "      <th>2</th>\n",
       "      <td>Hey man, I'm really not trying to edit war. It...</td>\n",
       "      <td>0</td>\n",
       "      <td>0</td>\n",
       "      <td>0</td>\n",
       "      <td>0</td>\n",
       "      <td>0</td>\n",
       "      <td>0</td>\n",
       "      <td>0</td>\n",
       "    </tr>\n",
       "    <tr>\n",
       "      <th>3</th>\n",
       "      <td>\"\\nMore\\nI can't make any real suggestions on ...</td>\n",
       "      <td>0</td>\n",
       "      <td>0</td>\n",
       "      <td>0</td>\n",
       "      <td>0</td>\n",
       "      <td>0</td>\n",
       "      <td>0</td>\n",
       "      <td>0</td>\n",
       "    </tr>\n",
       "    <tr>\n",
       "      <th>4</th>\n",
       "      <td>You, sir, are my hero. Any chance you remember...</td>\n",
       "      <td>0</td>\n",
       "      <td>0</td>\n",
       "      <td>0</td>\n",
       "      <td>0</td>\n",
       "      <td>0</td>\n",
       "      <td>0</td>\n",
       "      <td>0</td>\n",
       "    </tr>\n",
       "    <tr>\n",
       "      <th>5</th>\n",
       "      <td>\"\\n\\nCongratulations from me as well, use the ...</td>\n",
       "      <td>0</td>\n",
       "      <td>0</td>\n",
       "      <td>0</td>\n",
       "      <td>0</td>\n",
       "      <td>0</td>\n",
       "      <td>0</td>\n",
       "      <td>0</td>\n",
       "    </tr>\n",
       "    <tr>\n",
       "      <th>6</th>\n",
       "      <td>COCKSUCKER BEFORE YOU PISS AROUND ON MY WORK</td>\n",
       "      <td>1</td>\n",
       "      <td>1</td>\n",
       "      <td>1</td>\n",
       "      <td>0</td>\n",
       "      <td>1</td>\n",
       "      <td>0</td>\n",
       "      <td>4</td>\n",
       "    </tr>\n",
       "    <tr>\n",
       "      <th>7</th>\n",
       "      <td>Your vandalism to the Matt Shirvington article...</td>\n",
       "      <td>0</td>\n",
       "      <td>0</td>\n",
       "      <td>0</td>\n",
       "      <td>0</td>\n",
       "      <td>0</td>\n",
       "      <td>0</td>\n",
       "      <td>0</td>\n",
       "    </tr>\n",
       "    <tr>\n",
       "      <th>8</th>\n",
       "      <td>Sorry if the word 'nonsense' was offensive to ...</td>\n",
       "      <td>0</td>\n",
       "      <td>0</td>\n",
       "      <td>0</td>\n",
       "      <td>0</td>\n",
       "      <td>0</td>\n",
       "      <td>0</td>\n",
       "      <td>0</td>\n",
       "    </tr>\n",
       "    <tr>\n",
       "      <th>9</th>\n",
       "      <td>alignment on this subject and which are contra...</td>\n",
       "      <td>0</td>\n",
       "      <td>0</td>\n",
       "      <td>0</td>\n",
       "      <td>0</td>\n",
       "      <td>0</td>\n",
       "      <td>0</td>\n",
       "      <td>0</td>\n",
       "    </tr>\n",
       "  </tbody>\n",
       "</table>\n",
       "</div>"
      ],
      "text/plain": [
       "                                        comment_text  malignant  \\\n",
       "0  Explanation\\nWhy the edits made under my usern...          0   \n",
       "1  D'aww! He matches this background colour I'm s...          0   \n",
       "2  Hey man, I'm really not trying to edit war. It...          0   \n",
       "3  \"\\nMore\\nI can't make any real suggestions on ...          0   \n",
       "4  You, sir, are my hero. Any chance you remember...          0   \n",
       "5  \"\\n\\nCongratulations from me as well, use the ...          0   \n",
       "6       COCKSUCKER BEFORE YOU PISS AROUND ON MY WORK          1   \n",
       "7  Your vandalism to the Matt Shirvington article...          0   \n",
       "8  Sorry if the word 'nonsense' was offensive to ...          0   \n",
       "9  alignment on this subject and which are contra...          0   \n",
       "\n",
       "   highly_malignant  rude  threat  abuse  loathe  label  \n",
       "0                 0     0       0      0       0      0  \n",
       "1                 0     0       0      0       0      0  \n",
       "2                 0     0       0      0       0      0  \n",
       "3                 0     0       0      0       0      0  \n",
       "4                 0     0       0      0       0      0  \n",
       "5                 0     0       0      0       0      0  \n",
       "6                 1     1       0      1       0      4  \n",
       "7                 0     0       0      0       0      0  \n",
       "8                 0     0       0      0       0      0  \n",
       "9                 0     0       0      0       0      0  "
      ]
     },
     "execution_count": 13,
     "metadata": {},
     "output_type": "execute_result"
    }
   ],
   "source": [
    "df_train['label'] = df_train[column].sum(axis=1)\n",
    "df_train.head(10)"
   ]
  },
  {
   "cell_type": "code",
   "execution_count": 14,
   "id": "3aab7c1d",
   "metadata": {},
   "outputs": [
    {
     "data": {
      "text/plain": [
       "0    143346\n",
       "1      6360\n",
       "3      4209\n",
       "2      3480\n",
       "4      1760\n",
       "5       385\n",
       "6        31\n",
       "Name: label, dtype: int64"
      ]
     },
     "execution_count": 14,
     "metadata": {},
     "output_type": "execute_result"
    }
   ],
   "source": [
    "df_train['label'].value_counts()"
   ]
  },
  {
   "cell_type": "code",
   "execution_count": 15,
   "id": "732fe5b2",
   "metadata": {},
   "outputs": [
    {
     "data": {
      "text/html": [
       "<div>\n",
       "<style scoped>\n",
       "    .dataframe tbody tr th:only-of-type {\n",
       "        vertical-align: middle;\n",
       "    }\n",
       "\n",
       "    .dataframe tbody tr th {\n",
       "        vertical-align: top;\n",
       "    }\n",
       "\n",
       "    .dataframe thead th {\n",
       "        text-align: right;\n",
       "    }\n",
       "</style>\n",
       "<table border=\"1\" class=\"dataframe\">\n",
       "  <thead>\n",
       "    <tr style=\"text-align: right;\">\n",
       "      <th></th>\n",
       "      <th>comment_text</th>\n",
       "      <th>malignant</th>\n",
       "      <th>highly_malignant</th>\n",
       "      <th>rude</th>\n",
       "      <th>threat</th>\n",
       "      <th>abuse</th>\n",
       "      <th>loathe</th>\n",
       "      <th>label</th>\n",
       "    </tr>\n",
       "  </thead>\n",
       "  <tbody>\n",
       "    <tr>\n",
       "      <th>0</th>\n",
       "      <td>Explanation\\nWhy the edits made under my usern...</td>\n",
       "      <td>0</td>\n",
       "      <td>0</td>\n",
       "      <td>0</td>\n",
       "      <td>0</td>\n",
       "      <td>0</td>\n",
       "      <td>0</td>\n",
       "      <td>0</td>\n",
       "    </tr>\n",
       "    <tr>\n",
       "      <th>1</th>\n",
       "      <td>D'aww! He matches this background colour I'm s...</td>\n",
       "      <td>0</td>\n",
       "      <td>0</td>\n",
       "      <td>0</td>\n",
       "      <td>0</td>\n",
       "      <td>0</td>\n",
       "      <td>0</td>\n",
       "      <td>0</td>\n",
       "    </tr>\n",
       "    <tr>\n",
       "      <th>2</th>\n",
       "      <td>Hey man, I'm really not trying to edit war. It...</td>\n",
       "      <td>0</td>\n",
       "      <td>0</td>\n",
       "      <td>0</td>\n",
       "      <td>0</td>\n",
       "      <td>0</td>\n",
       "      <td>0</td>\n",
       "      <td>0</td>\n",
       "    </tr>\n",
       "    <tr>\n",
       "      <th>3</th>\n",
       "      <td>\"\\nMore\\nI can't make any real suggestions on ...</td>\n",
       "      <td>0</td>\n",
       "      <td>0</td>\n",
       "      <td>0</td>\n",
       "      <td>0</td>\n",
       "      <td>0</td>\n",
       "      <td>0</td>\n",
       "      <td>0</td>\n",
       "    </tr>\n",
       "    <tr>\n",
       "      <th>4</th>\n",
       "      <td>You, sir, are my hero. Any chance you remember...</td>\n",
       "      <td>0</td>\n",
       "      <td>0</td>\n",
       "      <td>0</td>\n",
       "      <td>0</td>\n",
       "      <td>0</td>\n",
       "      <td>0</td>\n",
       "      <td>0</td>\n",
       "    </tr>\n",
       "    <tr>\n",
       "      <th>...</th>\n",
       "      <td>...</td>\n",
       "      <td>...</td>\n",
       "      <td>...</td>\n",
       "      <td>...</td>\n",
       "      <td>...</td>\n",
       "      <td>...</td>\n",
       "      <td>...</td>\n",
       "      <td>...</td>\n",
       "    </tr>\n",
       "    <tr>\n",
       "      <th>159566</th>\n",
       "      <td>\":::::And for the second time of asking, when ...</td>\n",
       "      <td>0</td>\n",
       "      <td>0</td>\n",
       "      <td>0</td>\n",
       "      <td>0</td>\n",
       "      <td>0</td>\n",
       "      <td>0</td>\n",
       "      <td>0</td>\n",
       "    </tr>\n",
       "    <tr>\n",
       "      <th>159567</th>\n",
       "      <td>You should be ashamed of yourself \\n\\nThat is ...</td>\n",
       "      <td>0</td>\n",
       "      <td>0</td>\n",
       "      <td>0</td>\n",
       "      <td>0</td>\n",
       "      <td>0</td>\n",
       "      <td>0</td>\n",
       "      <td>0</td>\n",
       "    </tr>\n",
       "    <tr>\n",
       "      <th>159568</th>\n",
       "      <td>Spitzer \\n\\nUmm, theres no actual article for ...</td>\n",
       "      <td>0</td>\n",
       "      <td>0</td>\n",
       "      <td>0</td>\n",
       "      <td>0</td>\n",
       "      <td>0</td>\n",
       "      <td>0</td>\n",
       "      <td>0</td>\n",
       "    </tr>\n",
       "    <tr>\n",
       "      <th>159569</th>\n",
       "      <td>And it looks like it was actually you who put ...</td>\n",
       "      <td>0</td>\n",
       "      <td>0</td>\n",
       "      <td>0</td>\n",
       "      <td>0</td>\n",
       "      <td>0</td>\n",
       "      <td>0</td>\n",
       "      <td>0</td>\n",
       "    </tr>\n",
       "    <tr>\n",
       "      <th>159570</th>\n",
       "      <td>\"\\nAnd ... I really don't think you understand...</td>\n",
       "      <td>0</td>\n",
       "      <td>0</td>\n",
       "      <td>0</td>\n",
       "      <td>0</td>\n",
       "      <td>0</td>\n",
       "      <td>0</td>\n",
       "      <td>0</td>\n",
       "    </tr>\n",
       "  </tbody>\n",
       "</table>\n",
       "<p>159571 rows × 8 columns</p>\n",
       "</div>"
      ],
      "text/plain": [
       "                                             comment_text  malignant  \\\n",
       "0       Explanation\\nWhy the edits made under my usern...          0   \n",
       "1       D'aww! He matches this background colour I'm s...          0   \n",
       "2       Hey man, I'm really not trying to edit war. It...          0   \n",
       "3       \"\\nMore\\nI can't make any real suggestions on ...          0   \n",
       "4       You, sir, are my hero. Any chance you remember...          0   \n",
       "...                                                   ...        ...   \n",
       "159566  \":::::And for the second time of asking, when ...          0   \n",
       "159567  You should be ashamed of yourself \\n\\nThat is ...          0   \n",
       "159568  Spitzer \\n\\nUmm, theres no actual article for ...          0   \n",
       "159569  And it looks like it was actually you who put ...          0   \n",
       "159570  \"\\nAnd ... I really don't think you understand...          0   \n",
       "\n",
       "        highly_malignant  rude  threat  abuse  loathe  label  \n",
       "0                      0     0       0      0       0      0  \n",
       "1                      0     0       0      0       0      0  \n",
       "2                      0     0       0      0       0      0  \n",
       "3                      0     0       0      0       0      0  \n",
       "4                      0     0       0      0       0      0  \n",
       "...                  ...   ...     ...    ...     ...    ...  \n",
       "159566                 0     0       0      0       0      0  \n",
       "159567                 0     0       0      0       0      0  \n",
       "159568                 0     0       0      0       0      0  \n",
       "159569                 0     0       0      0       0      0  \n",
       "159570                 0     0       0      0       0      0  \n",
       "\n",
       "[159571 rows x 8 columns]"
      ]
     },
     "execution_count": 15,
     "metadata": {},
     "output_type": "execute_result"
    }
   ],
   "source": [
    "df_train['label'] = df_train['label']>0\n",
    "df_train['label'] = df_train['label'].astype(int)\n",
    "df_train"
   ]
  },
  {
   "cell_type": "code",
   "execution_count": 16,
   "id": "a74e29d6",
   "metadata": {},
   "outputs": [
    {
     "data": {
      "text/plain": [
       "0    143346\n",
       "1     16225\n",
       "Name: label, dtype: int64"
      ]
     },
     "execution_count": 16,
     "metadata": {},
     "output_type": "execute_result"
    }
   ],
   "source": [
    "df_train['label'].value_counts()"
   ]
  },
  {
   "cell_type": "code",
   "execution_count": 17,
   "id": "cbb1868a",
   "metadata": {},
   "outputs": [
    {
     "data": {
      "text/html": [
       "<div>\n",
       "<style scoped>\n",
       "    .dataframe tbody tr th:only-of-type {\n",
       "        vertical-align: middle;\n",
       "    }\n",
       "\n",
       "    .dataframe tbody tr th {\n",
       "        vertical-align: top;\n",
       "    }\n",
       "\n",
       "    .dataframe thead th {\n",
       "        text-align: right;\n",
       "    }\n",
       "</style>\n",
       "<table border=\"1\" class=\"dataframe\">\n",
       "  <thead>\n",
       "    <tr style=\"text-align: right;\">\n",
       "      <th></th>\n",
       "      <th>comment_text</th>\n",
       "      <th>malignant</th>\n",
       "      <th>highly_malignant</th>\n",
       "      <th>rude</th>\n",
       "      <th>threat</th>\n",
       "      <th>abuse</th>\n",
       "      <th>loathe</th>\n",
       "      <th>label</th>\n",
       "      <th>comment_length</th>\n",
       "    </tr>\n",
       "  </thead>\n",
       "  <tbody>\n",
       "    <tr>\n",
       "      <th>0</th>\n",
       "      <td>Explanation\\nWhy the edits made under my usern...</td>\n",
       "      <td>0</td>\n",
       "      <td>0</td>\n",
       "      <td>0</td>\n",
       "      <td>0</td>\n",
       "      <td>0</td>\n",
       "      <td>0</td>\n",
       "      <td>0</td>\n",
       "      <td>264</td>\n",
       "    </tr>\n",
       "    <tr>\n",
       "      <th>1</th>\n",
       "      <td>D'aww! He matches this background colour I'm s...</td>\n",
       "      <td>0</td>\n",
       "      <td>0</td>\n",
       "      <td>0</td>\n",
       "      <td>0</td>\n",
       "      <td>0</td>\n",
       "      <td>0</td>\n",
       "      <td>0</td>\n",
       "      <td>112</td>\n",
       "    </tr>\n",
       "    <tr>\n",
       "      <th>2</th>\n",
       "      <td>Hey man, I'm really not trying to edit war. It...</td>\n",
       "      <td>0</td>\n",
       "      <td>0</td>\n",
       "      <td>0</td>\n",
       "      <td>0</td>\n",
       "      <td>0</td>\n",
       "      <td>0</td>\n",
       "      <td>0</td>\n",
       "      <td>233</td>\n",
       "    </tr>\n",
       "    <tr>\n",
       "      <th>3</th>\n",
       "      <td>\"\\nMore\\nI can't make any real suggestions on ...</td>\n",
       "      <td>0</td>\n",
       "      <td>0</td>\n",
       "      <td>0</td>\n",
       "      <td>0</td>\n",
       "      <td>0</td>\n",
       "      <td>0</td>\n",
       "      <td>0</td>\n",
       "      <td>622</td>\n",
       "    </tr>\n",
       "    <tr>\n",
       "      <th>4</th>\n",
       "      <td>You, sir, are my hero. Any chance you remember...</td>\n",
       "      <td>0</td>\n",
       "      <td>0</td>\n",
       "      <td>0</td>\n",
       "      <td>0</td>\n",
       "      <td>0</td>\n",
       "      <td>0</td>\n",
       "      <td>0</td>\n",
       "      <td>67</td>\n",
       "    </tr>\n",
       "    <tr>\n",
       "      <th>...</th>\n",
       "      <td>...</td>\n",
       "      <td>...</td>\n",
       "      <td>...</td>\n",
       "      <td>...</td>\n",
       "      <td>...</td>\n",
       "      <td>...</td>\n",
       "      <td>...</td>\n",
       "      <td>...</td>\n",
       "      <td>...</td>\n",
       "    </tr>\n",
       "    <tr>\n",
       "      <th>159566</th>\n",
       "      <td>\":::::And for the second time of asking, when ...</td>\n",
       "      <td>0</td>\n",
       "      <td>0</td>\n",
       "      <td>0</td>\n",
       "      <td>0</td>\n",
       "      <td>0</td>\n",
       "      <td>0</td>\n",
       "      <td>0</td>\n",
       "      <td>295</td>\n",
       "    </tr>\n",
       "    <tr>\n",
       "      <th>159567</th>\n",
       "      <td>You should be ashamed of yourself \\n\\nThat is ...</td>\n",
       "      <td>0</td>\n",
       "      <td>0</td>\n",
       "      <td>0</td>\n",
       "      <td>0</td>\n",
       "      <td>0</td>\n",
       "      <td>0</td>\n",
       "      <td>0</td>\n",
       "      <td>99</td>\n",
       "    </tr>\n",
       "    <tr>\n",
       "      <th>159568</th>\n",
       "      <td>Spitzer \\n\\nUmm, theres no actual article for ...</td>\n",
       "      <td>0</td>\n",
       "      <td>0</td>\n",
       "      <td>0</td>\n",
       "      <td>0</td>\n",
       "      <td>0</td>\n",
       "      <td>0</td>\n",
       "      <td>0</td>\n",
       "      <td>81</td>\n",
       "    </tr>\n",
       "    <tr>\n",
       "      <th>159569</th>\n",
       "      <td>And it looks like it was actually you who put ...</td>\n",
       "      <td>0</td>\n",
       "      <td>0</td>\n",
       "      <td>0</td>\n",
       "      <td>0</td>\n",
       "      <td>0</td>\n",
       "      <td>0</td>\n",
       "      <td>0</td>\n",
       "      <td>116</td>\n",
       "    </tr>\n",
       "    <tr>\n",
       "      <th>159570</th>\n",
       "      <td>\"\\nAnd ... I really don't think you understand...</td>\n",
       "      <td>0</td>\n",
       "      <td>0</td>\n",
       "      <td>0</td>\n",
       "      <td>0</td>\n",
       "      <td>0</td>\n",
       "      <td>0</td>\n",
       "      <td>0</td>\n",
       "      <td>189</td>\n",
       "    </tr>\n",
       "  </tbody>\n",
       "</table>\n",
       "<p>159571 rows × 9 columns</p>\n",
       "</div>"
      ],
      "text/plain": [
       "                                             comment_text  malignant  \\\n",
       "0       Explanation\\nWhy the edits made under my usern...          0   \n",
       "1       D'aww! He matches this background colour I'm s...          0   \n",
       "2       Hey man, I'm really not trying to edit war. It...          0   \n",
       "3       \"\\nMore\\nI can't make any real suggestions on ...          0   \n",
       "4       You, sir, are my hero. Any chance you remember...          0   \n",
       "...                                                   ...        ...   \n",
       "159566  \":::::And for the second time of asking, when ...          0   \n",
       "159567  You should be ashamed of yourself \\n\\nThat is ...          0   \n",
       "159568  Spitzer \\n\\nUmm, theres no actual article for ...          0   \n",
       "159569  And it looks like it was actually you who put ...          0   \n",
       "159570  \"\\nAnd ... I really don't think you understand...          0   \n",
       "\n",
       "        highly_malignant  rude  threat  abuse  loathe  label  comment_length  \n",
       "0                      0     0       0      0       0      0             264  \n",
       "1                      0     0       0      0       0      0             112  \n",
       "2                      0     0       0      0       0      0             233  \n",
       "3                      0     0       0      0       0      0             622  \n",
       "4                      0     0       0      0       0      0              67  \n",
       "...                  ...   ...     ...    ...     ...    ...             ...  \n",
       "159566                 0     0       0      0       0      0             295  \n",
       "159567                 0     0       0      0       0      0              99  \n",
       "159568                 0     0       0      0       0      0              81  \n",
       "159569                 0     0       0      0       0      0             116  \n",
       "159570                 0     0       0      0       0      0             189  \n",
       "\n",
       "[159571 rows x 9 columns]"
      ]
     },
     "execution_count": 17,
     "metadata": {},
     "output_type": "execute_result"
    }
   ],
   "source": [
    "df_train['comment_length'] = df_train['comment_text'].str.len()\n",
    "df_train"
   ]
  },
  {
   "cell_type": "code",
   "execution_count": 18,
   "id": "163b6e61",
   "metadata": {},
   "outputs": [
    {
     "data": {
      "text/html": [
       "<div>\n",
       "<style scoped>\n",
       "    .dataframe tbody tr th:only-of-type {\n",
       "        vertical-align: middle;\n",
       "    }\n",
       "\n",
       "    .dataframe tbody tr th {\n",
       "        vertical-align: top;\n",
       "    }\n",
       "\n",
       "    .dataframe thead th {\n",
       "        text-align: right;\n",
       "    }\n",
       "</style>\n",
       "<table border=\"1\" class=\"dataframe\">\n",
       "  <thead>\n",
       "    <tr style=\"text-align: right;\">\n",
       "      <th></th>\n",
       "      <th>comment_text</th>\n",
       "      <th>comment_length</th>\n",
       "    </tr>\n",
       "  </thead>\n",
       "  <tbody>\n",
       "    <tr>\n",
       "      <th>0</th>\n",
       "      <td>Yo bitch Ja Rule is more succesful then you'll...</td>\n",
       "      <td>367</td>\n",
       "    </tr>\n",
       "    <tr>\n",
       "      <th>1</th>\n",
       "      <td>== From RfC == \\n\\n The title is fine as it is...</td>\n",
       "      <td>50</td>\n",
       "    </tr>\n",
       "    <tr>\n",
       "      <th>2</th>\n",
       "      <td>\" \\n\\n == Sources == \\n\\n * Zawe Ashton on Lap...</td>\n",
       "      <td>54</td>\n",
       "    </tr>\n",
       "    <tr>\n",
       "      <th>3</th>\n",
       "      <td>:If you have a look back at the source, the in...</td>\n",
       "      <td>205</td>\n",
       "    </tr>\n",
       "    <tr>\n",
       "      <th>4</th>\n",
       "      <td>I don't anonymously edit articles at all.</td>\n",
       "      <td>41</td>\n",
       "    </tr>\n",
       "    <tr>\n",
       "      <th>...</th>\n",
       "      <td>...</td>\n",
       "      <td>...</td>\n",
       "    </tr>\n",
       "    <tr>\n",
       "      <th>153159</th>\n",
       "      <td>. \\n i totally agree, this stuff is nothing bu...</td>\n",
       "      <td>60</td>\n",
       "    </tr>\n",
       "    <tr>\n",
       "      <th>153160</th>\n",
       "      <td>== Throw from out field to home plate. == \\n\\n...</td>\n",
       "      <td>198</td>\n",
       "    </tr>\n",
       "    <tr>\n",
       "      <th>153161</th>\n",
       "      <td>\" \\n\\n == Okinotorishima categories == \\n\\n I ...</td>\n",
       "      <td>423</td>\n",
       "    </tr>\n",
       "    <tr>\n",
       "      <th>153162</th>\n",
       "      <td>\" \\n\\n == \"\"One of the founding nations of the...</td>\n",
       "      <td>502</td>\n",
       "    </tr>\n",
       "    <tr>\n",
       "      <th>153163</th>\n",
       "      <td>\" \\n :::Stop already. Your bullshit is not wel...</td>\n",
       "      <td>141</td>\n",
       "    </tr>\n",
       "  </tbody>\n",
       "</table>\n",
       "<p>153164 rows × 2 columns</p>\n",
       "</div>"
      ],
      "text/plain": [
       "                                             comment_text  comment_length\n",
       "0       Yo bitch Ja Rule is more succesful then you'll...             367\n",
       "1       == From RfC == \\n\\n The title is fine as it is...              50\n",
       "2       \" \\n\\n == Sources == \\n\\n * Zawe Ashton on Lap...              54\n",
       "3       :If you have a look back at the source, the in...             205\n",
       "4               I don't anonymously edit articles at all.              41\n",
       "...                                                   ...             ...\n",
       "153159  . \\n i totally agree, this stuff is nothing bu...              60\n",
       "153160  == Throw from out field to home plate. == \\n\\n...             198\n",
       "153161  \" \\n\\n == Okinotorishima categories == \\n\\n I ...             423\n",
       "153162  \" \\n\\n == \"\"One of the founding nations of the...             502\n",
       "153163  \" \\n :::Stop already. Your bullshit is not wel...             141\n",
       "\n",
       "[153164 rows x 2 columns]"
      ]
     },
     "execution_count": 18,
     "metadata": {},
     "output_type": "execute_result"
    }
   ],
   "source": [
    "df_test['comment_length'] = df_test['comment_text'].str.len()\n",
    "df_test"
   ]
  },
  {
   "cell_type": "markdown",
   "id": "355a6f34",
   "metadata": {},
   "source": [
    "### 6. Data Visualization"
   ]
  },
  {
   "cell_type": "markdown",
   "id": "cc33b8fe",
   "metadata": {},
   "source": [
    "#### a). Univariate Analysis"
   ]
  },
  {
   "cell_type": "code",
   "execution_count": 19,
   "id": "1d118aab",
   "metadata": {},
   "outputs": [
    {
     "data": {
      "image/png": "[encoded data removed]",
      "text/plain": [
       "<Figure size 1440x1080 with 6 Axes>"
      ]
     },
     "metadata": {},
     "output_type": "display_data"
    }
   ],
   "source": [
    "plt.figure(figsize=(20,15),facecolor='YellowGreen')\n",
    "plt.style.use('ggplot')\n",
    "plot_no = 1\n",
    "for col in df_train[column]:\n",
    "    if plot_no<=7:\n",
    "        ax = plt.subplot(3,3,plot_no)\n",
    "        sns.countplot(df_train[col],color='Navy')\n",
    "        plt.xlabel(col,fontsize=20)\n",
    "    plot_no+=1\n",
    "plt.show() "
   ]
  },
  {
   "cell_type": "code",
   "execution_count": 20,
   "id": "83afbb1f",
   "metadata": {},
   "outputs": [
    {
     "data": {
      "text/plain": [
       "<AxesSubplot:xlabel='label', ylabel='count'>"
      ]
     },
     "execution_count": 20,
     "metadata": {},
     "output_type": "execute_result"
    },
    {
     "data": {
      "image/png": "[encoded data removed]",
      "text/plain": [
       "<Figure size 432x288 with 1 Axes>"
      ]
     },
     "metadata": {},
     "output_type": "display_data"
    }
   ],
   "source": [
    "plt.figure(facecolor='YellowGreen')\n",
    "sns.countplot(x='label',data=df_train,color='Navy')"
   ]
  },
  {
   "cell_type": "code",
   "execution_count": 21,
   "id": "0345d18c",
   "metadata": {},
   "outputs": [
    {
     "data": {
      "text/plain": [
       "<AxesSubplot:xlabel='comment_length', ylabel='Density'>"
      ]
     },
     "execution_count": 21,
     "metadata": {},
     "output_type": "execute_result"
    },
    {
     "data": {
      "image/png": "[encoded data removed]",
      "text/plain": [
       "<Figure size 432x288 with 1 Axes>"
      ]
     },
     "metadata": {},
     "output_type": "display_data"
    }
   ],
   "source": [
    "plt.figure(facecolor='YellowGreen')\n",
    "sns.distplot(df_train['comment_length'],color='Navy')"
   ]
  },
  {
   "cell_type": "markdown",
   "id": "aaa79819",
   "metadata": {},
   "source": [
    "### 7. Correlation matrix to see the coffecient of multicolinearity"
   ]
  },
  {
   "cell_type": "markdown",
   "id": "38d3d3ea",
   "metadata": {},
   "source": [
    "#### a). Visualize by matrix"
   ]
  },
  {
   "cell_type": "code",
   "execution_count": 22,
   "id": "4d21df6a",
   "metadata": {},
   "outputs": [
    {
     "data": {
      "text/html": [
       "<div>\n",
       "<style scoped>\n",
       "    .dataframe tbody tr th:only-of-type {\n",
       "        vertical-align: middle;\n",
       "    }\n",
       "\n",
       "    .dataframe tbody tr th {\n",
       "        vertical-align: top;\n",
       "    }\n",
       "\n",
       "    .dataframe thead th {\n",
       "        text-align: right;\n",
       "    }\n",
       "</style>\n",
       "<table border=\"1\" class=\"dataframe\">\n",
       "  <thead>\n",
       "    <tr style=\"text-align: right;\">\n",
       "      <th></th>\n",
       "      <th>malignant</th>\n",
       "      <th>highly_malignant</th>\n",
       "      <th>rude</th>\n",
       "      <th>threat</th>\n",
       "      <th>abuse</th>\n",
       "      <th>loathe</th>\n",
       "      <th>label</th>\n",
       "      <th>comment_length</th>\n",
       "    </tr>\n",
       "  </thead>\n",
       "  <tbody>\n",
       "    <tr>\n",
       "      <th>malignant</th>\n",
       "      <td>1.000000</td>\n",
       "      <td>0.308619</td>\n",
       "      <td>0.676515</td>\n",
       "      <td>0.157058</td>\n",
       "      <td>0.647518</td>\n",
       "      <td>0.266009</td>\n",
       "      <td>0.967748</td>\n",
       "      <td>0.054413</td>\n",
       "    </tr>\n",
       "    <tr>\n",
       "      <th>highly_malignant</th>\n",
       "      <td>0.308619</td>\n",
       "      <td>1.000000</td>\n",
       "      <td>0.403014</td>\n",
       "      <td>0.123601</td>\n",
       "      <td>0.375807</td>\n",
       "      <td>0.201600</td>\n",
       "      <td>0.298666</td>\n",
       "      <td>0.010175</td>\n",
       "    </tr>\n",
       "    <tr>\n",
       "      <th>rude</th>\n",
       "      <td>0.676515</td>\n",
       "      <td>0.403014</td>\n",
       "      <td>1.000000</td>\n",
       "      <td>0.141179</td>\n",
       "      <td>0.741272</td>\n",
       "      <td>0.286867</td>\n",
       "      <td>0.702812</td>\n",
       "      <td>0.042910</td>\n",
       "    </tr>\n",
       "    <tr>\n",
       "      <th>threat</th>\n",
       "      <td>0.157058</td>\n",
       "      <td>0.123601</td>\n",
       "      <td>0.141179</td>\n",
       "      <td>1.000000</td>\n",
       "      <td>0.150022</td>\n",
       "      <td>0.115128</td>\n",
       "      <td>0.162925</td>\n",
       "      <td>0.007917</td>\n",
       "    </tr>\n",
       "    <tr>\n",
       "      <th>abuse</th>\n",
       "      <td>0.647518</td>\n",
       "      <td>0.375807</td>\n",
       "      <td>0.741272</td>\n",
       "      <td>0.150022</td>\n",
       "      <td>1.000000</td>\n",
       "      <td>0.337736</td>\n",
       "      <td>0.677324</td>\n",
       "      <td>0.045027</td>\n",
       "    </tr>\n",
       "    <tr>\n",
       "      <th>loathe</th>\n",
       "      <td>0.266009</td>\n",
       "      <td>0.201600</td>\n",
       "      <td>0.286867</td>\n",
       "      <td>0.115128</td>\n",
       "      <td>0.337736</td>\n",
       "      <td>1.000000</td>\n",
       "      <td>0.280144</td>\n",
       "      <td>0.013628</td>\n",
       "    </tr>\n",
       "    <tr>\n",
       "      <th>label</th>\n",
       "      <td>0.967748</td>\n",
       "      <td>0.298666</td>\n",
       "      <td>0.702812</td>\n",
       "      <td>0.162925</td>\n",
       "      <td>0.677324</td>\n",
       "      <td>0.280144</td>\n",
       "      <td>1.000000</td>\n",
       "      <td>0.051643</td>\n",
       "    </tr>\n",
       "    <tr>\n",
       "      <th>comment_length</th>\n",
       "      <td>0.054413</td>\n",
       "      <td>0.010175</td>\n",
       "      <td>0.042910</td>\n",
       "      <td>0.007917</td>\n",
       "      <td>0.045027</td>\n",
       "      <td>0.013628</td>\n",
       "      <td>0.051643</td>\n",
       "      <td>1.000000</td>\n",
       "    </tr>\n",
       "  </tbody>\n",
       "</table>\n",
       "</div>"
      ],
      "text/plain": [
       "                  malignant  highly_malignant      rude    threat     abuse  \\\n",
       "malignant          1.000000          0.308619  0.676515  0.157058  0.647518   \n",
       "highly_malignant   0.308619          1.000000  0.403014  0.123601  0.375807   \n",
       "rude               0.676515          0.403014  1.000000  0.141179  0.741272   \n",
       "threat             0.157058          0.123601  0.141179  1.000000  0.150022   \n",
       "abuse              0.647518          0.375807  0.741272  0.150022  1.000000   \n",
       "loathe             0.266009          0.201600  0.286867  0.115128  0.337736   \n",
       "label              0.967748          0.298666  0.702812  0.162925  0.677324   \n",
       "comment_length     0.054413          0.010175  0.042910  0.007917  0.045027   \n",
       "\n",
       "                    loathe     label  comment_length  \n",
       "malignant         0.266009  0.967748        0.054413  \n",
       "highly_malignant  0.201600  0.298666        0.010175  \n",
       "rude              0.286867  0.702812        0.042910  \n",
       "threat            0.115128  0.162925        0.007917  \n",
       "abuse             0.337736  0.677324        0.045027  \n",
       "loathe            1.000000  0.280144        0.013628  \n",
       "label             0.280144  1.000000        0.051643  \n",
       "comment_length    0.013628  0.051643        1.000000  "
      ]
     },
     "execution_count": 22,
     "metadata": {},
     "output_type": "execute_result"
    }
   ],
   "source": [
    "df_corr = df_train.corr().abs()\n",
    "df_corr"
   ]
  },
  {
   "cell_type": "markdown",
   "id": "0e636d9f",
   "metadata": {},
   "source": [
    "#### b). Visualize by heatmap"
   ]
  },
  {
   "cell_type": "code",
   "execution_count": 23,
   "id": "a3e8437d",
   "metadata": {},
   "outputs": [
    {
     "data": {
      "text/plain": [
       "<AxesSubplot:>"
      ]
     },
     "execution_count": 23,
     "metadata": {},
     "output_type": "execute_result"
    },
    {
     "data": {
      "image/png": "[encoded data removed]",
      "text/plain": [
       "<Figure size 1440x1080 with 2 Axes>"
      ]
     },
     "metadata": {},
     "output_type": "display_data"
    }
   ],
   "source": [
    "plt.figure(figsize=(20,15))\n",
    "sns.heatmap(df_corr,annot=True,annot_kws={'size':15},cmap='viridis')"
   ]
  },
  {
   "cell_type": "markdown",
   "id": "6a47c3de",
   "metadata": {},
   "source": [
    "### 8. Features Engineering"
   ]
  },
  {
   "cell_type": "markdown",
   "id": "45ddbea7",
   "metadata": {},
   "source": [
    "#### a). Convert all comment text into lower case"
   ]
  },
  {
   "cell_type": "code",
   "execution_count": 24,
   "id": "14670924",
   "metadata": {},
   "outputs": [
    {
     "data": {
      "text/html": [
       "<div>\n",
       "<style scoped>\n",
       "    .dataframe tbody tr th:only-of-type {\n",
       "        vertical-align: middle;\n",
       "    }\n",
       "\n",
       "    .dataframe tbody tr th {\n",
       "        vertical-align: top;\n",
       "    }\n",
       "\n",
       "    .dataframe thead th {\n",
       "        text-align: right;\n",
       "    }\n",
       "</style>\n",
       "<table border=\"1\" class=\"dataframe\">\n",
       "  <thead>\n",
       "    <tr style=\"text-align: right;\">\n",
       "      <th></th>\n",
       "      <th>comment_text</th>\n",
       "      <th>malignant</th>\n",
       "      <th>highly_malignant</th>\n",
       "      <th>rude</th>\n",
       "      <th>threat</th>\n",
       "      <th>abuse</th>\n",
       "      <th>loathe</th>\n",
       "      <th>label</th>\n",
       "      <th>comment_length</th>\n",
       "    </tr>\n",
       "  </thead>\n",
       "  <tbody>\n",
       "    <tr>\n",
       "      <th>0</th>\n",
       "      <td>explanation\\nwhy the edits made under my usern...</td>\n",
       "      <td>0</td>\n",
       "      <td>0</td>\n",
       "      <td>0</td>\n",
       "      <td>0</td>\n",
       "      <td>0</td>\n",
       "      <td>0</td>\n",
       "      <td>0</td>\n",
       "      <td>264</td>\n",
       "    </tr>\n",
       "    <tr>\n",
       "      <th>1</th>\n",
       "      <td>d'aww! he matches this background colour i'm s...</td>\n",
       "      <td>0</td>\n",
       "      <td>0</td>\n",
       "      <td>0</td>\n",
       "      <td>0</td>\n",
       "      <td>0</td>\n",
       "      <td>0</td>\n",
       "      <td>0</td>\n",
       "      <td>112</td>\n",
       "    </tr>\n",
       "    <tr>\n",
       "      <th>2</th>\n",
       "      <td>hey man, i'm really not trying to edit war. it...</td>\n",
       "      <td>0</td>\n",
       "      <td>0</td>\n",
       "      <td>0</td>\n",
       "      <td>0</td>\n",
       "      <td>0</td>\n",
       "      <td>0</td>\n",
       "      <td>0</td>\n",
       "      <td>233</td>\n",
       "    </tr>\n",
       "    <tr>\n",
       "      <th>3</th>\n",
       "      <td>\"\\nmore\\ni can't make any real suggestions on ...</td>\n",
       "      <td>0</td>\n",
       "      <td>0</td>\n",
       "      <td>0</td>\n",
       "      <td>0</td>\n",
       "      <td>0</td>\n",
       "      <td>0</td>\n",
       "      <td>0</td>\n",
       "      <td>622</td>\n",
       "    </tr>\n",
       "    <tr>\n",
       "      <th>4</th>\n",
       "      <td>you, sir, are my hero. any chance you remember...</td>\n",
       "      <td>0</td>\n",
       "      <td>0</td>\n",
       "      <td>0</td>\n",
       "      <td>0</td>\n",
       "      <td>0</td>\n",
       "      <td>0</td>\n",
       "      <td>0</td>\n",
       "      <td>67</td>\n",
       "    </tr>\n",
       "    <tr>\n",
       "      <th>...</th>\n",
       "      <td>...</td>\n",
       "      <td>...</td>\n",
       "      <td>...</td>\n",
       "      <td>...</td>\n",
       "      <td>...</td>\n",
       "      <td>...</td>\n",
       "      <td>...</td>\n",
       "      <td>...</td>\n",
       "      <td>...</td>\n",
       "    </tr>\n",
       "    <tr>\n",
       "      <th>159566</th>\n",
       "      <td>\":::::and for the second time of asking, when ...</td>\n",
       "      <td>0</td>\n",
       "      <td>0</td>\n",
       "      <td>0</td>\n",
       "      <td>0</td>\n",
       "      <td>0</td>\n",
       "      <td>0</td>\n",
       "      <td>0</td>\n",
       "      <td>295</td>\n",
       "    </tr>\n",
       "    <tr>\n",
       "      <th>159567</th>\n",
       "      <td>you should be ashamed of yourself \\n\\nthat is ...</td>\n",
       "      <td>0</td>\n",
       "      <td>0</td>\n",
       "      <td>0</td>\n",
       "      <td>0</td>\n",
       "      <td>0</td>\n",
       "      <td>0</td>\n",
       "      <td>0</td>\n",
       "      <td>99</td>\n",
       "    </tr>\n",
       "    <tr>\n",
       "      <th>159568</th>\n",
       "      <td>spitzer \\n\\numm, theres no actual article for ...</td>\n",
       "      <td>0</td>\n",
       "      <td>0</td>\n",
       "      <td>0</td>\n",
       "      <td>0</td>\n",
       "      <td>0</td>\n",
       "      <td>0</td>\n",
       "      <td>0</td>\n",
       "      <td>81</td>\n",
       "    </tr>\n",
       "    <tr>\n",
       "      <th>159569</th>\n",
       "      <td>and it looks like it was actually you who put ...</td>\n",
       "      <td>0</td>\n",
       "      <td>0</td>\n",
       "      <td>0</td>\n",
       "      <td>0</td>\n",
       "      <td>0</td>\n",
       "      <td>0</td>\n",
       "      <td>0</td>\n",
       "      <td>116</td>\n",
       "    </tr>\n",
       "    <tr>\n",
       "      <th>159570</th>\n",
       "      <td>\"\\nand ... i really don't think you understand...</td>\n",
       "      <td>0</td>\n",
       "      <td>0</td>\n",
       "      <td>0</td>\n",
       "      <td>0</td>\n",
       "      <td>0</td>\n",
       "      <td>0</td>\n",
       "      <td>0</td>\n",
       "      <td>189</td>\n",
       "    </tr>\n",
       "  </tbody>\n",
       "</table>\n",
       "<p>159571 rows × 9 columns</p>\n",
       "</div>"
      ],
      "text/plain": [
       "                                             comment_text  malignant  \\\n",
       "0       explanation\\nwhy the edits made under my usern...          0   \n",
       "1       d'aww! he matches this background colour i'm s...          0   \n",
       "2       hey man, i'm really not trying to edit war. it...          0   \n",
       "3       \"\\nmore\\ni can't make any real suggestions on ...          0   \n",
       "4       you, sir, are my hero. any chance you remember...          0   \n",
       "...                                                   ...        ...   \n",
       "159566  \":::::and for the second time of asking, when ...          0   \n",
       "159567  you should be ashamed of yourself \\n\\nthat is ...          0   \n",
       "159568  spitzer \\n\\numm, theres no actual article for ...          0   \n",
       "159569  and it looks like it was actually you who put ...          0   \n",
       "159570  \"\\nand ... i really don't think you understand...          0   \n",
       "\n",
       "        highly_malignant  rude  threat  abuse  loathe  label  comment_length  \n",
       "0                      0     0       0      0       0      0             264  \n",
       "1                      0     0       0      0       0      0             112  \n",
       "2                      0     0       0      0       0      0             233  \n",
       "3                      0     0       0      0       0      0             622  \n",
       "4                      0     0       0      0       0      0              67  \n",
       "...                  ...   ...     ...    ...     ...    ...             ...  \n",
       "159566                 0     0       0      0       0      0             295  \n",
       "159567                 0     0       0      0       0      0              99  \n",
       "159568                 0     0       0      0       0      0              81  \n",
       "159569                 0     0       0      0       0      0             116  \n",
       "159570                 0     0       0      0       0      0             189  \n",
       "\n",
       "[159571 rows x 9 columns]"
      ]
     },
     "execution_count": 24,
     "metadata": {},
     "output_type": "execute_result"
    }
   ],
   "source": [
    "df_train['comment_text'] = df_train['comment_text'].str.lower()\n",
    "df_train"
   ]
  },
  {
   "cell_type": "code",
   "execution_count": 25,
   "id": "9c79adfc",
   "metadata": {},
   "outputs": [
    {
     "data": {
      "text/html": [
       "<div>\n",
       "<style scoped>\n",
       "    .dataframe tbody tr th:only-of-type {\n",
       "        vertical-align: middle;\n",
       "    }\n",
       "\n",
       "    .dataframe tbody tr th {\n",
       "        vertical-align: top;\n",
       "    }\n",
       "\n",
       "    .dataframe thead th {\n",
       "        text-align: right;\n",
       "    }\n",
       "</style>\n",
       "<table border=\"1\" class=\"dataframe\">\n",
       "  <thead>\n",
       "    <tr style=\"text-align: right;\">\n",
       "      <th></th>\n",
       "      <th>comment_text</th>\n",
       "      <th>comment_length</th>\n",
       "    </tr>\n",
       "  </thead>\n",
       "  <tbody>\n",
       "    <tr>\n",
       "      <th>0</th>\n",
       "      <td>yo bitch ja rule is more succesful then you'll...</td>\n",
       "      <td>367</td>\n",
       "    </tr>\n",
       "    <tr>\n",
       "      <th>1</th>\n",
       "      <td>== from rfc == \\n\\n the title is fine as it is...</td>\n",
       "      <td>50</td>\n",
       "    </tr>\n",
       "    <tr>\n",
       "      <th>2</th>\n",
       "      <td>\" \\n\\n == sources == \\n\\n * zawe ashton on lap...</td>\n",
       "      <td>54</td>\n",
       "    </tr>\n",
       "    <tr>\n",
       "      <th>3</th>\n",
       "      <td>:if you have a look back at the source, the in...</td>\n",
       "      <td>205</td>\n",
       "    </tr>\n",
       "    <tr>\n",
       "      <th>4</th>\n",
       "      <td>i don't anonymously edit articles at all.</td>\n",
       "      <td>41</td>\n",
       "    </tr>\n",
       "    <tr>\n",
       "      <th>...</th>\n",
       "      <td>...</td>\n",
       "      <td>...</td>\n",
       "    </tr>\n",
       "    <tr>\n",
       "      <th>153159</th>\n",
       "      <td>. \\n i totally agree, this stuff is nothing bu...</td>\n",
       "      <td>60</td>\n",
       "    </tr>\n",
       "    <tr>\n",
       "      <th>153160</th>\n",
       "      <td>== throw from out field to home plate. == \\n\\n...</td>\n",
       "      <td>198</td>\n",
       "    </tr>\n",
       "    <tr>\n",
       "      <th>153161</th>\n",
       "      <td>\" \\n\\n == okinotorishima categories == \\n\\n i ...</td>\n",
       "      <td>423</td>\n",
       "    </tr>\n",
       "    <tr>\n",
       "      <th>153162</th>\n",
       "      <td>\" \\n\\n == \"\"one of the founding nations of the...</td>\n",
       "      <td>502</td>\n",
       "    </tr>\n",
       "    <tr>\n",
       "      <th>153163</th>\n",
       "      <td>\" \\n :::stop already. your bullshit is not wel...</td>\n",
       "      <td>141</td>\n",
       "    </tr>\n",
       "  </tbody>\n",
       "</table>\n",
       "<p>153164 rows × 2 columns</p>\n",
       "</div>"
      ],
      "text/plain": [
       "                                             comment_text  comment_length\n",
       "0       yo bitch ja rule is more succesful then you'll...             367\n",
       "1       == from rfc == \\n\\n the title is fine as it is...              50\n",
       "2       \" \\n\\n == sources == \\n\\n * zawe ashton on lap...              54\n",
       "3       :if you have a look back at the source, the in...             205\n",
       "4               i don't anonymously edit articles at all.              41\n",
       "...                                                   ...             ...\n",
       "153159  . \\n i totally agree, this stuff is nothing bu...              60\n",
       "153160  == throw from out field to home plate. == \\n\\n...             198\n",
       "153161  \" \\n\\n == okinotorishima categories == \\n\\n i ...             423\n",
       "153162  \" \\n\\n == \"\"one of the founding nations of the...             502\n",
       "153163  \" \\n :::stop already. your bullshit is not wel...             141\n",
       "\n",
       "[153164 rows x 2 columns]"
      ]
     },
     "execution_count": 25,
     "metadata": {},
     "output_type": "execute_result"
    }
   ],
   "source": [
    "df_test['comment_text'] = df_test['comment_text'].str.lower()\n",
    "df_test"
   ]
  },
  {
   "cell_type": "markdown",
   "id": "2efae05a",
   "metadata": {},
   "source": [
    "#### b). Replace '\\n' by ' '"
   ]
  },
  {
   "cell_type": "code",
   "execution_count": 26,
   "id": "62a63407",
   "metadata": {},
   "outputs": [
    {
     "data": {
      "text/html": [
       "<div>\n",
       "<style scoped>\n",
       "    .dataframe tbody tr th:only-of-type {\n",
       "        vertical-align: middle;\n",
       "    }\n",
       "\n",
       "    .dataframe tbody tr th {\n",
       "        vertical-align: top;\n",
       "    }\n",
       "\n",
       "    .dataframe thead th {\n",
       "        text-align: right;\n",
       "    }\n",
       "</style>\n",
       "<table border=\"1\" class=\"dataframe\">\n",
       "  <thead>\n",
       "    <tr style=\"text-align: right;\">\n",
       "      <th></th>\n",
       "      <th>comment_text</th>\n",
       "      <th>malignant</th>\n",
       "      <th>highly_malignant</th>\n",
       "      <th>rude</th>\n",
       "      <th>threat</th>\n",
       "      <th>abuse</th>\n",
       "      <th>loathe</th>\n",
       "      <th>label</th>\n",
       "      <th>comment_length</th>\n",
       "    </tr>\n",
       "  </thead>\n",
       "  <tbody>\n",
       "    <tr>\n",
       "      <th>0</th>\n",
       "      <td>explanation why the edits made under my userna...</td>\n",
       "      <td>0</td>\n",
       "      <td>0</td>\n",
       "      <td>0</td>\n",
       "      <td>0</td>\n",
       "      <td>0</td>\n",
       "      <td>0</td>\n",
       "      <td>0</td>\n",
       "      <td>264</td>\n",
       "    </tr>\n",
       "    <tr>\n",
       "      <th>1</th>\n",
       "      <td>d'aww! he matches this background colour i'm s...</td>\n",
       "      <td>0</td>\n",
       "      <td>0</td>\n",
       "      <td>0</td>\n",
       "      <td>0</td>\n",
       "      <td>0</td>\n",
       "      <td>0</td>\n",
       "      <td>0</td>\n",
       "      <td>112</td>\n",
       "    </tr>\n",
       "    <tr>\n",
       "      <th>2</th>\n",
       "      <td>hey man, i'm really not trying to edit war. it...</td>\n",
       "      <td>0</td>\n",
       "      <td>0</td>\n",
       "      <td>0</td>\n",
       "      <td>0</td>\n",
       "      <td>0</td>\n",
       "      <td>0</td>\n",
       "      <td>0</td>\n",
       "      <td>233</td>\n",
       "    </tr>\n",
       "    <tr>\n",
       "      <th>3</th>\n",
       "      <td>\" more i can't make any real suggestions on im...</td>\n",
       "      <td>0</td>\n",
       "      <td>0</td>\n",
       "      <td>0</td>\n",
       "      <td>0</td>\n",
       "      <td>0</td>\n",
       "      <td>0</td>\n",
       "      <td>0</td>\n",
       "      <td>622</td>\n",
       "    </tr>\n",
       "    <tr>\n",
       "      <th>4</th>\n",
       "      <td>you, sir, are my hero. any chance you remember...</td>\n",
       "      <td>0</td>\n",
       "      <td>0</td>\n",
       "      <td>0</td>\n",
       "      <td>0</td>\n",
       "      <td>0</td>\n",
       "      <td>0</td>\n",
       "      <td>0</td>\n",
       "      <td>67</td>\n",
       "    </tr>\n",
       "    <tr>\n",
       "      <th>...</th>\n",
       "      <td>...</td>\n",
       "      <td>...</td>\n",
       "      <td>...</td>\n",
       "      <td>...</td>\n",
       "      <td>...</td>\n",
       "      <td>...</td>\n",
       "      <td>...</td>\n",
       "      <td>...</td>\n",
       "      <td>...</td>\n",
       "    </tr>\n",
       "    <tr>\n",
       "      <th>159566</th>\n",
       "      <td>\":::::and for the second time of asking, when ...</td>\n",
       "      <td>0</td>\n",
       "      <td>0</td>\n",
       "      <td>0</td>\n",
       "      <td>0</td>\n",
       "      <td>0</td>\n",
       "      <td>0</td>\n",
       "      <td>0</td>\n",
       "      <td>295</td>\n",
       "    </tr>\n",
       "    <tr>\n",
       "      <th>159567</th>\n",
       "      <td>you should be ashamed of yourself   that is a ...</td>\n",
       "      <td>0</td>\n",
       "      <td>0</td>\n",
       "      <td>0</td>\n",
       "      <td>0</td>\n",
       "      <td>0</td>\n",
       "      <td>0</td>\n",
       "      <td>0</td>\n",
       "      <td>99</td>\n",
       "    </tr>\n",
       "    <tr>\n",
       "      <th>159568</th>\n",
       "      <td>spitzer   umm, theres no actual article for pr...</td>\n",
       "      <td>0</td>\n",
       "      <td>0</td>\n",
       "      <td>0</td>\n",
       "      <td>0</td>\n",
       "      <td>0</td>\n",
       "      <td>0</td>\n",
       "      <td>0</td>\n",
       "      <td>81</td>\n",
       "    </tr>\n",
       "    <tr>\n",
       "      <th>159569</th>\n",
       "      <td>and it looks like it was actually you who put ...</td>\n",
       "      <td>0</td>\n",
       "      <td>0</td>\n",
       "      <td>0</td>\n",
       "      <td>0</td>\n",
       "      <td>0</td>\n",
       "      <td>0</td>\n",
       "      <td>0</td>\n",
       "      <td>116</td>\n",
       "    </tr>\n",
       "    <tr>\n",
       "      <th>159570</th>\n",
       "      <td>\" and ... i really don't think you understand....</td>\n",
       "      <td>0</td>\n",
       "      <td>0</td>\n",
       "      <td>0</td>\n",
       "      <td>0</td>\n",
       "      <td>0</td>\n",
       "      <td>0</td>\n",
       "      <td>0</td>\n",
       "      <td>189</td>\n",
       "    </tr>\n",
       "  </tbody>\n",
       "</table>\n",
       "<p>159571 rows × 9 columns</p>\n",
       "</div>"
      ],
      "text/plain": [
       "                                             comment_text  malignant  \\\n",
       "0       explanation why the edits made under my userna...          0   \n",
       "1       d'aww! he matches this background colour i'm s...          0   \n",
       "2       hey man, i'm really not trying to edit war. it...          0   \n",
       "3       \" more i can't make any real suggestions on im...          0   \n",
       "4       you, sir, are my hero. any chance you remember...          0   \n",
       "...                                                   ...        ...   \n",
       "159566  \":::::and for the second time of asking, when ...          0   \n",
       "159567  you should be ashamed of yourself   that is a ...          0   \n",
       "159568  spitzer   umm, theres no actual article for pr...          0   \n",
       "159569  and it looks like it was actually you who put ...          0   \n",
       "159570  \" and ... i really don't think you understand....          0   \n",
       "\n",
       "        highly_malignant  rude  threat  abuse  loathe  label  comment_length  \n",
       "0                      0     0       0      0       0      0             264  \n",
       "1                      0     0       0      0       0      0             112  \n",
       "2                      0     0       0      0       0      0             233  \n",
       "3                      0     0       0      0       0      0             622  \n",
       "4                      0     0       0      0       0      0              67  \n",
       "...                  ...   ...     ...    ...     ...    ...             ...  \n",
       "159566                 0     0       0      0       0      0             295  \n",
       "159567                 0     0       0      0       0      0              99  \n",
       "159568                 0     0       0      0       0      0              81  \n",
       "159569                 0     0       0      0       0      0             116  \n",
       "159570                 0     0       0      0       0      0             189  \n",
       "\n",
       "[159571 rows x 9 columns]"
      ]
     },
     "execution_count": 26,
     "metadata": {},
     "output_type": "execute_result"
    }
   ],
   "source": [
    "df_train['comment_text'] = df_train['comment_text'].str.replace('\\n',' ')\n",
    "df_train"
   ]
  },
  {
   "cell_type": "code",
   "execution_count": 27,
   "id": "13b40e7c",
   "metadata": {},
   "outputs": [
    {
     "data": {
      "text/html": [
       "<div>\n",
       "<style scoped>\n",
       "    .dataframe tbody tr th:only-of-type {\n",
       "        vertical-align: middle;\n",
       "    }\n",
       "\n",
       "    .dataframe tbody tr th {\n",
       "        vertical-align: top;\n",
       "    }\n",
       "\n",
       "    .dataframe thead th {\n",
       "        text-align: right;\n",
       "    }\n",
       "</style>\n",
       "<table border=\"1\" class=\"dataframe\">\n",
       "  <thead>\n",
       "    <tr style=\"text-align: right;\">\n",
       "      <th></th>\n",
       "      <th>comment_text</th>\n",
       "      <th>comment_length</th>\n",
       "    </tr>\n",
       "  </thead>\n",
       "  <tbody>\n",
       "    <tr>\n",
       "      <th>0</th>\n",
       "      <td>yo bitch ja rule is more succesful then you'll...</td>\n",
       "      <td>367</td>\n",
       "    </tr>\n",
       "    <tr>\n",
       "      <th>1</th>\n",
       "      <td>== from rfc ==    the title is fine as it is, ...</td>\n",
       "      <td>50</td>\n",
       "    </tr>\n",
       "    <tr>\n",
       "      <th>2</th>\n",
       "      <td>\"    == sources ==    * zawe ashton on lapland...</td>\n",
       "      <td>54</td>\n",
       "    </tr>\n",
       "    <tr>\n",
       "      <th>3</th>\n",
       "      <td>:if you have a look back at the source, the in...</td>\n",
       "      <td>205</td>\n",
       "    </tr>\n",
       "    <tr>\n",
       "      <th>4</th>\n",
       "      <td>i don't anonymously edit articles at all.</td>\n",
       "      <td>41</td>\n",
       "    </tr>\n",
       "    <tr>\n",
       "      <th>...</th>\n",
       "      <td>...</td>\n",
       "      <td>...</td>\n",
       "    </tr>\n",
       "    <tr>\n",
       "      <th>153159</th>\n",
       "      <td>.   i totally agree, this stuff is nothing but...</td>\n",
       "      <td>60</td>\n",
       "    </tr>\n",
       "    <tr>\n",
       "      <th>153160</th>\n",
       "      <td>== throw from out field to home plate. ==    d...</td>\n",
       "      <td>198</td>\n",
       "    </tr>\n",
       "    <tr>\n",
       "      <th>153161</th>\n",
       "      <td>\"    == okinotorishima categories ==    i see ...</td>\n",
       "      <td>423</td>\n",
       "    </tr>\n",
       "    <tr>\n",
       "      <th>153162</th>\n",
       "      <td>\"    == \"\"one of the founding nations of the e...</td>\n",
       "      <td>502</td>\n",
       "    </tr>\n",
       "    <tr>\n",
       "      <th>153163</th>\n",
       "      <td>\"   :::stop already. your bullshit is not welc...</td>\n",
       "      <td>141</td>\n",
       "    </tr>\n",
       "  </tbody>\n",
       "</table>\n",
       "<p>153164 rows × 2 columns</p>\n",
       "</div>"
      ],
      "text/plain": [
       "                                             comment_text  comment_length\n",
       "0       yo bitch ja rule is more succesful then you'll...             367\n",
       "1       == from rfc ==    the title is fine as it is, ...              50\n",
       "2       \"    == sources ==    * zawe ashton on lapland...              54\n",
       "3       :if you have a look back at the source, the in...             205\n",
       "4               i don't anonymously edit articles at all.              41\n",
       "...                                                   ...             ...\n",
       "153159  .   i totally agree, this stuff is nothing but...              60\n",
       "153160  == throw from out field to home plate. ==    d...             198\n",
       "153161  \"    == okinotorishima categories ==    i see ...             423\n",
       "153162  \"    == \"\"one of the founding nations of the e...             502\n",
       "153163  \"   :::stop already. your bullshit is not welc...             141\n",
       "\n",
       "[153164 rows x 2 columns]"
      ]
     },
     "execution_count": 27,
     "metadata": {},
     "output_type": "execute_result"
    }
   ],
   "source": [
    "df_test['comment_text'] = df_test['comment_text'].str.replace('\\n',' ')\n",
    "df_test"
   ]
  },
  {
   "cell_type": "markdown",
   "id": "416468bf",
   "metadata": {},
   "source": [
    "#### c). Cleaning the dataset"
   ]
  },
  {
   "cell_type": "code",
   "execution_count": 28,
   "id": "e73f6b48",
   "metadata": {},
   "outputs": [],
   "source": [
    "# replace email addresses with  \"email\"\n",
    "df_train[\"comment_text\"] = df_train[\"comment_text\"].str.replace(r'^.+@[^\\.].[a-z]{2,}$','emailaddress')\n",
    "\n",
    "# replace URl with 'webaddress'\n",
    "df_train[\"comment_text\"]=df_train[\"comment_text\"].str.replace(r'^https\\://[a-zA-Z0-9\\-\\.]+\\.[a-zA-Z]{2,3}(/\\S*)?$','webaddress')\n",
    "                                                            \n",
    "# replace money symbols with 'moneysymb' (£ can be typed with ALT key + 156)\n",
    "df_train[\"comment_text\"] = df_train[\"comment_text\"].str.replace(r'£|\\$','dollers')\n",
    "                                            \n",
    "\n",
    "# replace money 10 digit phone number (formats include paranthesis, spaces, no spaces, dashes) with 'phonenumber'\n",
    "df_train[\"comment_text\"] = df_train[\"comment_text\"].str.replace(r'^\\(?[\\d]{3}\\)?[\\s-]?[\\d]{3}[\\s-]?[\\d]{4}$',' phonenumber')\n",
    "                                                              \n",
    "                    \n",
    "# replace numbers with 'numbr'\n",
    "df_train[\"comment_text\"] = df_train[\"comment_text\"].str.replace(r'\\d+(\\.\\d+)?','numbr')\n",
    "\n",
    "\n",
    "# remove punctuation\n",
    "df_train[\"comment_text\"] = df_train[\"comment_text\"].str.replace(r'[^\\w\\d\\s]','')\n",
    "\n",
    "\n",
    "# replace whitespace between terms with a single space\n",
    "df_train[\"comment_text\"] = df_train[\"comment_text\"].str.replace(r'\\s+','')\n",
    "\n",
    "\n",
    "# remove leading and trailing whitespace\n",
    "df_train[\"comment_text\"] = df_train[\"comment_text\"].str.replace(r'^\\s+|\\s+?$','')\n",
    "                                                              "
   ]
  },
  {
   "cell_type": "code",
   "execution_count": 29,
   "id": "15c9d84f",
   "metadata": {},
   "outputs": [],
   "source": [
    "# replace email addresses with  \"email\"\n",
    "df_test[\"comment_text\"] = df_test[\"comment_text\"].str.replace(r'^.+@[^\\.].[a-z]{2,}$','emailaddress')\n",
    "\n",
    "# replace URl with 'webaddress'\n",
    "df_test[\"comment_text\"]=df_test[\"comment_text\"].str.replace(r'^https\\://[a-zA-Z0-9\\-\\.]+\\.[a-zA-Z]{2,3}(/\\S*)?$','webaddress')\n",
    "                                                            \n",
    "# replace money symbols with 'moneysymb' (£ can be typed with ALT key + 156)\n",
    "df_test[\"comment_text\"] = df_test[\"comment_text\"].str.replace(r'£|\\$','dollers')\n",
    "                                            \n",
    "\n",
    "# replace money 10 digit phone number (formats include paranthesis, spaces, no spaces, dashes) with 'phonenumber'\n",
    "df_test[\"comment_text\"] = df_test[\"comment_text\"].str.replace(r'^\\(?[\\d]{3}\\)?[\\s-]?[\\d]{3}[\\s-]?[\\d]{4}$',' phonenumber')\n",
    "                                                              \n",
    "                    \n",
    "# replace numbers with 'numbr'\n",
    "df_test[\"comment_text\"] = df_test[\"comment_text\"].str.replace(r'\\d+(\\.\\d+)?','numbr')\n",
    "\n",
    "\n",
    "# remove punctuation\n",
    "df_test[\"comment_text\"] = df_test[\"comment_text\"].str.replace(r'[^\\w\\d\\s]','')\n",
    "\n",
    "\n",
    "# replace whitespace between terms with a single space\n",
    "df_test[\"comment_text\"] = df_test[\"comment_text\"].str.replace(r'\\s+','')\n",
    "\n",
    "\n",
    "# remove leading and trailing whitespace\n",
    "df_test[\"comment_text\"] = df_test[\"comment_text\"].str.replace(r'^\\s+|\\s+?$','')"
   ]
  },
  {
   "cell_type": "code",
   "execution_count": 30,
   "id": "385e9290",
   "metadata": {},
   "outputs": [
    {
     "name": "stderr",
     "output_type": "stream",
     "text": [
      "[nltk_data] Downloading package stopwords to C:\\Users\\Rohit\n",
      "[nltk_data]     Kachhal\\AppData\\Roaming\\nltk_data...\n",
      "[nltk_data]   Package stopwords is already up-to-date!\n",
      "[nltk_data] Downloading package wordnet to C:\\Users\\Rohit\n",
      "[nltk_data]     Kachhal\\AppData\\Roaming\\nltk_data...\n",
      "[nltk_data]   Package wordnet is already up-to-date!\n"
     ]
    }
   ],
   "source": [
    "import nltk\n",
    "nltk.download('stopwords')\n",
    "nltk.download('wordnet')\n",
    "import re\n",
    "import string\n",
    "from nltk.corpus import stopwords\n",
    "\n",
    "from nltk.tokenize import word_tokenize\n",
    "from nltk.stem import WordNetLemmatizer\n",
    "from sklearn.feature_extraction.text import TfidfVectorizer"
   ]
  },
  {
   "cell_type": "code",
   "execution_count": 31,
   "id": "c741174f",
   "metadata": {},
   "outputs": [],
   "source": [
    "# remove stopwords\n",
    "stop_words = set(stopwords.words('english') + ['u', 'ü', 'ur', '4', '2', 'im', 'dont', 'doin', 'ure'])\n",
    "\n",
    "df_train[\"comment_text\"] = df_train[\"comment_text\"].apply(lambda x:' '.join(term for term in x.split()\n",
    "                                                                           if term not in stop_words))\n",
    "\n",
    "lem=WordNetLemmatizer()\n",
    "df_train['comment_text'] = df_train['comment_text'].apply(lambda x: ' '.join(lem.lemmatize(t) for t in x.split()))"
   ]
  },
  {
   "cell_type": "code",
   "execution_count": 32,
   "id": "77b47777",
   "metadata": {},
   "outputs": [],
   "source": [
    "# remove stopwords\n",
    "stop_words = set(stopwords.words('english') + ['u', 'ü', 'ur', '4', '2', 'im', 'dont', 'doin', 'ure'])\n",
    "\n",
    "df_test[\"comment_text\"] = df_test[\"comment_text\"].apply(lambda x:' '.join(term for term in x.split()\n",
    "                                                                           if term not in stop_words))\n",
    "\n",
    "lem=WordNetLemmatizer()\n",
    "df_test['comment_text'] = df_test['comment_text'].apply(lambda x: ' '.join(lem.lemmatize(t) for t in x.split()))"
   ]
  },
  {
   "cell_type": "code",
   "execution_count": 33,
   "id": "06cb72b2",
   "metadata": {},
   "outputs": [
    {
     "data": {
      "text/html": [
       "<div>\n",
       "<style scoped>\n",
       "    .dataframe tbody tr th:only-of-type {\n",
       "        vertical-align: middle;\n",
       "    }\n",
       "\n",
       "    .dataframe tbody tr th {\n",
       "        vertical-align: top;\n",
       "    }\n",
       "\n",
       "    .dataframe thead th {\n",
       "        text-align: right;\n",
       "    }\n",
       "</style>\n",
       "<table border=\"1\" class=\"dataframe\">\n",
       "  <thead>\n",
       "    <tr style=\"text-align: right;\">\n",
       "      <th></th>\n",
       "      <th>comment_text</th>\n",
       "      <th>malignant</th>\n",
       "      <th>highly_malignant</th>\n",
       "      <th>rude</th>\n",
       "      <th>threat</th>\n",
       "      <th>abuse</th>\n",
       "      <th>loathe</th>\n",
       "      <th>label</th>\n",
       "      <th>comment_length</th>\n",
       "      <th>clean length</th>\n",
       "    </tr>\n",
       "  </thead>\n",
       "  <tbody>\n",
       "    <tr>\n",
       "      <th>0</th>\n",
       "      <td>explanationwhytheeditsmadeundermyusernamehardc...</td>\n",
       "      <td>0</td>\n",
       "      <td>0</td>\n",
       "      <td>0</td>\n",
       "      <td>0</td>\n",
       "      <td>0</td>\n",
       "      <td>0</td>\n",
       "      <td>0</td>\n",
       "      <td>264</td>\n",
       "      <td>213</td>\n",
       "    </tr>\n",
       "    <tr>\n",
       "      <th>1</th>\n",
       "      <td>dawwhematchesthisbackgroundcolourimseeminglyst...</td>\n",
       "      <td>0</td>\n",
       "      <td>0</td>\n",
       "      <td>0</td>\n",
       "      <td>0</td>\n",
       "      <td>0</td>\n",
       "      <td>0</td>\n",
       "      <td>0</td>\n",
       "      <td>112</td>\n",
       "      <td>93</td>\n",
       "    </tr>\n",
       "    <tr>\n",
       "      <th>2</th>\n",
       "      <td>heymanimreallynottryingtoeditwaritsjustthatthi...</td>\n",
       "      <td>0</td>\n",
       "      <td>0</td>\n",
       "      <td>0</td>\n",
       "      <td>0</td>\n",
       "      <td>0</td>\n",
       "      <td>0</td>\n",
       "      <td>0</td>\n",
       "      <td>233</td>\n",
       "      <td>186</td>\n",
       "    </tr>\n",
       "    <tr>\n",
       "      <th>3</th>\n",
       "      <td>moreicantmakeanyrealsuggestionsonimprovementiw...</td>\n",
       "      <td>0</td>\n",
       "      <td>0</td>\n",
       "      <td>0</td>\n",
       "      <td>0</td>\n",
       "      <td>0</td>\n",
       "      <td>0</td>\n",
       "      <td>0</td>\n",
       "      <td>622</td>\n",
       "      <td>488</td>\n",
       "    </tr>\n",
       "    <tr>\n",
       "      <th>4</th>\n",
       "      <td>yousiraremyheroanychanceyourememberwhatpagetha...</td>\n",
       "      <td>0</td>\n",
       "      <td>0</td>\n",
       "      <td>0</td>\n",
       "      <td>0</td>\n",
       "      <td>0</td>\n",
       "      <td>0</td>\n",
       "      <td>0</td>\n",
       "      <td>67</td>\n",
       "      <td>50</td>\n",
       "    </tr>\n",
       "    <tr>\n",
       "      <th>...</th>\n",
       "      <td>...</td>\n",
       "      <td>...</td>\n",
       "      <td>...</td>\n",
       "      <td>...</td>\n",
       "      <td>...</td>\n",
       "      <td>...</td>\n",
       "      <td>...</td>\n",
       "      <td>...</td>\n",
       "      <td>...</td>\n",
       "      <td>...</td>\n",
       "    </tr>\n",
       "    <tr>\n",
       "      <th>159566</th>\n",
       "      <td>andforthesecondtimeofaskingwhenyourviewcomplet...</td>\n",
       "      <td>0</td>\n",
       "      <td>0</td>\n",
       "      <td>0</td>\n",
       "      <td>0</td>\n",
       "      <td>0</td>\n",
       "      <td>0</td>\n",
       "      <td>0</td>\n",
       "      <td>295</td>\n",
       "      <td>227</td>\n",
       "    </tr>\n",
       "    <tr>\n",
       "      <th>159567</th>\n",
       "      <td>youshouldbeashamedofyourselfthatisahorriblethi...</td>\n",
       "      <td>0</td>\n",
       "      <td>0</td>\n",
       "      <td>0</td>\n",
       "      <td>0</td>\n",
       "      <td>0</td>\n",
       "      <td>0</td>\n",
       "      <td>0</td>\n",
       "      <td>99</td>\n",
       "      <td>76</td>\n",
       "    </tr>\n",
       "    <tr>\n",
       "      <th>159568</th>\n",
       "      <td>spitzerummtheresnoactualarticleforprostitution...</td>\n",
       "      <td>0</td>\n",
       "      <td>0</td>\n",
       "      <td>0</td>\n",
       "      <td>0</td>\n",
       "      <td>0</td>\n",
       "      <td>0</td>\n",
       "      <td>0</td>\n",
       "      <td>81</td>\n",
       "      <td>63</td>\n",
       "    </tr>\n",
       "    <tr>\n",
       "      <th>159569</th>\n",
       "      <td>anditlookslikeitwasactuallyyouwhoputonthespeed...</td>\n",
       "      <td>0</td>\n",
       "      <td>0</td>\n",
       "      <td>0</td>\n",
       "      <td>0</td>\n",
       "      <td>0</td>\n",
       "      <td>0</td>\n",
       "      <td>0</td>\n",
       "      <td>116</td>\n",
       "      <td>91</td>\n",
       "    </tr>\n",
       "    <tr>\n",
       "      <th>159570</th>\n",
       "      <td>andireallydontthinkyouunderstandicamehereandmy...</td>\n",
       "      <td>0</td>\n",
       "      <td>0</td>\n",
       "      <td>0</td>\n",
       "      <td>0</td>\n",
       "      <td>0</td>\n",
       "      <td>0</td>\n",
       "      <td>0</td>\n",
       "      <td>189</td>\n",
       "      <td>136</td>\n",
       "    </tr>\n",
       "  </tbody>\n",
       "</table>\n",
       "<p>159571 rows × 10 columns</p>\n",
       "</div>"
      ],
      "text/plain": [
       "                                             comment_text  malignant  \\\n",
       "0       explanationwhytheeditsmadeundermyusernamehardc...          0   \n",
       "1       dawwhematchesthisbackgroundcolourimseeminglyst...          0   \n",
       "2       heymanimreallynottryingtoeditwaritsjustthatthi...          0   \n",
       "3       moreicantmakeanyrealsuggestionsonimprovementiw...          0   \n",
       "4       yousiraremyheroanychanceyourememberwhatpagetha...          0   \n",
       "...                                                   ...        ...   \n",
       "159566  andforthesecondtimeofaskingwhenyourviewcomplet...          0   \n",
       "159567  youshouldbeashamedofyourselfthatisahorriblethi...          0   \n",
       "159568  spitzerummtheresnoactualarticleforprostitution...          0   \n",
       "159569  anditlookslikeitwasactuallyyouwhoputonthespeed...          0   \n",
       "159570  andireallydontthinkyouunderstandicamehereandmy...          0   \n",
       "\n",
       "        highly_malignant  rude  threat  abuse  loathe  label  comment_length  \\\n",
       "0                      0     0       0      0       0      0             264   \n",
       "1                      0     0       0      0       0      0             112   \n",
       "2                      0     0       0      0       0      0             233   \n",
       "3                      0     0       0      0       0      0             622   \n",
       "4                      0     0       0      0       0      0              67   \n",
       "...                  ...   ...     ...    ...     ...    ...             ...   \n",
       "159566                 0     0       0      0       0      0             295   \n",
       "159567                 0     0       0      0       0      0              99   \n",
       "159568                 0     0       0      0       0      0              81   \n",
       "159569                 0     0       0      0       0      0             116   \n",
       "159570                 0     0       0      0       0      0             189   \n",
       "\n",
       "        clean length  \n",
       "0                213  \n",
       "1                 93  \n",
       "2                186  \n",
       "3                488  \n",
       "4                 50  \n",
       "...              ...  \n",
       "159566           227  \n",
       "159567            76  \n",
       "159568            63  \n",
       "159569            91  \n",
       "159570           136  \n",
       "\n",
       "[159571 rows x 10 columns]"
      ]
     },
     "execution_count": 33,
     "metadata": {},
     "output_type": "execute_result"
    }
   ],
   "source": [
    "df_train['clean length'] = df_train['comment_text'].str.len()\n",
    "df_train"
   ]
  },
  {
   "cell_type": "code",
   "execution_count": 34,
   "id": "b8b670a2",
   "metadata": {},
   "outputs": [
    {
     "data": {
      "text/html": [
       "<div>\n",
       "<style scoped>\n",
       "    .dataframe tbody tr th:only-of-type {\n",
       "        vertical-align: middle;\n",
       "    }\n",
       "\n",
       "    .dataframe tbody tr th {\n",
       "        vertical-align: top;\n",
       "    }\n",
       "\n",
       "    .dataframe thead th {\n",
       "        text-align: right;\n",
       "    }\n",
       "</style>\n",
       "<table border=\"1\" class=\"dataframe\">\n",
       "  <thead>\n",
       "    <tr style=\"text-align: right;\">\n",
       "      <th></th>\n",
       "      <th>comment_text</th>\n",
       "      <th>comment_length</th>\n",
       "      <th>clean length</th>\n",
       "    </tr>\n",
       "  </thead>\n",
       "  <tbody>\n",
       "    <tr>\n",
       "      <th>0</th>\n",
       "      <td>yobitchjaruleismoresuccesfulthenyoulleverbewha...</td>\n",
       "      <td>367</td>\n",
       "      <td>284</td>\n",
       "    </tr>\n",
       "    <tr>\n",
       "      <th>1</th>\n",
       "      <td>fromrfcthetitleisfineasitisimo</td>\n",
       "      <td>50</td>\n",
       "      <td>30</td>\n",
       "    </tr>\n",
       "    <tr>\n",
       "      <th>2</th>\n",
       "      <td>sourceszaweashtononlapland</td>\n",
       "      <td>54</td>\n",
       "      <td>26</td>\n",
       "    </tr>\n",
       "    <tr>\n",
       "      <th>3</th>\n",
       "      <td>ifyouhavealookbackatthesourcetheinformationiup...</td>\n",
       "      <td>205</td>\n",
       "      <td>162</td>\n",
       "    </tr>\n",
       "    <tr>\n",
       "      <th>4</th>\n",
       "      <td>idontanonymouslyeditarticlesatall</td>\n",
       "      <td>41</td>\n",
       "      <td>33</td>\n",
       "    </tr>\n",
       "    <tr>\n",
       "      <th>...</th>\n",
       "      <td>...</td>\n",
       "      <td>...</td>\n",
       "      <td>...</td>\n",
       "    </tr>\n",
       "    <tr>\n",
       "      <th>153159</th>\n",
       "      <td>itotallyagreethisstuffisnothingbuttoolongcrap</td>\n",
       "      <td>60</td>\n",
       "      <td>45</td>\n",
       "    </tr>\n",
       "    <tr>\n",
       "      <th>153160</th>\n",
       "      <td>throwfromoutfieldtohomeplatedoesitgettherefast...</td>\n",
       "      <td>198</td>\n",
       "      <td>147</td>\n",
       "    </tr>\n",
       "    <tr>\n",
       "      <th>153161</th>\n",
       "      <td>okinotorishimacategoriesiseeyourchangesandagre...</td>\n",
       "      <td>423</td>\n",
       "      <td>306</td>\n",
       "    </tr>\n",
       "    <tr>\n",
       "      <th>153162</th>\n",
       "      <td>oneofthefoundingnationsoftheeugermanyhasalawof...</td>\n",
       "      <td>502</td>\n",
       "      <td>375</td>\n",
       "    </tr>\n",
       "    <tr>\n",
       "      <th>153163</th>\n",
       "      <td>stopalreadyyourbullshitisnotwelcomehereimnofoo...</td>\n",
       "      <td>141</td>\n",
       "      <td>100</td>\n",
       "    </tr>\n",
       "  </tbody>\n",
       "</table>\n",
       "<p>153164 rows × 3 columns</p>\n",
       "</div>"
      ],
      "text/plain": [
       "                                             comment_text  comment_length  \\\n",
       "0       yobitchjaruleismoresuccesfulthenyoulleverbewha...             367   \n",
       "1                          fromrfcthetitleisfineasitisimo              50   \n",
       "2                              sourceszaweashtononlapland              54   \n",
       "3       ifyouhavealookbackatthesourcetheinformationiup...             205   \n",
       "4                       idontanonymouslyeditarticlesatall              41   \n",
       "...                                                   ...             ...   \n",
       "153159      itotallyagreethisstuffisnothingbuttoolongcrap              60   \n",
       "153160  throwfromoutfieldtohomeplatedoesitgettherefast...             198   \n",
       "153161  okinotorishimacategoriesiseeyourchangesandagre...             423   \n",
       "153162  oneofthefoundingnationsoftheeugermanyhasalawof...             502   \n",
       "153163  stopalreadyyourbullshitisnotwelcomehereimnofoo...             141   \n",
       "\n",
       "        clean length  \n",
       "0                284  \n",
       "1                 30  \n",
       "2                 26  \n",
       "3                162  \n",
       "4                 33  \n",
       "...              ...  \n",
       "153159            45  \n",
       "153160           147  \n",
       "153161           306  \n",
       "153162           375  \n",
       "153163           100  \n",
       "\n",
       "[153164 rows x 3 columns]"
      ]
     },
     "execution_count": 34,
     "metadata": {},
     "output_type": "execute_result"
    }
   ],
   "source": [
    "df_test['clean length'] = df_test['comment_text'].str.len()\n",
    "df_test"
   ]
  },
  {
   "cell_type": "markdown",
   "id": "0eabb922",
   "metadata": {},
   "source": [
    "### 9. Selecting comment_text as X as independent & rest are as y as dependent"
   ]
  },
  {
   "cell_type": "code",
   "execution_count": 35,
   "id": "a92b47c5",
   "metadata": {},
   "outputs": [],
   "source": [
    "from sklearn.feature_extraction.text import TfidfVectorizer "
   ]
  },
  {
   "cell_type": "code",
   "execution_count": 36,
   "id": "24dc883d",
   "metadata": {},
   "outputs": [],
   "source": [
    "tf= TfidfVectorizer(max_features=15000,stop_words='english')\n",
    "X = tf.fit_transform(df_train[\"comment_text\"])\n",
    "y= df_train[\"label\"]\n"
   ]
  },
  {
   "cell_type": "code",
   "execution_count": 37,
   "id": "fe406577",
   "metadata": {},
   "outputs": [
    {
     "name": "stdout",
     "output_type": "stream",
     "text": [
      "The shape of X is : (159571, 15000)\n",
      "The shape of y is : (159571,)\n"
     ]
    }
   ],
   "source": [
    "print('The shape of X is :',X.shape)\n",
    "print('The shape of y is :',y.shape)"
   ]
  },
  {
   "cell_type": "code",
   "execution_count": 38,
   "id": "30096f35",
   "metadata": {},
   "outputs": [],
   "source": [
    "tf= TfidfVectorizer(max_features=15000,stop_words='english')\n",
    "a = tf.fit_transform(df_test[\"comment_text\"])"
   ]
  },
  {
   "cell_type": "code",
   "execution_count": 39,
   "id": "081d86ec",
   "metadata": {},
   "outputs": [
    {
     "name": "stdout",
     "output_type": "stream",
     "text": [
      "The shape of a is : (153164, 15000)\n"
     ]
    }
   ],
   "source": [
    "print('The shape of a is :',a.shape)"
   ]
  },
  {
   "cell_type": "markdown",
   "id": "06184375",
   "metadata": {},
   "source": [
    "### 10. Observing best random state & split the data using best random state"
   ]
  },
  {
   "cell_type": "code",
   "execution_count": 40,
   "id": "18a1f412",
   "metadata": {},
   "outputs": [],
   "source": [
    "from sklearn.linear_model import LogisticRegression\n",
    "from sklearn.model_selection import train_test_split\n",
    "from sklearn.metrics import accuracy_score,classification_report,roc_auc_score,roc_curve,plot_roc_curve,confusion_matrix"
   ]
  },
  {
   "cell_type": "code",
   "execution_count": 41,
   "id": "16484da9",
   "metadata": {},
   "outputs": [
    {
     "name": "stdout",
     "output_type": "stream",
     "text": [
      "The maximum accuracy is : 0.9009650735294118 On random state : 10\n"
     ]
    }
   ],
   "source": [
    "lr = LogisticRegression()\n",
    "max_accuracy = 0\n",
    "max_rs = 0\n",
    "for i in range(1,100):\n",
    "    X_train, X_test, y_train, y_test = train_test_split(X, y, test_size=0.30, random_state=i)\n",
    "    lr.fit(X_train,y_train)\n",
    "    lr_pred_rs = lr.predict(X_test)\n",
    "    lr_accuracy_rs = accuracy_score(y_test,lr_pred_rs)\n",
    "    if lr_accuracy_rs>max_accuracy:\n",
    "        max_accuracy = lr_accuracy_rs\n",
    "        max_rs = i\n",
    "print('The maximum accuracy is :',max_accuracy, 'On random state :',max_rs)   "
   ]
  },
  {
   "cell_type": "code",
   "execution_count": 42,
   "id": "e2b3c490",
   "metadata": {},
   "outputs": [],
   "source": [
    "X_train, X_test, y_train, y_test = train_test_split(X, y, test_size=0.30, random_state=max_rs)"
   ]
  },
  {
   "cell_type": "code",
   "execution_count": 43,
   "id": "c5435e3f",
   "metadata": {},
   "outputs": [
    {
     "name": "stdout",
     "output_type": "stream",
     "text": [
      "The shape of X_train is : (111699, 15000)\n",
      "The shape of X_test is : (47872, 15000)\n",
      "The shape of y_train is : (111699,)\n",
      "The shape of y_test is : (47872,)\n"
     ]
    }
   ],
   "source": [
    "print('The shape of X_train is :',X_train.shape)\n",
    "print('The shape of X_test is :',X_test.shape)\n",
    "print('The shape of y_train is :',y_train.shape)\n",
    "print('The shape of y_test is :',y_test.shape)"
   ]
  },
  {
   "cell_type": "markdown",
   "id": "9f4c03b2",
   "metadata": {},
   "source": [
    "### 11.  Initiate our model"
   ]
  },
  {
   "cell_type": "markdown",
   "id": "f7cd755b",
   "metadata": {},
   "source": [
    "#### a) Logistic Regression"
   ]
  },
  {
   "cell_type": "code",
   "execution_count": 44,
   "id": "6879b267",
   "metadata": {},
   "outputs": [
    {
     "name": "stdout",
     "output_type": "stream",
     "text": [
      "Logistic Regression\n",
      "------------------------------------------------------------------\n",
      "\n",
      "The Score on train set is   : 0.897259599459261\n",
      "The Score on test set is    : 0.9009650735294118\n",
      "The Accuracy on test set is : 0.9009650735294118\n",
      "The Classification report is :\n",
      "               precision    recall  f1-score   support\n",
      "\n",
      "           0       0.90      1.00      0.95     43128\n",
      "           1       1.00      0.00      0.00      4744\n",
      "\n",
      "    accuracy                           0.90     47872\n",
      "   macro avg       0.95      0.50      0.47     47872\n",
      "weighted avg       0.91      0.90      0.85     47872\n",
      "\n",
      "The Confusion matrix is :\n",
      " [[43128     0]\n",
      " [ 4741     3]]\n",
      "\n",
      "------------------------------------------------------------------\n"
     ]
    }
   ],
   "source": [
    "lg =LogisticRegression()\n",
    "lg.fit(X_train,y_train)\n",
    "lg_pred = lg.predict(X_test)\n",
    "lg_accuracy = accuracy_score(y_test,lg_pred)\n",
    "lg_cf = classification_report(y_test,lg_pred)\n",
    "lg_cm = confusion_matrix(y_test,lg_pred)\n",
    "lg_train_score = lg.score(X_train,y_train)\n",
    "lg_test_score = lg.score(X_test,y_test)\n",
    "\n",
    "print('Logistic Regression')\n",
    "print('------------------------------------------------------------------\\n')\n",
    "print('The Score on train set is   :',lg_train_score)\n",
    "print('The Score on test set is    :',lg_test_score)\n",
    "print('The Accuracy on test set is :',lg_accuracy)\n",
    "print('The Classification report is :\\n',lg_cf)\n",
    "print('The Confusion matrix is :\\n',lg_cm)\n",
    "print('\\n------------------------------------------------------------------')"
   ]
  },
  {
   "cell_type": "markdown",
   "id": "d891565d",
   "metadata": {},
   "source": [
    "#### Cross Validation on Logistic Regression"
   ]
  },
  {
   "cell_type": "code",
   "execution_count": 45,
   "id": "89c158c6",
   "metadata": {},
   "outputs": [],
   "source": [
    "from sklearn.model_selection import cross_val_score "
   ]
  },
  {
   "cell_type": "code",
   "execution_count": 46,
   "id": "a91098cb",
   "metadata": {},
   "outputs": [
    {
     "name": "stdout",
     "output_type": "stream",
     "text": [
      "The cross validation score is : 0.8972148363483289\n"
     ]
    }
   ],
   "source": [
    "lg_cv_score = cross_val_score(lg,X_train,y_train,cv=5)\n",
    "print('The cross validation score is :',lg_cv_score.mean())"
   ]
  },
  {
   "cell_type": "markdown",
   "id": "f69d5036",
   "metadata": {},
   "source": [
    "##### b). KNN Model"
   ]
  },
  {
   "cell_type": "code",
   "execution_count": 47,
   "id": "b430bbd2",
   "metadata": {},
   "outputs": [],
   "source": [
    "from sklearn.neighbors import KNeighborsClassifier"
   ]
  },
  {
   "cell_type": "code",
   "execution_count": 48,
   "id": "7f1f0a14",
   "metadata": {},
   "outputs": [
    {
     "name": "stdout",
     "output_type": "stream",
     "text": [
      "K-Neighbors Classifier\n",
      "------------------------------------------------------------------\n",
      "\n",
      "The Score on train set is   : 0.8972864573541393\n",
      "The Score on test set is    : 0.9009650735294118\n",
      "The Accuracy on test set is : 0.9009650735294118\n",
      "The Classification report is :\n",
      "               precision    recall  f1-score   support\n",
      "\n",
      "           0       0.90      1.00      0.95     43128\n",
      "           1       1.00      0.00      0.00      4744\n",
      "\n",
      "    accuracy                           0.90     47872\n",
      "   macro avg       0.95      0.50      0.47     47872\n",
      "weighted avg       0.91      0.90      0.85     47872\n",
      "\n",
      "The Confusion matrix is :\n",
      " [[43128     0]\n",
      " [ 4741     3]]\n",
      "\n",
      "------------------------------------------------------------------\n"
     ]
    }
   ],
   "source": [
    "kc = KNeighborsClassifier()\n",
    "kc.fit(X_train,y_train)\n",
    "kc_pred = kc.predict(X_test)\n",
    "kc_accuracy = accuracy_score(y_test,kc_pred)\n",
    "kc_cf = classification_report(y_test,kc_pred)\n",
    "kc_cm = confusion_matrix(y_test,kc_pred)\n",
    "kc_train_score = kc.score(X_train,y_train)\n",
    "kc_test_score = kc.score(X_test,y_test)\n",
    "\n",
    "print('K-Neighbors Classifier')\n",
    "print('------------------------------------------------------------------\\n')\n",
    "print('The Score on train set is   :',kc_train_score)\n",
    "print('The Score on test set is    :',kc_test_score)\n",
    "print('The Accuracy on test set is :',kc_accuracy)\n",
    "print('The Classification report is :\\n',kc_cf)\n",
    "print('The Confusion matrix is :\\n',kc_cm)\n",
    "print('\\n------------------------------------------------------------------')"
   ]
  },
  {
   "cell_type": "markdown",
   "id": "d1546fe2",
   "metadata": {},
   "source": [
    "#### Cross validation on K-Neighbors Classifier"
   ]
  },
  {
   "cell_type": "code",
   "execution_count": 49,
   "id": "832a9679",
   "metadata": {},
   "outputs": [
    {
     "name": "stdout",
     "output_type": "stream",
     "text": [
      "The cross validation score is : 0.8972595991057147\n"
     ]
    }
   ],
   "source": [
    "kc_cv_score = cross_val_score(kc,X_train,y_train,cv=5)\n",
    "print('The cross validation score is :',kc_cv_score.mean())"
   ]
  },
  {
   "cell_type": "markdown",
   "id": "78906887",
   "metadata": {},
   "source": [
    "#### c). Decision Tree Classifier"
   ]
  },
  {
   "cell_type": "code",
   "execution_count": 50,
   "id": "eaac0c2a",
   "metadata": {},
   "outputs": [],
   "source": [
    "from sklearn.tree import DecisionTreeClassifier"
   ]
  },
  {
   "cell_type": "code",
   "execution_count": 51,
   "id": "30cb8faa",
   "metadata": {},
   "outputs": [
    {
     "name": "stdout",
     "output_type": "stream",
     "text": [
      "Decision Tree Classifier\n",
      "------------------------------------------------------------------\n",
      "\n",
      "The Score on train set is   : 0.9056213573980072\n",
      "The Score on test set is    : 0.901800635026738\n",
      "The Accuracy on test set is : 0.901800635026738\n",
      "The Classification report is :\n",
      "               precision    recall  f1-score   support\n",
      "\n",
      "           0       0.90      1.00      0.95     43128\n",
      "           1       0.85      0.01      0.02      4744\n",
      "\n",
      "    accuracy                           0.90     47872\n",
      "   macro avg       0.88      0.51      0.48     47872\n",
      "weighted avg       0.90      0.90      0.86     47872\n",
      "\n",
      "The Confusion matrix is :\n",
      " [[43119     9]\n",
      " [ 4692    52]]\n",
      "\n",
      "------------------------------------------------------------------\n"
     ]
    }
   ],
   "source": [
    "dt = DecisionTreeClassifier()\n",
    "dt.fit(X_train,y_train)\n",
    "dt_pred = dt.predict(X_test)\n",
    "dt_accuracy = accuracy_score(y_test,dt_pred)\n",
    "dt_cf = classification_report(y_test,dt_pred)\n",
    "dt_cm = confusion_matrix(y_test,dt_pred)\n",
    "dt_train_score = dt.score(X_train,y_train)\n",
    "dt_test_score = dt.score(X_test,y_test)\n",
    "\n",
    "print('Decision Tree Classifier')\n",
    "print('------------------------------------------------------------------\\n')\n",
    "print('The Score on train set is   :',dt_train_score)\n",
    "print('The Score on test set is    :',dt_test_score)\n",
    "print('The Accuracy on test set is :',dt_accuracy)\n",
    "print('The Classification report is :\\n',dt_cf)\n",
    "print('The Confusion matrix is :\\n',dt_cm)\n",
    "print('\\n------------------------------------------------------------------')"
   ]
  },
  {
   "cell_type": "markdown",
   "id": "b58d1f34",
   "metadata": {},
   "source": [
    "#### Cross validation on Decision Tree Classifier"
   ]
  },
  {
   "cell_type": "code",
   "execution_count": 52,
   "id": "2e4ba4e5",
   "metadata": {},
   "outputs": [
    {
     "name": "stdout",
     "output_type": "stream",
     "text": [
      "The cross validation score is : 0.8978862821174637\n"
     ]
    }
   ],
   "source": [
    "dt_cv_score = cross_val_score(dt,X_train,y_train,cv=5)\n",
    "print('The cross validation score is :',dt_cv_score.mean())"
   ]
  },
  {
   "cell_type": "markdown",
   "id": "1c20163d",
   "metadata": {},
   "source": [
    "#### d) Bagging Classifier"
   ]
  },
  {
   "cell_type": "code",
   "execution_count": 53,
   "id": "044f8ae9",
   "metadata": {},
   "outputs": [],
   "source": [
    "from sklearn.ensemble import BaggingClassifier"
   ]
  },
  {
   "cell_type": "code",
   "execution_count": 54,
   "id": "ed1c834a",
   "metadata": {},
   "outputs": [
    {
     "name": "stdout",
     "output_type": "stream",
     "text": [
      "Bagging Classifier\n",
      "------------------------------------------------------------------\n",
      "\n",
      "The Score on train set is   : 0.9047260942354005\n",
      "The Score on test set is    : 0.9017170788770054\n",
      "The Accuracy on test set is : 0.9017170788770054\n",
      "The Classification report is :\n",
      "               precision    recall  f1-score   support\n",
      "\n",
      "           0       0.90      1.00      0.95     43128\n",
      "           1       0.84      0.01      0.02      4744\n",
      "\n",
      "    accuracy                           0.90     47872\n",
      "   macro avg       0.87      0.50      0.48     47872\n",
      "weighted avg       0.90      0.90      0.86     47872\n",
      "\n",
      "The Confusion matrix is :\n",
      " [[43119     9]\n",
      " [ 4696    48]]\n",
      "\n",
      "------------------------------------------------------------------\n"
     ]
    }
   ],
   "source": [
    "bc = BaggingClassifier()\n",
    "bc.fit(X_train,y_train)\n",
    "bc_pred = bc.predict(X_test)\n",
    "bc_accuracy = accuracy_score(y_test,bc_pred)\n",
    "bc_cf = classification_report(y_test,bc_pred)\n",
    "bc_cm = confusion_matrix(y_test,bc_pred)\n",
    "bc_train_score = bc.score(X_train,y_train)\n",
    "bc_test_score = bc.score(X_test,y_test)\n",
    "\n",
    "print('Bagging Classifier')\n",
    "print('------------------------------------------------------------------\\n')\n",
    "print('The Score on train set is   :',bc_train_score)\n",
    "print('The Score on test set is    :',bc_test_score)\n",
    "print('The Accuracy on test set is :',bc_accuracy)\n",
    "print('The Classification report is :\\n',bc_cf)\n",
    "print('The Confusion matrix is :\\n',bc_cm)\n",
    "print('\\n------------------------------------------------------------------')"
   ]
  },
  {
   "cell_type": "markdown",
   "id": "81aa183c",
   "metadata": {},
   "source": [
    "#### Cross validation on Bagging Classifier"
   ]
  },
  {
   "cell_type": "code",
   "execution_count": 55,
   "id": "f61dbb32",
   "metadata": {},
   "outputs": [
    {
     "name": "stdout",
     "output_type": "stream",
     "text": [
      "The cross validation score is : 0.89781466050337\n"
     ]
    }
   ],
   "source": [
    "bc_cv_score = cross_val_score(bc,X_train,y_train,cv=5)\n",
    "print('The cross validation score is :',bc_cv_score.mean())"
   ]
  },
  {
   "cell_type": "markdown",
   "id": "990b2e60",
   "metadata": {},
   "source": [
    "#### e). Gradient Boosting Classifier"
   ]
  },
  {
   "cell_type": "code",
   "execution_count": 56,
   "id": "e6f409fd",
   "metadata": {},
   "outputs": [],
   "source": [
    "from sklearn.ensemble import GradientBoostingClassifier"
   ]
  },
  {
   "cell_type": "code",
   "execution_count": 57,
   "id": "39db7959",
   "metadata": {},
   "outputs": [
    {
     "name": "stdout",
     "output_type": "stream",
     "text": [
      "Gradient Boosting Classifier\n",
      "------------------------------------------------------------------\n",
      "\n",
      "The Score on train set is   : 0.8972864573541393\n",
      "The Score on test set is    : 0.9009650735294118\n",
      "The Accuracy on test set is : 0.9009650735294118\n",
      "The Classification report is :\n",
      "               precision    recall  f1-score   support\n",
      "\n",
      "           0       0.90      1.00      0.95     43128\n",
      "           1       1.00      0.00      0.00      4744\n",
      "\n",
      "    accuracy                           0.90     47872\n",
      "   macro avg       0.95      0.50      0.47     47872\n",
      "weighted avg       0.91      0.90      0.85     47872\n",
      "\n",
      "The Confusion matrix is :\n",
      " [[43128     0]\n",
      " [ 4741     3]]\n",
      "\n",
      "------------------------------------------------------------------\n"
     ]
    }
   ],
   "source": [
    "gc = GradientBoostingClassifier()\n",
    "gc.fit(X_train,y_train)\n",
    "gc_pred = gc.predict(X_test)\n",
    "gc_accuracy = accuracy_score(y_test,gc_pred)\n",
    "gc_cf = classification_report(y_test,gc_pred)\n",
    "gc_cm = confusion_matrix(y_test,gc_pred)\n",
    "gc_train_score = gc.score(X_train,y_train)\n",
    "gc_test_score = gc.score(X_test,y_test)\n",
    "\n",
    "print('Gradient Boosting Classifier')\n",
    "print('------------------------------------------------------------------\\n')\n",
    "print('The Score on train set is   :',gc_train_score)\n",
    "print('The Score on test set is    :',gc_test_score)\n",
    "print('The Accuracy on test set is :',gc_accuracy)\n",
    "print('The Classification report is :\\n',gc_cf)\n",
    "print('The Confusion matrix is :\\n',gc_cm)\n",
    "print('\\n------------------------------------------------------------------')"
   ]
  },
  {
   "cell_type": "markdown",
   "id": "490547c2",
   "metadata": {},
   "source": [
    "#### Cross validation on Gradient Boosting Classifier"
   ]
  },
  {
   "cell_type": "code",
   "execution_count": 58,
   "id": "9ea6740b",
   "metadata": {},
   "outputs": [
    {
     "name": "stdout",
     "output_type": "stream",
     "text": [
      "The cross validation score is : 0.8972595991057147\n"
     ]
    }
   ],
   "source": [
    "gc_cv_score = cross_val_score(gc,X_train,y_train,cv=5)\n",
    "print('The cross validation score is :',gc_cv_score.mean())"
   ]
  },
  {
   "cell_type": "markdown",
   "id": "e8f10a75",
   "metadata": {},
   "source": [
    "#### f). AdaBoost Classifier"
   ]
  },
  {
   "cell_type": "code",
   "execution_count": 59,
   "id": "81603dc7",
   "metadata": {},
   "outputs": [],
   "source": [
    "from sklearn.ensemble import AdaBoostClassifier"
   ]
  },
  {
   "cell_type": "code",
   "execution_count": 60,
   "id": "34c9c2fd",
   "metadata": {},
   "outputs": [
    {
     "name": "stdout",
     "output_type": "stream",
     "text": [
      "AdaBoost Classifier\n",
      "------------------------------------------------------------------\n",
      "\n",
      "The Score on train set is   : 0.8981011468321113\n",
      "The Score on test set is    : 0.9010486296791443\n",
      "The Accuracy on test set is : 0.9010486296791443\n",
      "The Classification report is :\n",
      "               precision    recall  f1-score   support\n",
      "\n",
      "           0       0.90      1.00      0.95     43128\n",
      "           1       1.00      0.00      0.00      4744\n",
      "\n",
      "    accuracy                           0.90     47872\n",
      "   macro avg       0.95      0.50      0.48     47872\n",
      "weighted avg       0.91      0.90      0.85     47872\n",
      "\n",
      "The Confusion matrix is :\n",
      " [[43128     0]\n",
      " [ 4737     7]]\n",
      "\n",
      "------------------------------------------------------------------\n"
     ]
    }
   ],
   "source": [
    "ac = AdaBoostClassifier()\n",
    "ac.fit(X_train,y_train)\n",
    "ac_pred = ac.predict(X_test)\n",
    "ac_accuracy = accuracy_score(y_test,ac_pred)\n",
    "ac_cf = classification_report(y_test,ac_pred)\n",
    "ac_cm = confusion_matrix(y_test,ac_pred)\n",
    "ac_train_score = ac.score(X_train,y_train)\n",
    "ac_test_score = ac.score(X_test,y_test)\n",
    "\n",
    "print('AdaBoost Classifier')\n",
    "print('------------------------------------------------------------------\\n')\n",
    "print('The Score on train set is   :',ac_train_score)\n",
    "print('The Score on test set is    :',ac_test_score)\n",
    "print('The Accuracy on test set is :',ac_accuracy)\n",
    "print('The Classification report is :\\n',ac_cf)\n",
    "print('The Confusion matrix is :\\n',ac_cm)\n",
    "print('\\n------------------------------------------------------------------')"
   ]
  },
  {
   "cell_type": "markdown",
   "id": "dca97245",
   "metadata": {},
   "source": [
    "#### Cross validation on AdaBoost Classifier"
   ]
  },
  {
   "cell_type": "code",
   "execution_count": 61,
   "id": "34372490",
   "metadata": {},
   "outputs": [
    {
     "name": "stdout",
     "output_type": "stream",
     "text": [
      "The cross validation score is : 0.8972595991057147\n"
     ]
    }
   ],
   "source": [
    "ac_cv_score = cross_val_score(ac,X_train,y_train,cv=5)\n",
    "print('The cross validation score is :',ac_cv_score.mean())"
   ]
  },
  {
   "cell_type": "markdown",
   "id": "07b899d6",
   "metadata": {},
   "source": [
    "#### g). XGB Classifier"
   ]
  },
  {
   "cell_type": "code",
   "execution_count": 62,
   "id": "4787c9f7",
   "metadata": {},
   "outputs": [],
   "source": [
    "import xgboost as xb"
   ]
  },
  {
   "cell_type": "code",
   "execution_count": 63,
   "id": "0d762d6e",
   "metadata": {},
   "outputs": [
    {
     "name": "stdout",
     "output_type": "stream",
     "text": [
      "[12:51:28] WARNING: C:/Users/Administrator/workspace/xgboost-win64_release_1.5.1/src/learner.cc:1115: Starting in XGBoost 1.3.0, the default evaluation metric used with the objective 'binary:logistic' was changed from 'error' to 'logloss'. Explicitly set eval_metric if you'd like to restore the old behavior.\n",
      "XGB Classifier\n",
      "------------------------------------------------------------------\n",
      "\n",
      "The Score on train set is   : 0.897259599459261\n",
      "The Score on test set is    : 0.9009650735294118\n",
      "The Accuracy on test set is : 0.9009650735294118\n",
      "The Classification report is :\n",
      "               precision    recall  f1-score   support\n",
      "\n",
      "           0       0.90      1.00      0.95     43128\n",
      "           1       1.00      0.00      0.00      4744\n",
      "\n",
      "    accuracy                           0.90     47872\n",
      "   macro avg       0.95      0.50      0.47     47872\n",
      "weighted avg       0.91      0.90      0.85     47872\n",
      "\n",
      "The Confusion matrix is :\n",
      " [[43128     0]\n",
      " [ 4741     3]]\n",
      "\n",
      "------------------------------------------------------------------\n"
     ]
    }
   ],
   "source": [
    "xc = xb.XGBClassifier()\n",
    "xc.fit(X_train,y_train)\n",
    "xc_pred = xc.predict(X_test)\n",
    "xc_accuracy = accuracy_score(y_test,xc_pred)\n",
    "xc_cf = classification_report(y_test,xc_pred)\n",
    "xc_cm = confusion_matrix(y_test,xc_pred)\n",
    "xc_train_score = xc.score(X_train,y_train)\n",
    "xc_test_score = xc.score(X_test,y_test)\n",
    "\n",
    "print('XGB Classifier')\n",
    "print('------------------------------------------------------------------\\n')\n",
    "print('The Score on train set is   :',xc_train_score)\n",
    "print('The Score on test set is    :',xc_test_score)\n",
    "print('The Accuracy on test set is :',xc_accuracy)\n",
    "print('The Classification report is :\\n',xc_cf)\n",
    "print('The Confusion matrix is :\\n',xc_cm)\n",
    "print('\\n------------------------------------------------------------------')"
   ]
  },
  {
   "cell_type": "markdown",
   "id": "bca0c558",
   "metadata": {},
   "source": [
    "#### Cross validation on XGB Classifier"
   ]
  },
  {
   "cell_type": "code",
   "execution_count": 64,
   "id": "6ae1ce7c",
   "metadata": {},
   "outputs": [
    {
     "name": "stdout",
     "output_type": "stream",
     "text": [
      "[12:51:30] WARNING: C:/Users/Administrator/workspace/xgboost-win64_release_1.5.1/src/learner.cc:1115: Starting in XGBoost 1.3.0, the default evaluation metric used with the objective 'binary:logistic' was changed from 'error' to 'logloss'. Explicitly set eval_metric if you'd like to restore the old behavior.\n",
      "[12:51:32] WARNING: C:/Users/Administrator/workspace/xgboost-win64_release_1.5.1/src/learner.cc:1115: Starting in XGBoost 1.3.0, the default evaluation metric used with the objective 'binary:logistic' was changed from 'error' to 'logloss'. Explicitly set eval_metric if you'd like to restore the old behavior.\n",
      "[12:51:33] WARNING: C:/Users/Administrator/workspace/xgboost-win64_release_1.5.1/src/learner.cc:1115: Starting in XGBoost 1.3.0, the default evaluation metric used with the objective 'binary:logistic' was changed from 'error' to 'logloss'. Explicitly set eval_metric if you'd like to restore the old behavior.\n",
      "[12:51:34] WARNING: C:/Users/Administrator/workspace/xgboost-win64_release_1.5.1/src/learner.cc:1115: Starting in XGBoost 1.3.0, the default evaluation metric used with the objective 'binary:logistic' was changed from 'error' to 'logloss'. Explicitly set eval_metric if you'd like to restore the old behavior.\n",
      "[12:51:36] WARNING: C:/Users/Administrator/workspace/xgboost-win64_release_1.5.1/src/learner.cc:1115: Starting in XGBoost 1.3.0, the default evaluation metric used with the objective 'binary:logistic' was changed from 'error' to 'logloss'. Explicitly set eval_metric if you'd like to restore the old behavior.\n",
      "The cross validation score is : 0.8972148363483289\n"
     ]
    }
   ],
   "source": [
    "xc_cv_score = cross_val_score(xc,X_train,y_train,cv=5)\n",
    "print('The cross validation score is :',xc_cv_score.mean())"
   ]
  },
  {
   "cell_type": "markdown",
   "id": "e8f8af59",
   "metadata": {},
   "source": [
    "### 12. Observing Score of all model"
   ]
  },
  {
   "cell_type": "code",
   "execution_count": 65,
   "id": "5839c350",
   "metadata": {},
   "outputs": [],
   "source": [
    "all_score = pd.DataFrame()"
   ]
  },
  {
   "cell_type": "code",
   "execution_count": 66,
   "id": "0f14945a",
   "metadata": {},
   "outputs": [],
   "source": [
    "all_score['Model Name'] = ['Logistic Regression','KNeighbors Classifier','Decision Tree Classifier','Bagging Classifier','Gradient Boosting Classifier','AdaBoost Classifier','XGB Classifier']\n",
    "all_score['Train Score'] = [lg_train_score,kc_train_score,dt_train_score,bc_train_score,gc_train_score,ac_train_score,xc_train_score]\n",
    "all_score['Test Score'] = [lg_test_score,kc_test_score,dt_test_score,bc_test_score,gc_test_score,ac_test_score,xc_test_score]\n",
    "all_score['Accuracy Score'] = [lg_accuracy,kc_accuracy,dt_accuracy,bc_accuracy,gc_accuracy,ac_accuracy,xc_accuracy]\n",
    "all_score['Cross Validation Score'] = [lg_cv_score.mean(),kc_cv_score.mean(),dt_cv_score.mean(),bc_cv_score.mean(),gc_cv_score.mean(),ac_cv_score.mean(),xc_cv_score.mean()]"
   ]
  },
  {
   "cell_type": "code",
   "execution_count": 67,
   "id": "8a98c4e2",
   "metadata": {},
   "outputs": [
    {
     "data": {
      "text/html": [
       "<div>\n",
       "<style scoped>\n",
       "    .dataframe tbody tr th:only-of-type {\n",
       "        vertical-align: middle;\n",
       "    }\n",
       "\n",
       "    .dataframe tbody tr th {\n",
       "        vertical-align: top;\n",
       "    }\n",
       "\n",
       "    .dataframe thead th {\n",
       "        text-align: right;\n",
       "    }\n",
       "</style>\n",
       "<table border=\"1\" class=\"dataframe\">\n",
       "  <thead>\n",
       "    <tr style=\"text-align: right;\">\n",
       "      <th></th>\n",
       "      <th>Model Name</th>\n",
       "      <th>Train Score</th>\n",
       "      <th>Test Score</th>\n",
       "      <th>Accuracy Score</th>\n",
       "      <th>Cross Validation Score</th>\n",
       "    </tr>\n",
       "  </thead>\n",
       "  <tbody>\n",
       "    <tr>\n",
       "      <th>0</th>\n",
       "      <td>Logistic Regression</td>\n",
       "      <td>0.897260</td>\n",
       "      <td>0.900965</td>\n",
       "      <td>0.900965</td>\n",
       "      <td>0.897215</td>\n",
       "    </tr>\n",
       "    <tr>\n",
       "      <th>1</th>\n",
       "      <td>KNeighbors Classifier</td>\n",
       "      <td>0.897286</td>\n",
       "      <td>0.900965</td>\n",
       "      <td>0.900965</td>\n",
       "      <td>0.897260</td>\n",
       "    </tr>\n",
       "    <tr>\n",
       "      <th>2</th>\n",
       "      <td>Decision Tree Classifier</td>\n",
       "      <td>0.905621</td>\n",
       "      <td>0.901801</td>\n",
       "      <td>0.901801</td>\n",
       "      <td>0.897886</td>\n",
       "    </tr>\n",
       "    <tr>\n",
       "      <th>3</th>\n",
       "      <td>Bagging Classifier</td>\n",
       "      <td>0.904726</td>\n",
       "      <td>0.901717</td>\n",
       "      <td>0.901717</td>\n",
       "      <td>0.897815</td>\n",
       "    </tr>\n",
       "    <tr>\n",
       "      <th>4</th>\n",
       "      <td>Gradient Boosting Classifier</td>\n",
       "      <td>0.897286</td>\n",
       "      <td>0.900965</td>\n",
       "      <td>0.900965</td>\n",
       "      <td>0.897260</td>\n",
       "    </tr>\n",
       "    <tr>\n",
       "      <th>5</th>\n",
       "      <td>AdaBoost Classifier</td>\n",
       "      <td>0.898101</td>\n",
       "      <td>0.901049</td>\n",
       "      <td>0.901049</td>\n",
       "      <td>0.897260</td>\n",
       "    </tr>\n",
       "    <tr>\n",
       "      <th>6</th>\n",
       "      <td>XGB Classifier</td>\n",
       "      <td>0.897260</td>\n",
       "      <td>0.900965</td>\n",
       "      <td>0.900965</td>\n",
       "      <td>0.897215</td>\n",
       "    </tr>\n",
       "  </tbody>\n",
       "</table>\n",
       "</div>"
      ],
      "text/plain": [
       "                     Model Name  Train Score  Test Score  Accuracy Score  \\\n",
       "0           Logistic Regression     0.897260    0.900965        0.900965   \n",
       "1         KNeighbors Classifier     0.897286    0.900965        0.900965   \n",
       "2      Decision Tree Classifier     0.905621    0.901801        0.901801   \n",
       "3            Bagging Classifier     0.904726    0.901717        0.901717   \n",
       "4  Gradient Boosting Classifier     0.897286    0.900965        0.900965   \n",
       "5           AdaBoost Classifier     0.898101    0.901049        0.901049   \n",
       "6                XGB Classifier     0.897260    0.900965        0.900965   \n",
       "\n",
       "   Cross Validation Score  \n",
       "0                0.897215  \n",
       "1                0.897260  \n",
       "2                0.897886  \n",
       "3                0.897815  \n",
       "4                0.897260  \n",
       "5                0.897260  \n",
       "6                0.897215  "
      ]
     },
     "execution_count": 67,
     "metadata": {},
     "output_type": "execute_result"
    }
   ],
   "source": [
    "all_score"
   ]
  },
  {
   "cell_type": "code",
   "execution_count": 68,
   "id": "a32d8430",
   "metadata": {},
   "outputs": [
    {
     "data": {
      "text/plain": [
       "Text(0.5, 1.0, 'Train Score Analysis')"
      ]
     },
     "execution_count": 68,
     "metadata": {},
     "output_type": "execute_result"
    },
    {
     "data": {
      "image/png": "[encoded data removed]",
      "text/plain": [
       "<Figure size 864x432 with 1 Axes>"
      ]
     },
     "metadata": {},
     "output_type": "display_data"
    }
   ],
   "source": [
    "plt.figure(figsize=(12,6))\n",
    "sns.barplot('Train Score','Model Name',data=all_score,palette = \"mako\")\n",
    "plt.xlabel('Train Set Score',fontsize=15)\n",
    "plt.ylabel('Model Name',fontsize=15)\n",
    "plt.title('Train Score Analysis',fontsize=20)"
   ]
  },
  {
   "cell_type": "code",
   "execution_count": 69,
   "id": "f9673562",
   "metadata": {},
   "outputs": [
    {
     "data": {
      "text/plain": [
       "Text(0.5, 1.0, 'Test Score Analysis')"
      ]
     },
     "execution_count": 69,
     "metadata": {},
     "output_type": "execute_result"
    },
    {
     "data": {
      "image/png": "[encoded data removed]",
      "text/plain": [
       "<Figure size 864x432 with 1 Axes>"
      ]
     },
     "metadata": {},
     "output_type": "display_data"
    }
   ],
   "source": [
    "plt.figure(figsize=(12,6))\n",
    "sns.barplot('Test Score','Model Name',data=all_score,palette = \"viridis\")\n",
    "plt.xlabel('Test Score',fontsize=15)\n",
    "plt.ylabel('Model Name',fontsize=15)\n",
    "plt.title('Test Score Analysis',fontsize=20)"
   ]
  },
  {
   "cell_type": "code",
   "execution_count": 70,
   "id": "44775467",
   "metadata": {},
   "outputs": [
    {
     "data": {
      "text/plain": [
       "Text(0.5, 1.0, 'Accuracy Score Analysis')"
      ]
     },
     "execution_count": 70,
     "metadata": {},
     "output_type": "execute_result"
    },
    {
     "data": {
      "image/png": "[encoded data removed]",
      "text/plain": [
       "<Figure size 864x432 with 1 Axes>"
      ]
     },
     "metadata": {},
     "output_type": "display_data"
    }
   ],
   "source": [
    "plt.figure(figsize=(12,6))\n",
    "sns.barplot('Accuracy Score','Model Name',data=all_score,palette = \"magma\")\n",
    "plt.xlabel('Accuracy Score',fontsize=15)\n",
    "plt.ylabel('Model Name',fontsize=15)\n",
    "plt.title('Accuracy Score Analysis',fontsize=20)"
   ]
  },
  {
   "cell_type": "code",
   "execution_count": 71,
   "id": "732c4eba",
   "metadata": {},
   "outputs": [
    {
     "data": {
      "text/plain": [
       "Text(0.5, 1.0, 'Cross Validation Score Analysis')"
      ]
     },
     "execution_count": 71,
     "metadata": {},
     "output_type": "execute_result"
    },
    {
     "data": {
      "image/png": "[encoded data removed]",
      "text/plain": [
       "<Figure size 864x432 with 1 Axes>"
      ]
     },
     "metadata": {},
     "output_type": "display_data"
    }
   ],
   "source": [
    "plt.figure(figsize=(12,6))\n",
    "sns.barplot('Cross Validation Score','Model Name',data=all_score,palette = \"plasma\")\n",
    "plt.xlabel('Cross Validation Score',fontsize=15)\n",
    "plt.ylabel('Model Name',fontsize=15)\n",
    "plt.title('Cross Validation Score Analysis',fontsize=20)"
   ]
  },
  {
   "cell_type": "markdown",
   "id": "cc1e21a0",
   "metadata": {},
   "source": [
    "##### Outcome : XGB Classifier and Decision Tree Classifier all model are good. Based on accuracy Decision Tree Classifier has better accuracy. The difference between accuracy and cross validation score, XGB Classifier has less difference. So i am choosing XGB Classifier as model on this dataset because it is performing well on this dataset for me."
   ]
  },
  {
   "cell_type": "markdown",
   "id": "486a2260",
   "metadata": {},
   "source": [
    "### 13. ROC Curve"
   ]
  },
  {
   "cell_type": "code",
   "execution_count": 74,
   "id": "6ded524d",
   "metadata": {},
   "outputs": [
    {
     "data": {
      "image/png": "[encoded data removed]",
      "text/plain": [
       "<Figure size 432x288 with 1 Axes>"
      ]
     },
     "metadata": {},
     "output_type": "display_data"
    }
   ],
   "source": [
    "disp = plot_roc_curve(dt,X_test,y_test)\n",
    "plot_roc_curve(lg,X_test,y_test,ax=disp.ax_)\n",
    "plot_roc_curve(kc,X_test,y_test,ax=disp.ax_)\n",
    "plot_roc_curve(bc,X_test,y_test,ax=disp.ax_)\n",
    "plot_roc_curve(gc,X_test,y_test,ax=disp.ax_)\n",
    "plot_roc_curve(ac,X_test,y_test,ax=disp.ax_)\n",
    "plot_roc_curve(xc,X_test,y_test,ax=disp.ax_)\n",
    "\n",
    "plt.legend(prop = {'size' : 12},loc='lower right')\n",
    "plt.show()"
   ]
  },
  {
   "cell_type": "markdown",
   "id": "4dc6e545",
   "metadata": {},
   "source": [
    "### 14. Hyperparameter Tuning on XGB Classifier using GridSearch CV"
   ]
  },
  {
   "cell_type": "code",
   "execution_count": 75,
   "id": "e96b85ad",
   "metadata": {},
   "outputs": [],
   "source": [
    "from sklearn.model_selection import GridSearchCV"
   ]
  },
  {
   "cell_type": "code",
   "execution_count": 76,
   "id": "eac2daed",
   "metadata": {
    "scrolled": false
   },
   "outputs": [
    {
     "name": "stdout",
     "output_type": "stream",
     "text": [
      "[15:08:41] WARNING: C:/Users/Administrator/workspace/xgboost-win64_release_1.5.1/src/learner.cc:1115: Starting in XGBoost 1.3.0, the default evaluation metric used with the objective 'binary:logistic' was changed from 'error' to 'logloss'. Explicitly set eval_metric if you'd like to restore the old behavior.\n",
      "[15:08:43] WARNING: C:/Users/Administrator/workspace/xgboost-win64_release_1.5.1/src/learner.cc:1115: Starting in XGBoost 1.3.0, the default evaluation metric used with the objective 'binary:logistic' was changed from 'error' to 'logloss'. Explicitly set eval_metric if you'd like to restore the old behavior.\n",
      "[15:08:46] WARNING: C:/Users/Administrator/workspace/xgboost-win64_release_1.5.1/src/learner.cc:1115: Starting in XGBoost 1.3.0, the default evaluation metric used with the objective 'binary:logistic' was changed from 'error' to 'logloss'. Explicitly set eval_metric if you'd like to restore the old behavior.\n",
      "[15:08:49] WARNING: C:/Users/Administrator/workspace/xgboost-win64_release_1.5.1/src/learner.cc:1115: Starting in XGBoost 1.3.0, the default evaluation metric used with the objective 'binary:logistic' was changed from 'error' to 'logloss'. Explicitly set eval_metric if you'd like to restore the old behavior.\n",
      "[15:08:52] WARNING: C:/Users/Administrator/workspace/xgboost-win64_release_1.5.1/src/learner.cc:1115: Starting in XGBoost 1.3.0, the default evaluation metric used with the objective 'binary:logistic' was changed from 'error' to 'logloss'. Explicitly set eval_metric if you'd like to restore the old behavior.\n",
      "[15:08:54] WARNING: C:/Users/Administrator/workspace/xgboost-win64_release_1.5.1/src/learner.cc:1115: Starting in XGBoost 1.3.0, the default evaluation metric used with the objective 'binary:logistic' was changed from 'error' to 'logloss'. Explicitly set eval_metric if you'd like to restore the old behavior.\n",
      "[15:08:57] WARNING: C:/Users/Administrator/workspace/xgboost-win64_release_1.5.1/src/learner.cc:1115: Starting in XGBoost 1.3.0, the default evaluation metric used with the objective 'binary:logistic' was changed from 'error' to 'logloss'. Explicitly set eval_metric if you'd like to restore the old behavior.\n",
      "[15:09:00] WARNING: C:/Users/Administrator/workspace/xgboost-win64_release_1.5.1/src/learner.cc:1115: Starting in XGBoost 1.3.0, the default evaluation metric used with the objective 'binary:logistic' was changed from 'error' to 'logloss'. Explicitly set eval_metric if you'd like to restore the old behavior.\n",
      "[15:09:02] WARNING: C:/Users/Administrator/workspace/xgboost-win64_release_1.5.1/src/learner.cc:1115: Starting in XGBoost 1.3.0, the default evaluation metric used with the objective 'binary:logistic' was changed from 'error' to 'logloss'. Explicitly set eval_metric if you'd like to restore the old behavior.\n",
      "[15:09:05] WARNING: C:/Users/Administrator/workspace/xgboost-win64_release_1.5.1/src/learner.cc:1115: Starting in XGBoost 1.3.0, the default evaluation metric used with the objective 'binary:logistic' was changed from 'error' to 'logloss'. Explicitly set eval_metric if you'd like to restore the old behavior.\n",
      "[15:09:08] WARNING: C:/Users/Administrator/workspace/xgboost-win64_release_1.5.1/src/learner.cc:1115: Starting in XGBoost 1.3.0, the default evaluation metric used with the objective 'binary:logistic' was changed from 'error' to 'logloss'. Explicitly set eval_metric if you'd like to restore the old behavior.\n",
      "[15:09:10] WARNING: C:/Users/Administrator/workspace/xgboost-win64_release_1.5.1/src/learner.cc:1115: Starting in XGBoost 1.3.0, the default evaluation metric used with the objective 'binary:logistic' was changed from 'error' to 'logloss'. Explicitly set eval_metric if you'd like to restore the old behavior.\n",
      "[15:09:13] WARNING: C:/Users/Administrator/workspace/xgboost-win64_release_1.5.1/src/learner.cc:1115: Starting in XGBoost 1.3.0, the default evaluation metric used with the objective 'binary:logistic' was changed from 'error' to 'logloss'. Explicitly set eval_metric if you'd like to restore the old behavior.\n",
      "[15:09:16] WARNING: C:/Users/Administrator/workspace/xgboost-win64_release_1.5.1/src/learner.cc:1115: Starting in XGBoost 1.3.0, the default evaluation metric used with the objective 'binary:logistic' was changed from 'error' to 'logloss'. Explicitly set eval_metric if you'd like to restore the old behavior.\n",
      "[15:09:18] WARNING: C:/Users/Administrator/workspace/xgboost-win64_release_1.5.1/src/learner.cc:1115: Starting in XGBoost 1.3.0, the default evaluation metric used with the objective 'binary:logistic' was changed from 'error' to 'logloss'. Explicitly set eval_metric if you'd like to restore the old behavior.\n",
      "[15:09:21] WARNING: C:/Users/Administrator/workspace/xgboost-win64_release_1.5.1/src/learner.cc:1115: Starting in XGBoost 1.3.0, the default evaluation metric used with the objective 'binary:logistic' was changed from 'error' to 'logloss'. Explicitly set eval_metric if you'd like to restore the old behavior.\n",
      "[15:09:24] WARNING: C:/Users/Administrator/workspace/xgboost-win64_release_1.5.1/src/learner.cc:1115: Starting in XGBoost 1.3.0, the default evaluation metric used with the objective 'binary:logistic' was changed from 'error' to 'logloss'. Explicitly set eval_metric if you'd like to restore the old behavior.\n",
      "[15:09:26] WARNING: C:/Users/Administrator/workspace/xgboost-win64_release_1.5.1/src/learner.cc:1115: Starting in XGBoost 1.3.0, the default evaluation metric used with the objective 'binary:logistic' was changed from 'error' to 'logloss'. Explicitly set eval_metric if you'd like to restore the old behavior.\n",
      "[15:09:29] WARNING: C:/Users/Administrator/workspace/xgboost-win64_release_1.5.1/src/learner.cc:1115: Starting in XGBoost 1.3.0, the default evaluation metric used with the objective 'binary:logistic' was changed from 'error' to 'logloss'. Explicitly set eval_metric if you'd like to restore the old behavior.\n",
      "[15:09:32] WARNING: C:/Users/Administrator/workspace/xgboost-win64_release_1.5.1/src/learner.cc:1115: Starting in XGBoost 1.3.0, the default evaluation metric used with the objective 'binary:logistic' was changed from 'error' to 'logloss'. Explicitly set eval_metric if you'd like to restore the old behavior.\n",
      "[15:09:34] WARNING: C:/Users/Administrator/workspace/xgboost-win64_release_1.5.1/src/learner.cc:1115: Starting in XGBoost 1.3.0, the default evaluation metric used with the objective 'binary:logistic' was changed from 'error' to 'logloss'. Explicitly set eval_metric if you'd like to restore the old behavior.\n",
      "[15:09:37] WARNING: C:/Users/Administrator/workspace/xgboost-win64_release_1.5.1/src/learner.cc:1115: Starting in XGBoost 1.3.0, the default evaluation metric used with the objective 'binary:logistic' was changed from 'error' to 'logloss'. Explicitly set eval_metric if you'd like to restore the old behavior.\n",
      "[15:09:40] WARNING: C:/Users/Administrator/workspace/xgboost-win64_release_1.5.1/src/learner.cc:1115: Starting in XGBoost 1.3.0, the default evaluation metric used with the objective 'binary:logistic' was changed from 'error' to 'logloss'. Explicitly set eval_metric if you'd like to restore the old behavior.\n",
      "[15:09:42] WARNING: C:/Users/Administrator/workspace/xgboost-win64_release_1.5.1/src/learner.cc:1115: Starting in XGBoost 1.3.0, the default evaluation metric used with the objective 'binary:logistic' was changed from 'error' to 'logloss'. Explicitly set eval_metric if you'd like to restore the old behavior.\n",
      "[15:09:45] WARNING: C:/Users/Administrator/workspace/xgboost-win64_release_1.5.1/src/learner.cc:1115: Starting in XGBoost 1.3.0, the default evaluation metric used with the objective 'binary:logistic' was changed from 'error' to 'logloss'. Explicitly set eval_metric if you'd like to restore the old behavior.\n",
      "[15:09:48] WARNING: C:/Users/Administrator/workspace/xgboost-win64_release_1.5.1/src/learner.cc:1115: Starting in XGBoost 1.3.0, the default evaluation metric used with the objective 'binary:logistic' was changed from 'error' to 'logloss'. Explicitly set eval_metric if you'd like to restore the old behavior.\n",
      "[15:09:50] WARNING: C:/Users/Administrator/workspace/xgboost-win64_release_1.5.1/src/learner.cc:1115: Starting in XGBoost 1.3.0, the default evaluation metric used with the objective 'binary:logistic' was changed from 'error' to 'logloss'. Explicitly set eval_metric if you'd like to restore the old behavior.\n"
     ]
    },
    {
     "name": "stdout",
     "output_type": "stream",
     "text": [
      "[15:09:53] WARNING: C:/Users/Administrator/workspace/xgboost-win64_release_1.5.1/src/learner.cc:1115: Starting in XGBoost 1.3.0, the default evaluation metric used with the objective 'binary:logistic' was changed from 'error' to 'logloss'. Explicitly set eval_metric if you'd like to restore the old behavior.\n",
      "[15:09:56] WARNING: C:/Users/Administrator/workspace/xgboost-win64_release_1.5.1/src/learner.cc:1115: Starting in XGBoost 1.3.0, the default evaluation metric used with the objective 'binary:logistic' was changed from 'error' to 'logloss'. Explicitly set eval_metric if you'd like to restore the old behavior.\n",
      "[15:09:58] WARNING: C:/Users/Administrator/workspace/xgboost-win64_release_1.5.1/src/learner.cc:1115: Starting in XGBoost 1.3.0, the default evaluation metric used with the objective 'binary:logistic' was changed from 'error' to 'logloss'. Explicitly set eval_metric if you'd like to restore the old behavior.\n",
      "[15:10:01] WARNING: C:/Users/Administrator/workspace/xgboost-win64_release_1.5.1/src/learner.cc:1115: Starting in XGBoost 1.3.0, the default evaluation metric used with the objective 'binary:logistic' was changed from 'error' to 'logloss'. Explicitly set eval_metric if you'd like to restore the old behavior.\n",
      "[15:10:04] WARNING: C:/Users/Administrator/workspace/xgboost-win64_release_1.5.1/src/learner.cc:1115: Starting in XGBoost 1.3.0, the default evaluation metric used with the objective 'binary:logistic' was changed from 'error' to 'logloss'. Explicitly set eval_metric if you'd like to restore the old behavior.\n",
      "[15:10:06] WARNING: C:/Users/Administrator/workspace/xgboost-win64_release_1.5.1/src/learner.cc:1115: Starting in XGBoost 1.3.0, the default evaluation metric used with the objective 'binary:logistic' was changed from 'error' to 'logloss'. Explicitly set eval_metric if you'd like to restore the old behavior.\n",
      "[15:10:09] WARNING: C:/Users/Administrator/workspace/xgboost-win64_release_1.5.1/src/learner.cc:1115: Starting in XGBoost 1.3.0, the default evaluation metric used with the objective 'binary:logistic' was changed from 'error' to 'logloss'. Explicitly set eval_metric if you'd like to restore the old behavior.\n",
      "[15:10:12] WARNING: C:/Users/Administrator/workspace/xgboost-win64_release_1.5.1/src/learner.cc:1115: Starting in XGBoost 1.3.0, the default evaluation metric used with the objective 'binary:logistic' was changed from 'error' to 'logloss'. Explicitly set eval_metric if you'd like to restore the old behavior.\n",
      "[15:10:15] WARNING: C:/Users/Administrator/workspace/xgboost-win64_release_1.5.1/src/learner.cc:1115: Starting in XGBoost 1.3.0, the default evaluation metric used with the objective 'binary:logistic' was changed from 'error' to 'logloss'. Explicitly set eval_metric if you'd like to restore the old behavior.\n",
      "[15:10:17] WARNING: C:/Users/Administrator/workspace/xgboost-win64_release_1.5.1/src/learner.cc:1115: Starting in XGBoost 1.3.0, the default evaluation metric used with the objective 'binary:logistic' was changed from 'error' to 'logloss'. Explicitly set eval_metric if you'd like to restore the old behavior.\n",
      "[15:10:20] WARNING: C:/Users/Administrator/workspace/xgboost-win64_release_1.5.1/src/learner.cc:1115: Starting in XGBoost 1.3.0, the default evaluation metric used with the objective 'binary:logistic' was changed from 'error' to 'logloss'. Explicitly set eval_metric if you'd like to restore the old behavior.\n",
      "[15:10:23] WARNING: C:/Users/Administrator/workspace/xgboost-win64_release_1.5.1/src/learner.cc:1115: Starting in XGBoost 1.3.0, the default evaluation metric used with the objective 'binary:logistic' was changed from 'error' to 'logloss'. Explicitly set eval_metric if you'd like to restore the old behavior.\n",
      "[15:10:25] WARNING: C:/Users/Administrator/workspace/xgboost-win64_release_1.5.1/src/learner.cc:1115: Starting in XGBoost 1.3.0, the default evaluation metric used with the objective 'binary:logistic' was changed from 'error' to 'logloss'. Explicitly set eval_metric if you'd like to restore the old behavior.\n",
      "[15:10:28] WARNING: C:/Users/Administrator/workspace/xgboost-win64_release_1.5.1/src/learner.cc:1115: Starting in XGBoost 1.3.0, the default evaluation metric used with the objective 'binary:logistic' was changed from 'error' to 'logloss'. Explicitly set eval_metric if you'd like to restore the old behavior.\n",
      "[15:10:31] WARNING: C:/Users/Administrator/workspace/xgboost-win64_release_1.5.1/src/learner.cc:1115: Starting in XGBoost 1.3.0, the default evaluation metric used with the objective 'binary:logistic' was changed from 'error' to 'logloss'. Explicitly set eval_metric if you'd like to restore the old behavior.\n",
      "[15:10:33] WARNING: C:/Users/Administrator/workspace/xgboost-win64_release_1.5.1/src/learner.cc:1115: Starting in XGBoost 1.3.0, the default evaluation metric used with the objective 'binary:logistic' was changed from 'error' to 'logloss'. Explicitly set eval_metric if you'd like to restore the old behavior.\n",
      "[15:10:36] WARNING: C:/Users/Administrator/workspace/xgboost-win64_release_1.5.1/src/learner.cc:1115: Starting in XGBoost 1.3.0, the default evaluation metric used with the objective 'binary:logistic' was changed from 'error' to 'logloss'. Explicitly set eval_metric if you'd like to restore the old behavior.\n",
      "[15:10:39] WARNING: C:/Users/Administrator/workspace/xgboost-win64_release_1.5.1/src/learner.cc:1115: Starting in XGBoost 1.3.0, the default evaluation metric used with the objective 'binary:logistic' was changed from 'error' to 'logloss'. Explicitly set eval_metric if you'd like to restore the old behavior.\n",
      "[15:10:41] WARNING: C:/Users/Administrator/workspace/xgboost-win64_release_1.5.1/src/learner.cc:1115: Starting in XGBoost 1.3.0, the default evaluation metric used with the objective 'binary:logistic' was changed from 'error' to 'logloss'. Explicitly set eval_metric if you'd like to restore the old behavior.\n",
      "[15:10:44] WARNING: C:/Users/Administrator/workspace/xgboost-win64_release_1.5.1/src/learner.cc:1115: Starting in XGBoost 1.3.0, the default evaluation metric used with the objective 'binary:logistic' was changed from 'error' to 'logloss'. Explicitly set eval_metric if you'd like to restore the old behavior.\n",
      "[15:10:47] WARNING: C:/Users/Administrator/workspace/xgboost-win64_release_1.5.1/src/learner.cc:1115: Starting in XGBoost 1.3.0, the default evaluation metric used with the objective 'binary:logistic' was changed from 'error' to 'logloss'. Explicitly set eval_metric if you'd like to restore the old behavior.\n",
      "[15:10:49] WARNING: C:/Users/Administrator/workspace/xgboost-win64_release_1.5.1/src/learner.cc:1115: Starting in XGBoost 1.3.0, the default evaluation metric used with the objective 'binary:logistic' was changed from 'error' to 'logloss'. Explicitly set eval_metric if you'd like to restore the old behavior.\n",
      "[15:10:52] WARNING: C:/Users/Administrator/workspace/xgboost-win64_release_1.5.1/src/learner.cc:1115: Starting in XGBoost 1.3.0, the default evaluation metric used with the objective 'binary:logistic' was changed from 'error' to 'logloss'. Explicitly set eval_metric if you'd like to restore the old behavior.\n",
      "[15:10:55] WARNING: C:/Users/Administrator/workspace/xgboost-win64_release_1.5.1/src/learner.cc:1115: Starting in XGBoost 1.3.0, the default evaluation metric used with the objective 'binary:logistic' was changed from 'error' to 'logloss'. Explicitly set eval_metric if you'd like to restore the old behavior.\n",
      "[15:10:58] WARNING: C:/Users/Administrator/workspace/xgboost-win64_release_1.5.1/src/learner.cc:1115: Starting in XGBoost 1.3.0, the default evaluation metric used with the objective 'binary:logistic' was changed from 'error' to 'logloss'. Explicitly set eval_metric if you'd like to restore the old behavior.\n",
      "[15:11:00] WARNING: C:/Users/Administrator/workspace/xgboost-win64_release_1.5.1/src/learner.cc:1115: Starting in XGBoost 1.3.0, the default evaluation metric used with the objective 'binary:logistic' was changed from 'error' to 'logloss'. Explicitly set eval_metric if you'd like to restore the old behavior.\n",
      "[15:11:03] WARNING: C:/Users/Administrator/workspace/xgboost-win64_release_1.5.1/src/learner.cc:1115: Starting in XGBoost 1.3.0, the default evaluation metric used with the objective 'binary:logistic' was changed from 'error' to 'logloss'. Explicitly set eval_metric if you'd like to restore the old behavior.\n"
     ]
    },
    {
     "name": "stdout",
     "output_type": "stream",
     "text": [
      "[15:11:05] WARNING: C:/Users/Administrator/workspace/xgboost-win64_release_1.5.1/src/learner.cc:1115: Starting in XGBoost 1.3.0, the default evaluation metric used with the objective 'binary:logistic' was changed from 'error' to 'logloss'. Explicitly set eval_metric if you'd like to restore the old behavior.\n",
      "[15:11:08] WARNING: C:/Users/Administrator/workspace/xgboost-win64_release_1.5.1/src/learner.cc:1115: Starting in XGBoost 1.3.0, the default evaluation metric used with the objective 'binary:logistic' was changed from 'error' to 'logloss'. Explicitly set eval_metric if you'd like to restore the old behavior.\n",
      "[15:11:11] WARNING: C:/Users/Administrator/workspace/xgboost-win64_release_1.5.1/src/learner.cc:1115: Starting in XGBoost 1.3.0, the default evaluation metric used with the objective 'binary:logistic' was changed from 'error' to 'logloss'. Explicitly set eval_metric if you'd like to restore the old behavior.\n",
      "[15:11:13] WARNING: C:/Users/Administrator/workspace/xgboost-win64_release_1.5.1/src/learner.cc:1115: Starting in XGBoost 1.3.0, the default evaluation metric used with the objective 'binary:logistic' was changed from 'error' to 'logloss'. Explicitly set eval_metric if you'd like to restore the old behavior.\n",
      "[15:11:16] WARNING: C:/Users/Administrator/workspace/xgboost-win64_release_1.5.1/src/learner.cc:1115: Starting in XGBoost 1.3.0, the default evaluation metric used with the objective 'binary:logistic' was changed from 'error' to 'logloss'. Explicitly set eval_metric if you'd like to restore the old behavior.\n",
      "[15:11:19] WARNING: C:/Users/Administrator/workspace/xgboost-win64_release_1.5.1/src/learner.cc:1115: Starting in XGBoost 1.3.0, the default evaluation metric used with the objective 'binary:logistic' was changed from 'error' to 'logloss'. Explicitly set eval_metric if you'd like to restore the old behavior.\n",
      "[15:11:21] WARNING: C:/Users/Administrator/workspace/xgboost-win64_release_1.5.1/src/learner.cc:1115: Starting in XGBoost 1.3.0, the default evaluation metric used with the objective 'binary:logistic' was changed from 'error' to 'logloss'. Explicitly set eval_metric if you'd like to restore the old behavior.\n",
      "[15:11:24] WARNING: C:/Users/Administrator/workspace/xgboost-win64_release_1.5.1/src/learner.cc:1115: Starting in XGBoost 1.3.0, the default evaluation metric used with the objective 'binary:logistic' was changed from 'error' to 'logloss'. Explicitly set eval_metric if you'd like to restore the old behavior.\n",
      "[15:11:27] WARNING: C:/Users/Administrator/workspace/xgboost-win64_release_1.5.1/src/learner.cc:1115: Starting in XGBoost 1.3.0, the default evaluation metric used with the objective 'binary:logistic' was changed from 'error' to 'logloss'. Explicitly set eval_metric if you'd like to restore the old behavior.\n",
      "[15:11:29] WARNING: C:/Users/Administrator/workspace/xgboost-win64_release_1.5.1/src/learner.cc:1115: Starting in XGBoost 1.3.0, the default evaluation metric used with the objective 'binary:logistic' was changed from 'error' to 'logloss'. Explicitly set eval_metric if you'd like to restore the old behavior.\n",
      "[15:11:32] WARNING: C:/Users/Administrator/workspace/xgboost-win64_release_1.5.1/src/learner.cc:1115: Starting in XGBoost 1.3.0, the default evaluation metric used with the objective 'binary:logistic' was changed from 'error' to 'logloss'. Explicitly set eval_metric if you'd like to restore the old behavior.\n",
      "[15:11:35] WARNING: C:/Users/Administrator/workspace/xgboost-win64_release_1.5.1/src/learner.cc:1115: Starting in XGBoost 1.3.0, the default evaluation metric used with the objective 'binary:logistic' was changed from 'error' to 'logloss'. Explicitly set eval_metric if you'd like to restore the old behavior.\n",
      "[15:11:38] WARNING: C:/Users/Administrator/workspace/xgboost-win64_release_1.5.1/src/learner.cc:1115: Starting in XGBoost 1.3.0, the default evaluation metric used with the objective 'binary:logistic' was changed from 'error' to 'logloss'. Explicitly set eval_metric if you'd like to restore the old behavior.\n",
      "[15:11:41] WARNING: C:/Users/Administrator/workspace/xgboost-win64_release_1.5.1/src/learner.cc:1115: Starting in XGBoost 1.3.0, the default evaluation metric used with the objective 'binary:logistic' was changed from 'error' to 'logloss'. Explicitly set eval_metric if you'd like to restore the old behavior.\n",
      "[15:11:44] WARNING: C:/Users/Administrator/workspace/xgboost-win64_release_1.5.1/src/learner.cc:1115: Starting in XGBoost 1.3.0, the default evaluation metric used with the objective 'binary:logistic' was changed from 'error' to 'logloss'. Explicitly set eval_metric if you'd like to restore the old behavior.\n",
      "[15:11:46] WARNING: C:/Users/Administrator/workspace/xgboost-win64_release_1.5.1/src/learner.cc:1115: Starting in XGBoost 1.3.0, the default evaluation metric used with the objective 'binary:logistic' was changed from 'error' to 'logloss'. Explicitly set eval_metric if you'd like to restore the old behavior.\n",
      "[15:11:49] WARNING: C:/Users/Administrator/workspace/xgboost-win64_release_1.5.1/src/learner.cc:1115: Starting in XGBoost 1.3.0, the default evaluation metric used with the objective 'binary:logistic' was changed from 'error' to 'logloss'. Explicitly set eval_metric if you'd like to restore the old behavior.\n",
      "[15:11:52] WARNING: C:/Users/Administrator/workspace/xgboost-win64_release_1.5.1/src/learner.cc:1115: Starting in XGBoost 1.3.0, the default evaluation metric used with the objective 'binary:logistic' was changed from 'error' to 'logloss'. Explicitly set eval_metric if you'd like to restore the old behavior.\n",
      "[15:11:54] WARNING: C:/Users/Administrator/workspace/xgboost-win64_release_1.5.1/src/learner.cc:1115: Starting in XGBoost 1.3.0, the default evaluation metric used with the objective 'binary:logistic' was changed from 'error' to 'logloss'. Explicitly set eval_metric if you'd like to restore the old behavior.\n",
      "[15:11:57] WARNING: C:/Users/Administrator/workspace/xgboost-win64_release_1.5.1/src/learner.cc:1115: Starting in XGBoost 1.3.0, the default evaluation metric used with the objective 'binary:logistic' was changed from 'error' to 'logloss'. Explicitly set eval_metric if you'd like to restore the old behavior.\n",
      "[15:12:00] WARNING: C:/Users/Administrator/workspace/xgboost-win64_release_1.5.1/src/learner.cc:1115: Starting in XGBoost 1.3.0, the default evaluation metric used with the objective 'binary:logistic' was changed from 'error' to 'logloss'. Explicitly set eval_metric if you'd like to restore the old behavior.\n",
      "[15:12:03] WARNING: C:/Users/Administrator/workspace/xgboost-win64_release_1.5.1/src/learner.cc:1115: Starting in XGBoost 1.3.0, the default evaluation metric used with the objective 'binary:logistic' was changed from 'error' to 'logloss'. Explicitly set eval_metric if you'd like to restore the old behavior.\n",
      "[15:12:06] WARNING: C:/Users/Administrator/workspace/xgboost-win64_release_1.5.1/src/learner.cc:1115: Starting in XGBoost 1.3.0, the default evaluation metric used with the objective 'binary:logistic' was changed from 'error' to 'logloss'. Explicitly set eval_metric if you'd like to restore the old behavior.\n",
      "[15:12:09] WARNING: C:/Users/Administrator/workspace/xgboost-win64_release_1.5.1/src/learner.cc:1115: Starting in XGBoost 1.3.0, the default evaluation metric used with the objective 'binary:logistic' was changed from 'error' to 'logloss'. Explicitly set eval_metric if you'd like to restore the old behavior.\n",
      "[15:12:11] WARNING: C:/Users/Administrator/workspace/xgboost-win64_release_1.5.1/src/learner.cc:1115: Starting in XGBoost 1.3.0, the default evaluation metric used with the objective 'binary:logistic' was changed from 'error' to 'logloss'. Explicitly set eval_metric if you'd like to restore the old behavior.\n",
      "[15:12:14] WARNING: C:/Users/Administrator/workspace/xgboost-win64_release_1.5.1/src/learner.cc:1115: Starting in XGBoost 1.3.0, the default evaluation metric used with the objective 'binary:logistic' was changed from 'error' to 'logloss'. Explicitly set eval_metric if you'd like to restore the old behavior.\n",
      "[15:12:17] WARNING: C:/Users/Administrator/workspace/xgboost-win64_release_1.5.1/src/learner.cc:1115: Starting in XGBoost 1.3.0, the default evaluation metric used with the objective 'binary:logistic' was changed from 'error' to 'logloss'. Explicitly set eval_metric if you'd like to restore the old behavior.\n"
     ]
    },
    {
     "name": "stdout",
     "output_type": "stream",
     "text": [
      "[15:12:19] WARNING: C:/Users/Administrator/workspace/xgboost-win64_release_1.5.1/src/learner.cc:1115: Starting in XGBoost 1.3.0, the default evaluation metric used with the objective 'binary:logistic' was changed from 'error' to 'logloss'. Explicitly set eval_metric if you'd like to restore the old behavior.\n",
      "[15:12:22] WARNING: C:/Users/Administrator/workspace/xgboost-win64_release_1.5.1/src/learner.cc:1115: Starting in XGBoost 1.3.0, the default evaluation metric used with the objective 'binary:logistic' was changed from 'error' to 'logloss'. Explicitly set eval_metric if you'd like to restore the old behavior.\n",
      "[15:12:25] WARNING: C:/Users/Administrator/workspace/xgboost-win64_release_1.5.1/src/learner.cc:1115: Starting in XGBoost 1.3.0, the default evaluation metric used with the objective 'binary:logistic' was changed from 'error' to 'logloss'. Explicitly set eval_metric if you'd like to restore the old behavior.\n",
      "[15:12:28] WARNING: C:/Users/Administrator/workspace/xgboost-win64_release_1.5.1/src/learner.cc:1115: Starting in XGBoost 1.3.0, the default evaluation metric used with the objective 'binary:logistic' was changed from 'error' to 'logloss'. Explicitly set eval_metric if you'd like to restore the old behavior.\n",
      "[15:12:31] WARNING: C:/Users/Administrator/workspace/xgboost-win64_release_1.5.1/src/learner.cc:1115: Starting in XGBoost 1.3.0, the default evaluation metric used with the objective 'binary:logistic' was changed from 'error' to 'logloss'. Explicitly set eval_metric if you'd like to restore the old behavior.\n",
      "[15:12:33] WARNING: C:/Users/Administrator/workspace/xgboost-win64_release_1.5.1/src/learner.cc:1115: Starting in XGBoost 1.3.0, the default evaluation metric used with the objective 'binary:logistic' was changed from 'error' to 'logloss'. Explicitly set eval_metric if you'd like to restore the old behavior.\n",
      "[15:12:36] WARNING: C:/Users/Administrator/workspace/xgboost-win64_release_1.5.1/src/learner.cc:1115: Starting in XGBoost 1.3.0, the default evaluation metric used with the objective 'binary:logistic' was changed from 'error' to 'logloss'. Explicitly set eval_metric if you'd like to restore the old behavior.\n",
      "[15:12:39] WARNING: C:/Users/Administrator/workspace/xgboost-win64_release_1.5.1/src/learner.cc:1115: Starting in XGBoost 1.3.0, the default evaluation metric used with the objective 'binary:logistic' was changed from 'error' to 'logloss'. Explicitly set eval_metric if you'd like to restore the old behavior.\n",
      "[15:12:41] WARNING: C:/Users/Administrator/workspace/xgboost-win64_release_1.5.1/src/learner.cc:1115: Starting in XGBoost 1.3.0, the default evaluation metric used with the objective 'binary:logistic' was changed from 'error' to 'logloss'. Explicitly set eval_metric if you'd like to restore the old behavior.\n",
      "[15:12:44] WARNING: C:/Users/Administrator/workspace/xgboost-win64_release_1.5.1/src/learner.cc:1115: Starting in XGBoost 1.3.0, the default evaluation metric used with the objective 'binary:logistic' was changed from 'error' to 'logloss'. Explicitly set eval_metric if you'd like to restore the old behavior.\n",
      "[15:12:46] WARNING: C:/Users/Administrator/workspace/xgboost-win64_release_1.5.1/src/learner.cc:1115: Starting in XGBoost 1.3.0, the default evaluation metric used with the objective 'binary:logistic' was changed from 'error' to 'logloss'. Explicitly set eval_metric if you'd like to restore the old behavior.\n",
      "[15:12:49] WARNING: C:/Users/Administrator/workspace/xgboost-win64_release_1.5.1/src/learner.cc:1115: Starting in XGBoost 1.3.0, the default evaluation metric used with the objective 'binary:logistic' was changed from 'error' to 'logloss'. Explicitly set eval_metric if you'd like to restore the old behavior.\n",
      "[15:12:52] WARNING: C:/Users/Administrator/workspace/xgboost-win64_release_1.5.1/src/learner.cc:1115: Starting in XGBoost 1.3.0, the default evaluation metric used with the objective 'binary:logistic' was changed from 'error' to 'logloss'. Explicitly set eval_metric if you'd like to restore the old behavior.\n",
      "[15:12:54] WARNING: C:/Users/Administrator/workspace/xgboost-win64_release_1.5.1/src/learner.cc:1115: Starting in XGBoost 1.3.0, the default evaluation metric used with the objective 'binary:logistic' was changed from 'error' to 'logloss'. Explicitly set eval_metric if you'd like to restore the old behavior.\n",
      "[15:12:57] WARNING: C:/Users/Administrator/workspace/xgboost-win64_release_1.5.1/src/learner.cc:1115: Starting in XGBoost 1.3.0, the default evaluation metric used with the objective 'binary:logistic' was changed from 'error' to 'logloss'. Explicitly set eval_metric if you'd like to restore the old behavior.\n",
      "[15:13:00] WARNING: C:/Users/Administrator/workspace/xgboost-win64_release_1.5.1/src/learner.cc:1115: Starting in XGBoost 1.3.0, the default evaluation metric used with the objective 'binary:logistic' was changed from 'error' to 'logloss'. Explicitly set eval_metric if you'd like to restore the old behavior.\n",
      "[15:13:02] WARNING: C:/Users/Administrator/workspace/xgboost-win64_release_1.5.1/src/learner.cc:1115: Starting in XGBoost 1.3.0, the default evaluation metric used with the objective 'binary:logistic' was changed from 'error' to 'logloss'. Explicitly set eval_metric if you'd like to restore the old behavior.\n",
      "[15:13:05] WARNING: C:/Users/Administrator/workspace/xgboost-win64_release_1.5.1/src/learner.cc:1115: Starting in XGBoost 1.3.0, the default evaluation metric used with the objective 'binary:logistic' was changed from 'error' to 'logloss'. Explicitly set eval_metric if you'd like to restore the old behavior.\n",
      "[15:13:07] WARNING: C:/Users/Administrator/workspace/xgboost-win64_release_1.5.1/src/learner.cc:1115: Starting in XGBoost 1.3.0, the default evaluation metric used with the objective 'binary:logistic' was changed from 'error' to 'logloss'. Explicitly set eval_metric if you'd like to restore the old behavior.\n",
      "[15:13:10] WARNING: C:/Users/Administrator/workspace/xgboost-win64_release_1.5.1/src/learner.cc:1115: Starting in XGBoost 1.3.0, the default evaluation metric used with the objective 'binary:logistic' was changed from 'error' to 'logloss'. Explicitly set eval_metric if you'd like to restore the old behavior.\n",
      "[15:13:13] WARNING: C:/Users/Administrator/workspace/xgboost-win64_release_1.5.1/src/learner.cc:1115: Starting in XGBoost 1.3.0, the default evaluation metric used with the objective 'binary:logistic' was changed from 'error' to 'logloss'. Explicitly set eval_metric if you'd like to restore the old behavior.\n",
      "[15:13:15] WARNING: C:/Users/Administrator/workspace/xgboost-win64_release_1.5.1/src/learner.cc:1115: Starting in XGBoost 1.3.0, the default evaluation metric used with the objective 'binary:logistic' was changed from 'error' to 'logloss'. Explicitly set eval_metric if you'd like to restore the old behavior.\n",
      "[15:13:18] WARNING: C:/Users/Administrator/workspace/xgboost-win64_release_1.5.1/src/learner.cc:1115: Starting in XGBoost 1.3.0, the default evaluation metric used with the objective 'binary:logistic' was changed from 'error' to 'logloss'. Explicitly set eval_metric if you'd like to restore the old behavior.\n",
      "[15:13:21] WARNING: C:/Users/Administrator/workspace/xgboost-win64_release_1.5.1/src/learner.cc:1115: Starting in XGBoost 1.3.0, the default evaluation metric used with the objective 'binary:logistic' was changed from 'error' to 'logloss'. Explicitly set eval_metric if you'd like to restore the old behavior.\n",
      "[15:13:23] WARNING: C:/Users/Administrator/workspace/xgboost-win64_release_1.5.1/src/learner.cc:1115: Starting in XGBoost 1.3.0, the default evaluation metric used with the objective 'binary:logistic' was changed from 'error' to 'logloss'. Explicitly set eval_metric if you'd like to restore the old behavior.\n",
      "[15:13:26] WARNING: C:/Users/Administrator/workspace/xgboost-win64_release_1.5.1/src/learner.cc:1115: Starting in XGBoost 1.3.0, the default evaluation metric used with the objective 'binary:logistic' was changed from 'error' to 'logloss'. Explicitly set eval_metric if you'd like to restore the old behavior.\n",
      "[15:13:28] WARNING: C:/Users/Administrator/workspace/xgboost-win64_release_1.5.1/src/learner.cc:1115: Starting in XGBoost 1.3.0, the default evaluation metric used with the objective 'binary:logistic' was changed from 'error' to 'logloss'. Explicitly set eval_metric if you'd like to restore the old behavior.\n"
     ]
    },
    {
     "name": "stdout",
     "output_type": "stream",
     "text": [
      "[15:13:31] WARNING: C:/Users/Administrator/workspace/xgboost-win64_release_1.5.1/src/learner.cc:1115: Starting in XGBoost 1.3.0, the default evaluation metric used with the objective 'binary:logistic' was changed from 'error' to 'logloss'. Explicitly set eval_metric if you'd like to restore the old behavior.\n",
      "[15:13:34] WARNING: C:/Users/Administrator/workspace/xgboost-win64_release_1.5.1/src/learner.cc:1115: Starting in XGBoost 1.3.0, the default evaluation metric used with the objective 'binary:logistic' was changed from 'error' to 'logloss'. Explicitly set eval_metric if you'd like to restore the old behavior.\n",
      "[15:13:36] WARNING: C:/Users/Administrator/workspace/xgboost-win64_release_1.5.1/src/learner.cc:1115: Starting in XGBoost 1.3.0, the default evaluation metric used with the objective 'binary:logistic' was changed from 'error' to 'logloss'. Explicitly set eval_metric if you'd like to restore the old behavior.\n",
      "[15:13:39] WARNING: C:/Users/Administrator/workspace/xgboost-win64_release_1.5.1/src/learner.cc:1115: Starting in XGBoost 1.3.0, the default evaluation metric used with the objective 'binary:logistic' was changed from 'error' to 'logloss'. Explicitly set eval_metric if you'd like to restore the old behavior.\n",
      "[15:13:42] WARNING: C:/Users/Administrator/workspace/xgboost-win64_release_1.5.1/src/learner.cc:1115: Starting in XGBoost 1.3.0, the default evaluation metric used with the objective 'binary:logistic' was changed from 'error' to 'logloss'. Explicitly set eval_metric if you'd like to restore the old behavior.\n",
      "[15:13:44] WARNING: C:/Users/Administrator/workspace/xgboost-win64_release_1.5.1/src/learner.cc:1115: Starting in XGBoost 1.3.0, the default evaluation metric used with the objective 'binary:logistic' was changed from 'error' to 'logloss'. Explicitly set eval_metric if you'd like to restore the old behavior.\n",
      "[15:13:47] WARNING: C:/Users/Administrator/workspace/xgboost-win64_release_1.5.1/src/learner.cc:1115: Starting in XGBoost 1.3.0, the default evaluation metric used with the objective 'binary:logistic' was changed from 'error' to 'logloss'. Explicitly set eval_metric if you'd like to restore the old behavior.\n",
      "[15:13:49] WARNING: C:/Users/Administrator/workspace/xgboost-win64_release_1.5.1/src/learner.cc:1115: Starting in XGBoost 1.3.0, the default evaluation metric used with the objective 'binary:logistic' was changed from 'error' to 'logloss'. Explicitly set eval_metric if you'd like to restore the old behavior.\n",
      "[15:13:52] WARNING: C:/Users/Administrator/workspace/xgboost-win64_release_1.5.1/src/learner.cc:1115: Starting in XGBoost 1.3.0, the default evaluation metric used with the objective 'binary:logistic' was changed from 'error' to 'logloss'. Explicitly set eval_metric if you'd like to restore the old behavior.\n",
      "[15:13:55] WARNING: C:/Users/Administrator/workspace/xgboost-win64_release_1.5.1/src/learner.cc:1115: Starting in XGBoost 1.3.0, the default evaluation metric used with the objective 'binary:logistic' was changed from 'error' to 'logloss'. Explicitly set eval_metric if you'd like to restore the old behavior.\n",
      "[15:13:57] WARNING: C:/Users/Administrator/workspace/xgboost-win64_release_1.5.1/src/learner.cc:1115: Starting in XGBoost 1.3.0, the default evaluation metric used with the objective 'binary:logistic' was changed from 'error' to 'logloss'. Explicitly set eval_metric if you'd like to restore the old behavior.\n",
      "[15:14:00] WARNING: C:/Users/Administrator/workspace/xgboost-win64_release_1.5.1/src/learner.cc:1115: Starting in XGBoost 1.3.0, the default evaluation metric used with the objective 'binary:logistic' was changed from 'error' to 'logloss'. Explicitly set eval_metric if you'd like to restore the old behavior.\n",
      "[15:14:03] WARNING: C:/Users/Administrator/workspace/xgboost-win64_release_1.5.1/src/learner.cc:1115: Starting in XGBoost 1.3.0, the default evaluation metric used with the objective 'binary:logistic' was changed from 'error' to 'logloss'. Explicitly set eval_metric if you'd like to restore the old behavior.\n",
      "[15:14:05] WARNING: C:/Users/Administrator/workspace/xgboost-win64_release_1.5.1/src/learner.cc:1115: Starting in XGBoost 1.3.0, the default evaluation metric used with the objective 'binary:logistic' was changed from 'error' to 'logloss'. Explicitly set eval_metric if you'd like to restore the old behavior.\n",
      "[15:14:08] WARNING: C:/Users/Administrator/workspace/xgboost-win64_release_1.5.1/src/learner.cc:1115: Starting in XGBoost 1.3.0, the default evaluation metric used with the objective 'binary:logistic' was changed from 'error' to 'logloss'. Explicitly set eval_metric if you'd like to restore the old behavior.\n",
      "[15:14:11] WARNING: C:/Users/Administrator/workspace/xgboost-win64_release_1.5.1/src/learner.cc:1115: Starting in XGBoost 1.3.0, the default evaluation metric used with the objective 'binary:logistic' was changed from 'error' to 'logloss'. Explicitly set eval_metric if you'd like to restore the old behavior.\n",
      "[15:14:13] WARNING: C:/Users/Administrator/workspace/xgboost-win64_release_1.5.1/src/learner.cc:1115: Starting in XGBoost 1.3.0, the default evaluation metric used with the objective 'binary:logistic' was changed from 'error' to 'logloss'. Explicitly set eval_metric if you'd like to restore the old behavior.\n",
      "[15:14:16] WARNING: C:/Users/Administrator/workspace/xgboost-win64_release_1.5.1/src/learner.cc:1115: Starting in XGBoost 1.3.0, the default evaluation metric used with the objective 'binary:logistic' was changed from 'error' to 'logloss'. Explicitly set eval_metric if you'd like to restore the old behavior.\n",
      "[15:14:18] WARNING: C:/Users/Administrator/workspace/xgboost-win64_release_1.5.1/src/learner.cc:1115: Starting in XGBoost 1.3.0, the default evaluation metric used with the objective 'binary:logistic' was changed from 'error' to 'logloss'. Explicitly set eval_metric if you'd like to restore the old behavior.\n",
      "[15:14:21] WARNING: C:/Users/Administrator/workspace/xgboost-win64_release_1.5.1/src/learner.cc:1115: Starting in XGBoost 1.3.0, the default evaluation metric used with the objective 'binary:logistic' was changed from 'error' to 'logloss'. Explicitly set eval_metric if you'd like to restore the old behavior.\n",
      "[15:14:24] WARNING: C:/Users/Administrator/workspace/xgboost-win64_release_1.5.1/src/learner.cc:1115: Starting in XGBoost 1.3.0, the default evaluation metric used with the objective 'binary:logistic' was changed from 'error' to 'logloss'. Explicitly set eval_metric if you'd like to restore the old behavior.\n",
      "[15:14:26] WARNING: C:/Users/Administrator/workspace/xgboost-win64_release_1.5.1/src/learner.cc:1115: Starting in XGBoost 1.3.0, the default evaluation metric used with the objective 'binary:logistic' was changed from 'error' to 'logloss'. Explicitly set eval_metric if you'd like to restore the old behavior.\n",
      "[15:14:29] WARNING: C:/Users/Administrator/workspace/xgboost-win64_release_1.5.1/src/learner.cc:1115: Starting in XGBoost 1.3.0, the default evaluation metric used with the objective 'binary:logistic' was changed from 'error' to 'logloss'. Explicitly set eval_metric if you'd like to restore the old behavior.\n",
      "[15:14:31] WARNING: C:/Users/Administrator/workspace/xgboost-win64_release_1.5.1/src/learner.cc:1115: Starting in XGBoost 1.3.0, the default evaluation metric used with the objective 'binary:logistic' was changed from 'error' to 'logloss'. Explicitly set eval_metric if you'd like to restore the old behavior.\n",
      "[15:14:34] WARNING: C:/Users/Administrator/workspace/xgboost-win64_release_1.5.1/src/learner.cc:1115: Starting in XGBoost 1.3.0, the default evaluation metric used with the objective 'binary:logistic' was changed from 'error' to 'logloss'. Explicitly set eval_metric if you'd like to restore the old behavior.\n",
      "[15:14:37] WARNING: C:/Users/Administrator/workspace/xgboost-win64_release_1.5.1/src/learner.cc:1115: Starting in XGBoost 1.3.0, the default evaluation metric used with the objective 'binary:logistic' was changed from 'error' to 'logloss'. Explicitly set eval_metric if you'd like to restore the old behavior.\n",
      "[15:14:39] WARNING: C:/Users/Administrator/workspace/xgboost-win64_release_1.5.1/src/learner.cc:1115: Starting in XGBoost 1.3.0, the default evaluation metric used with the objective 'binary:logistic' was changed from 'error' to 'logloss'. Explicitly set eval_metric if you'd like to restore the old behavior.\n"
     ]
    },
    {
     "name": "stdout",
     "output_type": "stream",
     "text": [
      "[15:14:42] WARNING: C:/Users/Administrator/workspace/xgboost-win64_release_1.5.1/src/learner.cc:1115: Starting in XGBoost 1.3.0, the default evaluation metric used with the objective 'binary:logistic' was changed from 'error' to 'logloss'. Explicitly set eval_metric if you'd like to restore the old behavior.\n",
      "[15:14:45] WARNING: C:/Users/Administrator/workspace/xgboost-win64_release_1.5.1/src/learner.cc:1115: Starting in XGBoost 1.3.0, the default evaluation metric used with the objective 'binary:logistic' was changed from 'error' to 'logloss'. Explicitly set eval_metric if you'd like to restore the old behavior.\n",
      "[15:14:47] WARNING: C:/Users/Administrator/workspace/xgboost-win64_release_1.5.1/src/learner.cc:1115: Starting in XGBoost 1.3.0, the default evaluation metric used with the objective 'binary:logistic' was changed from 'error' to 'logloss'. Explicitly set eval_metric if you'd like to restore the old behavior.\n",
      "[15:14:50] WARNING: C:/Users/Administrator/workspace/xgboost-win64_release_1.5.1/src/learner.cc:1115: Starting in XGBoost 1.3.0, the default evaluation metric used with the objective 'binary:logistic' was changed from 'error' to 'logloss'. Explicitly set eval_metric if you'd like to restore the old behavior.\n",
      "[15:14:52] WARNING: C:/Users/Administrator/workspace/xgboost-win64_release_1.5.1/src/learner.cc:1115: Starting in XGBoost 1.3.0, the default evaluation metric used with the objective 'binary:logistic' was changed from 'error' to 'logloss'. Explicitly set eval_metric if you'd like to restore the old behavior.\n",
      "[15:14:55] WARNING: C:/Users/Administrator/workspace/xgboost-win64_release_1.5.1/src/learner.cc:1115: Starting in XGBoost 1.3.0, the default evaluation metric used with the objective 'binary:logistic' was changed from 'error' to 'logloss'. Explicitly set eval_metric if you'd like to restore the old behavior.\n",
      "[15:14:58] WARNING: C:/Users/Administrator/workspace/xgboost-win64_release_1.5.1/src/learner.cc:1115: Starting in XGBoost 1.3.0, the default evaluation metric used with the objective 'binary:logistic' was changed from 'error' to 'logloss'. Explicitly set eval_metric if you'd like to restore the old behavior.\n",
      "\n",
      " Best parameter {'learning_rate': 0.01, 'max_depth': 2, 'subsample': 0.1}\n",
      "\n",
      " Confusion Matrix \n",
      " [[43128     0]\n",
      " [ 4744     0]]\n",
      "\n",
      " Accuracy after hyper parameter tunning 0.9009024064171123\n"
     ]
    }
   ],
   "source": [
    "clf = xb.XGBClassifier()\n",
    "\n",
    "param = {'learning_rate' : np.arange(0.01,0.8),\n",
    "         'max_depth' : range(2,30),\n",
    "         'subsample' : np.arange(0.1,1) \n",
    "         }\n",
    "\n",
    "grd = GridSearchCV(clf,param_grid=param)\n",
    "grd.fit(X_train,y_train)\n",
    "\n",
    "\n",
    "clf = grd.best_estimator_\n",
    "\n",
    "clf.fit(X_train,y_train)\n",
    "y_pred = clf.predict(X_test)\n",
    "\n",
    "ac_con = confusion_matrix(y_test,y_pred)\n",
    "\n",
    "print(\"\\n Best parameter\",grd.best_params_)\n",
    "print(\"\\n Confusion Matrix \\n\",ac_con)\n",
    "print(\"\\n Accuracy after hyper parameter tunning\",accuracy_score(y_test,y_pred))"
   ]
  },
  {
   "cell_type": "markdown",
   "id": "bd01fa9c",
   "metadata": {},
   "source": [
    "##### Outcome : After hyperparameter tuning i am not able to improve accuracy. So default parameter give me best result"
   ]
  },
  {
   "cell_type": "markdown",
   "id": "ed369ba9",
   "metadata": {},
   "source": [
    "### 14. Saving the model"
   ]
  },
  {
   "cell_type": "code",
   "execution_count": 77,
   "id": "f64524d1",
   "metadata": {},
   "outputs": [],
   "source": [
    "import pickle"
   ]
  },
  {
   "cell_type": "code",
   "execution_count": 78,
   "id": "8c3261dd",
   "metadata": {},
   "outputs": [],
   "source": [
    "final_result = 'Malignant Comment Classifier.pickle'\n",
    "pickle.dump(xc,open(final_result,'wb'))"
   ]
  },
  {
   "cell_type": "markdown",
   "id": "4023c111",
   "metadata": {},
   "source": [
    "### 15. Load the model and see prediction"
   ]
  },
  {
   "cell_type": "code",
   "execution_count": 79,
   "id": "aaa88c9c",
   "metadata": {},
   "outputs": [],
   "source": [
    "finalize_model = open('Malignant Comment Classifier.pickle','rb')\n",
    "model = pickle.load(finalize_model)"
   ]
  },
  {
   "cell_type": "code",
   "execution_count": 80,
   "id": "0c8e5b45",
   "metadata": {},
   "outputs": [
    {
     "data": {
      "text/plain": [
       "array([0, 0, 0, ..., 0, 0, 0])"
      ]
     },
     "execution_count": 80,
     "metadata": {},
     "output_type": "execute_result"
    }
   ],
   "source": [
    "prediction = model.predict(X_test)\n",
    "prediction"
   ]
  },
  {
   "cell_type": "code",
   "execution_count": 81,
   "id": "cc42aea2",
   "metadata": {},
   "outputs": [
    {
     "data": {
      "text/html": [
       "<div>\n",
       "<style scoped>\n",
       "    .dataframe tbody tr th:only-of-type {\n",
       "        vertical-align: middle;\n",
       "    }\n",
       "\n",
       "    .dataframe tbody tr th {\n",
       "        vertical-align: top;\n",
       "    }\n",
       "\n",
       "    .dataframe thead th {\n",
       "        text-align: right;\n",
       "    }\n",
       "</style>\n",
       "<table border=\"1\" class=\"dataframe\">\n",
       "  <thead>\n",
       "    <tr style=\"text-align: right;\">\n",
       "      <th></th>\n",
       "      <th>0</th>\n",
       "      <th>1</th>\n",
       "      <th>2</th>\n",
       "      <th>3</th>\n",
       "      <th>4</th>\n",
       "      <th>5</th>\n",
       "      <th>6</th>\n",
       "      <th>7</th>\n",
       "      <th>8</th>\n",
       "      <th>9</th>\n",
       "      <th>...</th>\n",
       "      <th>47862</th>\n",
       "      <th>47863</th>\n",
       "      <th>47864</th>\n",
       "      <th>47865</th>\n",
       "      <th>47866</th>\n",
       "      <th>47867</th>\n",
       "      <th>47868</th>\n",
       "      <th>47869</th>\n",
       "      <th>47870</th>\n",
       "      <th>47871</th>\n",
       "    </tr>\n",
       "  </thead>\n",
       "  <tbody>\n",
       "    <tr>\n",
       "      <th>Prediction</th>\n",
       "      <td>0</td>\n",
       "      <td>0</td>\n",
       "      <td>0</td>\n",
       "      <td>0</td>\n",
       "      <td>0</td>\n",
       "      <td>0</td>\n",
       "      <td>0</td>\n",
       "      <td>0</td>\n",
       "      <td>0</td>\n",
       "      <td>0</td>\n",
       "      <td>...</td>\n",
       "      <td>0</td>\n",
       "      <td>0</td>\n",
       "      <td>0</td>\n",
       "      <td>0</td>\n",
       "      <td>0</td>\n",
       "      <td>0</td>\n",
       "      <td>0</td>\n",
       "      <td>0</td>\n",
       "      <td>0</td>\n",
       "      <td>0</td>\n",
       "    </tr>\n",
       "    <tr>\n",
       "      <th>Actual</th>\n",
       "      <td>0</td>\n",
       "      <td>0</td>\n",
       "      <td>0</td>\n",
       "      <td>0</td>\n",
       "      <td>0</td>\n",
       "      <td>0</td>\n",
       "      <td>0</td>\n",
       "      <td>0</td>\n",
       "      <td>0</td>\n",
       "      <td>0</td>\n",
       "      <td>...</td>\n",
       "      <td>0</td>\n",
       "      <td>0</td>\n",
       "      <td>0</td>\n",
       "      <td>0</td>\n",
       "      <td>0</td>\n",
       "      <td>1</td>\n",
       "      <td>0</td>\n",
       "      <td>0</td>\n",
       "      <td>1</td>\n",
       "      <td>0</td>\n",
       "    </tr>\n",
       "  </tbody>\n",
       "</table>\n",
       "<p>2 rows × 47872 columns</p>\n",
       "</div>"
      ],
      "text/plain": [
       "            0      1      2      3      4      5      6      7      8      \\\n",
       "Prediction      0      0      0      0      0      0      0      0      0   \n",
       "Actual          0      0      0      0      0      0      0      0      0   \n",
       "\n",
       "            9      ...  47862  47863  47864  47865  47866  47867  47868  \\\n",
       "Prediction      0  ...      0      0      0      0      0      0      0   \n",
       "Actual          0  ...      0      0      0      0      0      1      0   \n",
       "\n",
       "            47869  47870  47871  \n",
       "Prediction      0      0      0  \n",
       "Actual          0      1      0  \n",
       "\n",
       "[2 rows x 47872 columns]"
      ]
     },
     "execution_count": 81,
     "metadata": {},
     "output_type": "execute_result"
    }
   ],
   "source": [
    "pd.DataFrame([model.predict(X_test)[:],y_test[:]],index=['Prediction','Actual'])"
   ]
  },
  {
   "cell_type": "code",
   "execution_count": 82,
   "id": "db7d2754",
   "metadata": {},
   "outputs": [
    {
     "data": {
      "text/plain": [
       "array([0, 0, 0, ..., 0, 0, 0])"
      ]
     },
     "execution_count": 82,
     "metadata": {},
     "output_type": "execute_result"
    }
   ],
   "source": [
    "predicted_test = model.predict(a)\n",
    "predicted_test"
   ]
  },
  {
   "cell_type": "code",
   "execution_count": 83,
   "id": "625642ad",
   "metadata": {},
   "outputs": [
    {
     "data": {
      "text/html": [
       "<div>\n",
       "<style scoped>\n",
       "    .dataframe tbody tr th:only-of-type {\n",
       "        vertical-align: middle;\n",
       "    }\n",
       "\n",
       "    .dataframe tbody tr th {\n",
       "        vertical-align: top;\n",
       "    }\n",
       "\n",
       "    .dataframe thead th {\n",
       "        text-align: right;\n",
       "    }\n",
       "</style>\n",
       "<table border=\"1\" class=\"dataframe\">\n",
       "  <thead>\n",
       "    <tr style=\"text-align: right;\">\n",
       "      <th></th>\n",
       "      <th>comment_text</th>\n",
       "      <th>comment_length</th>\n",
       "      <th>clean length</th>\n",
       "      <th>Prediction</th>\n",
       "    </tr>\n",
       "  </thead>\n",
       "  <tbody>\n",
       "    <tr>\n",
       "      <th>0</th>\n",
       "      <td>yobitchjaruleismoresuccesfulthenyoulleverbewha...</td>\n",
       "      <td>367</td>\n",
       "      <td>284</td>\n",
       "      <td>0</td>\n",
       "    </tr>\n",
       "    <tr>\n",
       "      <th>1</th>\n",
       "      <td>fromrfcthetitleisfineasitisimo</td>\n",
       "      <td>50</td>\n",
       "      <td>30</td>\n",
       "      <td>0</td>\n",
       "    </tr>\n",
       "    <tr>\n",
       "      <th>2</th>\n",
       "      <td>sourceszaweashtononlapland</td>\n",
       "      <td>54</td>\n",
       "      <td>26</td>\n",
       "      <td>0</td>\n",
       "    </tr>\n",
       "    <tr>\n",
       "      <th>3</th>\n",
       "      <td>ifyouhavealookbackatthesourcetheinformationiup...</td>\n",
       "      <td>205</td>\n",
       "      <td>162</td>\n",
       "      <td>0</td>\n",
       "    </tr>\n",
       "    <tr>\n",
       "      <th>4</th>\n",
       "      <td>idontanonymouslyeditarticlesatall</td>\n",
       "      <td>41</td>\n",
       "      <td>33</td>\n",
       "      <td>0</td>\n",
       "    </tr>\n",
       "    <tr>\n",
       "      <th>...</th>\n",
       "      <td>...</td>\n",
       "      <td>...</td>\n",
       "      <td>...</td>\n",
       "      <td>...</td>\n",
       "    </tr>\n",
       "    <tr>\n",
       "      <th>153159</th>\n",
       "      <td>itotallyagreethisstuffisnothingbuttoolongcrap</td>\n",
       "      <td>60</td>\n",
       "      <td>45</td>\n",
       "      <td>0</td>\n",
       "    </tr>\n",
       "    <tr>\n",
       "      <th>153160</th>\n",
       "      <td>throwfromoutfieldtohomeplatedoesitgettherefast...</td>\n",
       "      <td>198</td>\n",
       "      <td>147</td>\n",
       "      <td>0</td>\n",
       "    </tr>\n",
       "    <tr>\n",
       "      <th>153161</th>\n",
       "      <td>okinotorishimacategoriesiseeyourchangesandagre...</td>\n",
       "      <td>423</td>\n",
       "      <td>306</td>\n",
       "      <td>0</td>\n",
       "    </tr>\n",
       "    <tr>\n",
       "      <th>153162</th>\n",
       "      <td>oneofthefoundingnationsoftheeugermanyhasalawof...</td>\n",
       "      <td>502</td>\n",
       "      <td>375</td>\n",
       "      <td>0</td>\n",
       "    </tr>\n",
       "    <tr>\n",
       "      <th>153163</th>\n",
       "      <td>stopalreadyyourbullshitisnotwelcomehereimnofoo...</td>\n",
       "      <td>141</td>\n",
       "      <td>100</td>\n",
       "      <td>0</td>\n",
       "    </tr>\n",
       "  </tbody>\n",
       "</table>\n",
       "<p>153164 rows × 4 columns</p>\n",
       "</div>"
      ],
      "text/plain": [
       "                                             comment_text  comment_length  \\\n",
       "0       yobitchjaruleismoresuccesfulthenyoulleverbewha...             367   \n",
       "1                          fromrfcthetitleisfineasitisimo              50   \n",
       "2                              sourceszaweashtononlapland              54   \n",
       "3       ifyouhavealookbackatthesourcetheinformationiup...             205   \n",
       "4                       idontanonymouslyeditarticlesatall              41   \n",
       "...                                                   ...             ...   \n",
       "153159      itotallyagreethisstuffisnothingbuttoolongcrap              60   \n",
       "153160  throwfromoutfieldtohomeplatedoesitgettherefast...             198   \n",
       "153161  okinotorishimacategoriesiseeyourchangesandagre...             423   \n",
       "153162  oneofthefoundingnationsoftheeugermanyhasalawof...             502   \n",
       "153163  stopalreadyyourbullshitisnotwelcomehereimnofoo...             141   \n",
       "\n",
       "        clean length  Prediction  \n",
       "0                284           0  \n",
       "1                 30           0  \n",
       "2                 26           0  \n",
       "3                162           0  \n",
       "4                 33           0  \n",
       "...              ...         ...  \n",
       "153159            45           0  \n",
       "153160           147           0  \n",
       "153161           306           0  \n",
       "153162           375           0  \n",
       "153163           100           0  \n",
       "\n",
       "[153164 rows x 4 columns]"
      ]
     },
     "execution_count": 83,
     "metadata": {},
     "output_type": "execute_result"
    }
   ],
   "source": [
    "df_test['Prediction'] = predicted_test\n",
    "df_test"
   ]
  },
  {
   "cell_type": "code",
   "execution_count": 85,
   "id": "4dbd1634",
   "metadata": {},
   "outputs": [],
   "source": [
    "df_test.to_csv('Malignant Classifier.csv')"
   ]
  }
 ],
 "metadata": {
  "kernelspec": {
   "display_name": "Python 3",
   "language": "python",
   "name": "python3"
  },
  "language_info": {
   "codemirror_mode": {
    "name": "ipython",
    "version": 3
   },
   "file_extension": ".py",
   "mimetype": "text/x-python",
   "name": "python",
   "nbconvert_exporter": "python",
   "pygments_lexer": "ipython3",
   "version": "3.8.8"
  }
 },
 "nbformat": 4,
 "nbformat_minor": 5
}
