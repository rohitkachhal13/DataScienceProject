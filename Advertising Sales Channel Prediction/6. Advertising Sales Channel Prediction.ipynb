{
 "cells": [
  {
   "cell_type": "markdown",
   "id": "33608910",
   "metadata": {},
   "source": [
    "### 1. Import important libaries"
   ]
  },
  {
   "cell_type": "code",
   "execution_count": 1,
   "id": "88c2787a",
   "metadata": {},
   "outputs": [],
   "source": [
    "import numpy as np\n",
    "import pandas as pd\n",
    "import matplotlib.pyplot as plt\n",
    "import seaborn as sns\n",
    "\n",
    "import warnings\n",
    "warnings.filterwarnings('ignore')"
   ]
  },
  {
   "cell_type": "markdown",
   "id": "9cedc628",
   "metadata": {},
   "source": [
    "### 2. Import Data set"
   ]
  },
  {
   "cell_type": "code",
   "execution_count": 2,
   "id": "c56b8d85",
   "metadata": {},
   "outputs": [],
   "source": [
    "df = pd.read_csv(r'https://raw.githubusercontent.com/dsrscientist/DSData/master/Advertising.csv',sep=',')"
   ]
  },
  {
   "cell_type": "markdown",
   "id": "88c67201",
   "metadata": {},
   "source": [
    "### 3. Data Frame"
   ]
  },
  {
   "cell_type": "markdown",
   "id": "9ee5705d",
   "metadata": {},
   "source": [
    "#### a). Displaying top 5 row's of data frame"
   ]
  },
  {
   "cell_type": "code",
   "execution_count": 3,
   "id": "ae9f65db",
   "metadata": {},
   "outputs": [
    {
     "data": {
      "text/html": [
       "<div>\n",
       "<style scoped>\n",
       "    .dataframe tbody tr th:only-of-type {\n",
       "        vertical-align: middle;\n",
       "    }\n",
       "\n",
       "    .dataframe tbody tr th {\n",
       "        vertical-align: top;\n",
       "    }\n",
       "\n",
       "    .dataframe thead th {\n",
       "        text-align: right;\n",
       "    }\n",
       "</style>\n",
       "<table border=\"1\" class=\"dataframe\">\n",
       "  <thead>\n",
       "    <tr style=\"text-align: right;\">\n",
       "      <th></th>\n",
       "      <th>Unnamed: 0</th>\n",
       "      <th>TV</th>\n",
       "      <th>radio</th>\n",
       "      <th>newspaper</th>\n",
       "      <th>sales</th>\n",
       "    </tr>\n",
       "  </thead>\n",
       "  <tbody>\n",
       "    <tr>\n",
       "      <th>0</th>\n",
       "      <td>1</td>\n",
       "      <td>230.1</td>\n",
       "      <td>37.8</td>\n",
       "      <td>69.2</td>\n",
       "      <td>22.1</td>\n",
       "    </tr>\n",
       "    <tr>\n",
       "      <th>1</th>\n",
       "      <td>2</td>\n",
       "      <td>44.5</td>\n",
       "      <td>39.3</td>\n",
       "      <td>45.1</td>\n",
       "      <td>10.4</td>\n",
       "    </tr>\n",
       "    <tr>\n",
       "      <th>2</th>\n",
       "      <td>3</td>\n",
       "      <td>17.2</td>\n",
       "      <td>45.9</td>\n",
       "      <td>69.3</td>\n",
       "      <td>9.3</td>\n",
       "    </tr>\n",
       "    <tr>\n",
       "      <th>3</th>\n",
       "      <td>4</td>\n",
       "      <td>151.5</td>\n",
       "      <td>41.3</td>\n",
       "      <td>58.5</td>\n",
       "      <td>18.5</td>\n",
       "    </tr>\n",
       "    <tr>\n",
       "      <th>4</th>\n",
       "      <td>5</td>\n",
       "      <td>180.8</td>\n",
       "      <td>10.8</td>\n",
       "      <td>58.4</td>\n",
       "      <td>12.9</td>\n",
       "    </tr>\n",
       "  </tbody>\n",
       "</table>\n",
       "</div>"
      ],
      "text/plain": [
       "   Unnamed: 0     TV  radio  newspaper  sales\n",
       "0           1  230.1   37.8       69.2   22.1\n",
       "1           2   44.5   39.3       45.1   10.4\n",
       "2           3   17.2   45.9       69.3    9.3\n",
       "3           4  151.5   41.3       58.5   18.5\n",
       "4           5  180.8   10.8       58.4   12.9"
      ]
     },
     "execution_count": 3,
     "metadata": {},
     "output_type": "execute_result"
    }
   ],
   "source": [
    "df.head()"
   ]
  },
  {
   "cell_type": "markdown",
   "id": "2ce4d1b2",
   "metadata": {},
   "source": [
    "#### b). Data frame shape"
   ]
  },
  {
   "cell_type": "code",
   "execution_count": 4,
   "id": "514e58d9",
   "metadata": {},
   "outputs": [
    {
     "data": {
      "text/plain": [
       "(200, 5)"
      ]
     },
     "execution_count": 4,
     "metadata": {},
     "output_type": "execute_result"
    }
   ],
   "source": [
    "df.shape"
   ]
  },
  {
   "cell_type": "markdown",
   "id": "90c1809e",
   "metadata": {},
   "source": [
    "#### c). Data frame info "
   ]
  },
  {
   "cell_type": "code",
   "execution_count": 5,
   "id": "96ff8569",
   "metadata": {},
   "outputs": [
    {
     "name": "stdout",
     "output_type": "stream",
     "text": [
      "<class 'pandas.core.frame.DataFrame'>\n",
      "RangeIndex: 200 entries, 0 to 199\n",
      "Data columns (total 5 columns):\n",
      " #   Column      Non-Null Count  Dtype  \n",
      "---  ------      --------------  -----  \n",
      " 0   Unnamed: 0  200 non-null    int64  \n",
      " 1   TV          200 non-null    float64\n",
      " 2   radio       200 non-null    float64\n",
      " 3   newspaper   200 non-null    float64\n",
      " 4   sales       200 non-null    float64\n",
      "dtypes: float64(4), int64(1)\n",
      "memory usage: 7.9 KB\n"
     ]
    }
   ],
   "source": [
    "df.info()"
   ]
  },
  {
   "cell_type": "markdown",
   "id": "26c7bab9",
   "metadata": {},
   "source": [
    "##### Outcome :\n",
    "* There are total 5 columns in the data frame.\n",
    "* 'Unnamed' is an int type of column. As i observed it is an unique no. So it is not for my used to create model, i can drop it.\n",
    "* 'TV','radio','newspaper' & 'sales' all are float data type.\n",
    "* There is no null value in the data frame.\n",
    "* As per problem statement 'sales' is our target variable."
   ]
  },
  {
   "cell_type": "markdown",
   "id": "93030afa",
   "metadata": {},
   "source": [
    "#### d).Cross checking the null value"
   ]
  },
  {
   "cell_type": "code",
   "execution_count": 6,
   "id": "b26bd0d8",
   "metadata": {},
   "outputs": [
    {
     "data": {
      "text/plain": [
       "Unnamed: 0    0\n",
       "TV            0\n",
       "radio         0\n",
       "newspaper     0\n",
       "sales         0\n",
       "dtype: int64"
      ]
     },
     "execution_count": 6,
     "metadata": {},
     "output_type": "execute_result"
    }
   ],
   "source": [
    "df.isnull().sum()"
   ]
  },
  {
   "cell_type": "markdown",
   "id": "deaa9944",
   "metadata": {},
   "source": [
    "##### Outcome : There is no null value in the data frame."
   ]
  },
  {
   "cell_type": "markdown",
   "id": "54a85ae0",
   "metadata": {},
   "source": [
    "#### e). Checking unique value for each"
   ]
  },
  {
   "cell_type": "code",
   "execution_count": 7,
   "id": "fe63196a",
   "metadata": {},
   "outputs": [
    {
     "data": {
      "text/plain": [
       "True"
      ]
     },
     "execution_count": 7,
     "metadata": {},
     "output_type": "execute_result"
    }
   ],
   "source": [
    "df['Unnamed: 0'].is_unique"
   ]
  },
  {
   "cell_type": "code",
   "execution_count": 8,
   "id": "13b9c439",
   "metadata": {},
   "outputs": [
    {
     "data": {
      "text/plain": [
       "False"
      ]
     },
     "execution_count": 8,
     "metadata": {},
     "output_type": "execute_result"
    }
   ],
   "source": [
    "df['TV'].is_unique"
   ]
  },
  {
   "cell_type": "code",
   "execution_count": 9,
   "id": "f9bcc36b",
   "metadata": {},
   "outputs": [
    {
     "data": {
      "text/plain": [
       "False"
      ]
     },
     "execution_count": 9,
     "metadata": {},
     "output_type": "execute_result"
    }
   ],
   "source": [
    "df['radio'].is_unique"
   ]
  },
  {
   "cell_type": "code",
   "execution_count": 10,
   "id": "9a87971e",
   "metadata": {},
   "outputs": [
    {
     "data": {
      "text/plain": [
       "False"
      ]
     },
     "execution_count": 10,
     "metadata": {},
     "output_type": "execute_result"
    }
   ],
   "source": [
    "df['newspaper'].is_unique"
   ]
  },
  {
   "cell_type": "code",
   "execution_count": 11,
   "id": "1d3394dd",
   "metadata": {},
   "outputs": [
    {
     "data": {
      "text/plain": [
       "False"
      ]
     },
     "execution_count": 11,
     "metadata": {},
     "output_type": "execute_result"
    }
   ],
   "source": [
    "df['sales'].is_unique"
   ]
  },
  {
   "cell_type": "markdown",
   "id": "eb220c5d",
   "metadata": {},
   "source": [
    "##### Outcome : As observed except 'Unnamed: 0' rest all are not contain unique value. So 'Unnamed: 0' is not use for my model. So i can drop it. "
   ]
  },
  {
   "cell_type": "markdown",
   "id": "20e036b8",
   "metadata": {},
   "source": [
    "#### f). Dropping 'Unnamed: 0' column from data frame"
   ]
  },
  {
   "cell_type": "code",
   "execution_count": 12,
   "id": "df9b857e",
   "metadata": {},
   "outputs": [],
   "source": [
    "df = df.drop(columns='Unnamed: 0')"
   ]
  },
  {
   "cell_type": "code",
   "execution_count": 13,
   "id": "23e98ae8",
   "metadata": {},
   "outputs": [
    {
     "data": {
      "text/html": [
       "<div>\n",
       "<style scoped>\n",
       "    .dataframe tbody tr th:only-of-type {\n",
       "        vertical-align: middle;\n",
       "    }\n",
       "\n",
       "    .dataframe tbody tr th {\n",
       "        vertical-align: top;\n",
       "    }\n",
       "\n",
       "    .dataframe thead th {\n",
       "        text-align: right;\n",
       "    }\n",
       "</style>\n",
       "<table border=\"1\" class=\"dataframe\">\n",
       "  <thead>\n",
       "    <tr style=\"text-align: right;\">\n",
       "      <th></th>\n",
       "      <th>TV</th>\n",
       "      <th>radio</th>\n",
       "      <th>newspaper</th>\n",
       "      <th>sales</th>\n",
       "    </tr>\n",
       "  </thead>\n",
       "  <tbody>\n",
       "    <tr>\n",
       "      <th>0</th>\n",
       "      <td>230.1</td>\n",
       "      <td>37.8</td>\n",
       "      <td>69.2</td>\n",
       "      <td>22.1</td>\n",
       "    </tr>\n",
       "    <tr>\n",
       "      <th>1</th>\n",
       "      <td>44.5</td>\n",
       "      <td>39.3</td>\n",
       "      <td>45.1</td>\n",
       "      <td>10.4</td>\n",
       "    </tr>\n",
       "    <tr>\n",
       "      <th>2</th>\n",
       "      <td>17.2</td>\n",
       "      <td>45.9</td>\n",
       "      <td>69.3</td>\n",
       "      <td>9.3</td>\n",
       "    </tr>\n",
       "    <tr>\n",
       "      <th>3</th>\n",
       "      <td>151.5</td>\n",
       "      <td>41.3</td>\n",
       "      <td>58.5</td>\n",
       "      <td>18.5</td>\n",
       "    </tr>\n",
       "    <tr>\n",
       "      <th>4</th>\n",
       "      <td>180.8</td>\n",
       "      <td>10.8</td>\n",
       "      <td>58.4</td>\n",
       "      <td>12.9</td>\n",
       "    </tr>\n",
       "    <tr>\n",
       "      <th>...</th>\n",
       "      <td>...</td>\n",
       "      <td>...</td>\n",
       "      <td>...</td>\n",
       "      <td>...</td>\n",
       "    </tr>\n",
       "    <tr>\n",
       "      <th>195</th>\n",
       "      <td>38.2</td>\n",
       "      <td>3.7</td>\n",
       "      <td>13.8</td>\n",
       "      <td>7.6</td>\n",
       "    </tr>\n",
       "    <tr>\n",
       "      <th>196</th>\n",
       "      <td>94.2</td>\n",
       "      <td>4.9</td>\n",
       "      <td>8.1</td>\n",
       "      <td>9.7</td>\n",
       "    </tr>\n",
       "    <tr>\n",
       "      <th>197</th>\n",
       "      <td>177.0</td>\n",
       "      <td>9.3</td>\n",
       "      <td>6.4</td>\n",
       "      <td>12.8</td>\n",
       "    </tr>\n",
       "    <tr>\n",
       "      <th>198</th>\n",
       "      <td>283.6</td>\n",
       "      <td>42.0</td>\n",
       "      <td>66.2</td>\n",
       "      <td>25.5</td>\n",
       "    </tr>\n",
       "    <tr>\n",
       "      <th>199</th>\n",
       "      <td>232.1</td>\n",
       "      <td>8.6</td>\n",
       "      <td>8.7</td>\n",
       "      <td>13.4</td>\n",
       "    </tr>\n",
       "  </tbody>\n",
       "</table>\n",
       "<p>200 rows × 4 columns</p>\n",
       "</div>"
      ],
      "text/plain": [
       "        TV  radio  newspaper  sales\n",
       "0    230.1   37.8       69.2   22.1\n",
       "1     44.5   39.3       45.1   10.4\n",
       "2     17.2   45.9       69.3    9.3\n",
       "3    151.5   41.3       58.5   18.5\n",
       "4    180.8   10.8       58.4   12.9\n",
       "..     ...    ...        ...    ...\n",
       "195   38.2    3.7       13.8    7.6\n",
       "196   94.2    4.9        8.1    9.7\n",
       "197  177.0    9.3        6.4   12.8\n",
       "198  283.6   42.0       66.2   25.5\n",
       "199  232.1    8.6        8.7   13.4\n",
       "\n",
       "[200 rows x 4 columns]"
      ]
     },
     "execution_count": 13,
     "metadata": {},
     "output_type": "execute_result"
    }
   ],
   "source": [
    "df"
   ]
  },
  {
   "cell_type": "markdown",
   "id": "abba23b9",
   "metadata": {},
   "source": [
    "##### Outcome : As we have to predict the 'sales' so problem is look like regression problem."
   ]
  },
  {
   "cell_type": "markdown",
   "id": "677470a9",
   "metadata": {},
   "source": [
    "### 4. Correlation matrix to see the coffecient of multicolinearity"
   ]
  },
  {
   "cell_type": "markdown",
   "id": "57417c52",
   "metadata": {},
   "source": [
    "#### a). Correlation matrix in form of Data Frame"
   ]
  },
  {
   "cell_type": "code",
   "execution_count": 14,
   "id": "455e6b49",
   "metadata": {},
   "outputs": [
    {
     "data": {
      "text/html": [
       "<div>\n",
       "<style scoped>\n",
       "    .dataframe tbody tr th:only-of-type {\n",
       "        vertical-align: middle;\n",
       "    }\n",
       "\n",
       "    .dataframe tbody tr th {\n",
       "        vertical-align: top;\n",
       "    }\n",
       "\n",
       "    .dataframe thead th {\n",
       "        text-align: right;\n",
       "    }\n",
       "</style>\n",
       "<table border=\"1\" class=\"dataframe\">\n",
       "  <thead>\n",
       "    <tr style=\"text-align: right;\">\n",
       "      <th></th>\n",
       "      <th>TV</th>\n",
       "      <th>radio</th>\n",
       "      <th>newspaper</th>\n",
       "      <th>sales</th>\n",
       "    </tr>\n",
       "  </thead>\n",
       "  <tbody>\n",
       "    <tr>\n",
       "      <th>TV</th>\n",
       "      <td>1.000000</td>\n",
       "      <td>0.054809</td>\n",
       "      <td>0.056648</td>\n",
       "      <td>0.782224</td>\n",
       "    </tr>\n",
       "    <tr>\n",
       "      <th>radio</th>\n",
       "      <td>0.054809</td>\n",
       "      <td>1.000000</td>\n",
       "      <td>0.354104</td>\n",
       "      <td>0.576223</td>\n",
       "    </tr>\n",
       "    <tr>\n",
       "      <th>newspaper</th>\n",
       "      <td>0.056648</td>\n",
       "      <td>0.354104</td>\n",
       "      <td>1.000000</td>\n",
       "      <td>0.228299</td>\n",
       "    </tr>\n",
       "    <tr>\n",
       "      <th>sales</th>\n",
       "      <td>0.782224</td>\n",
       "      <td>0.576223</td>\n",
       "      <td>0.228299</td>\n",
       "      <td>1.000000</td>\n",
       "    </tr>\n",
       "  </tbody>\n",
       "</table>\n",
       "</div>"
      ],
      "text/plain": [
       "                 TV     radio  newspaper     sales\n",
       "TV         1.000000  0.054809   0.056648  0.782224\n",
       "radio      0.054809  1.000000   0.354104  0.576223\n",
       "newspaper  0.056648  0.354104   1.000000  0.228299\n",
       "sales      0.782224  0.576223   0.228299  1.000000"
      ]
     },
     "execution_count": 14,
     "metadata": {},
     "output_type": "execute_result"
    }
   ],
   "source": [
    "df_corr = df.corr().abs()\n",
    "df_corr"
   ]
  },
  {
   "cell_type": "markdown",
   "id": "e418f826",
   "metadata": {},
   "source": [
    "#### b). Visualize Correlation matrix using heatmap"
   ]
  },
  {
   "cell_type": "code",
   "execution_count": 15,
   "id": "b28d48ac",
   "metadata": {},
   "outputs": [
    {
     "data": {
      "image/png": "[encoded data removed]",
      "text/plain": [
       "<Figure size 360x360 with 2 Axes>"
      ]
     },
     "metadata": {
      "needs_background": "light"
     },
     "output_type": "display_data"
    }
   ],
   "source": [
    "plt.figure(figsize=(5,5))\n",
    "sns.heatmap(df_corr,annot=True,annot_kws={'size':12})\n",
    "plt.show()"
   ]
  },
  {
   "cell_type": "markdown",
   "id": "20fa8f9c",
   "metadata": {},
   "source": [
    "##### Outcome :\n",
    "* All features have positive correlation with respect to target variable\n",
    "* 'TV' has 78 percentage correlation with target variable which can be considered as strong bond.\n",
    "* 'radio' has 58 percentage correlation with target variable which can be considered as strong bond.\n",
    "* 'newspaper' has 23 percentage correlation with target variable which can be considered as less bond."
   ]
  },
  {
   "cell_type": "markdown",
   "id": "11a27bf1",
   "metadata": {},
   "source": [
    "### 5. Visualize the data distribution"
   ]
  },
  {
   "cell_type": "code",
   "execution_count": 16,
   "id": "1d595c7a",
   "metadata": {},
   "outputs": [
    {
     "data": {
      "image/png": "[encoded data removed]",
      "text/plain": [
       "<Figure size 720x720 with 4 Axes>"
      ]
     },
     "metadata": {
      "needs_background": "light"
     },
     "output_type": "display_data"
    }
   ],
   "source": [
    "plt.figure(figsize=(10,10))\n",
    "plot_number = 1\n",
    "for column in df:\n",
    "    if plot_number<=4:\n",
    "        ax = plt.subplot(2,2,plot_number)\n",
    "        sns.distplot(df[column])\n",
    "        plt.xlabel(column,fontsize = 20)\n",
    "    plot_number+=1\n",
    "plt.show()    "
   ]
  },
  {
   "cell_type": "markdown",
   "id": "611d6afa",
   "metadata": {},
   "source": [
    "### 6. Separating the features and lable"
   ]
  },
  {
   "cell_type": "code",
   "execution_count": 17,
   "id": "54f0dc43",
   "metadata": {},
   "outputs": [],
   "source": [
    "X = df.drop(columns='sales')\n",
    "y = df['sales']"
   ]
  },
  {
   "cell_type": "code",
   "execution_count": 18,
   "id": "6b40df0d",
   "metadata": {},
   "outputs": [
    {
     "data": {
      "text/plain": [
       "(200, 3)"
      ]
     },
     "execution_count": 18,
     "metadata": {},
     "output_type": "execute_result"
    }
   ],
   "source": [
    "X.shape"
   ]
  },
  {
   "cell_type": "code",
   "execution_count": 19,
   "id": "7b04694c",
   "metadata": {},
   "outputs": [
    {
     "data": {
      "text/plain": [
       "(200,)"
      ]
     },
     "execution_count": 19,
     "metadata": {},
     "output_type": "execute_result"
    }
   ],
   "source": [
    "y.shape"
   ]
  },
  {
   "cell_type": "markdown",
   "id": "abc647a6",
   "metadata": {},
   "source": [
    "### 7. Visualize Data distribution with respect to target variable"
   ]
  },
  {
   "cell_type": "code",
   "execution_count": 20,
   "id": "58f89a81",
   "metadata": {},
   "outputs": [
    {
     "data": {
      "image/png": "[encoded data removed]",
      "text/plain": [
       "<Figure size 1440x720 with 3 Axes>"
      ]
     },
     "metadata": {
      "needs_background": "light"
     },
     "output_type": "display_data"
    }
   ],
   "source": [
    "plt.figure(figsize=(20,10))\n",
    "lot = 1\n",
    "for col in X:\n",
    "    if lot<=3:\n",
    "        ax = plt.subplot(1,3,lot)\n",
    "        sns.scatterplot(x=X[col],y=y)\n",
    "        plt.xlabel(col,fontsize = 20)\n",
    "        plt.ylabel('sales',fontsize = 20)\n",
    "    lot+=1\n",
    "plt.show()   "
   ]
  },
  {
   "cell_type": "markdown",
   "id": "37a841f7",
   "metadata": {},
   "source": [
    "##### Outcome :\n",
    "* From above fig as i observed if company invest on 'TV' and 'radio' advertisment the sale will increase but if comapny invest on 'newspaper' advertisment then it will not have much impact. \n",
    "\n",
    "##### Decision :\n",
    "* I am going to observe both condition with & without 'newspaper'"
   ]
  },
  {
   "cell_type": "markdown",
   "id": "7d96655a",
   "metadata": {},
   "source": [
    "### 8. a) Part - 1 When i am included 'newspaper'"
   ]
  },
  {
   "cell_type": "code",
   "execution_count": 21,
   "id": "0d1c435e",
   "metadata": {},
   "outputs": [],
   "source": [
    "from sklearn.linear_model import LinearRegression\n",
    "from sklearn.metrics import accuracy_score"
   ]
  },
  {
   "cell_type": "markdown",
   "id": "69c1c4a9",
   "metadata": {},
   "source": [
    "#### (i). Initiate our model"
   ]
  },
  {
   "cell_type": "code",
   "execution_count": 22,
   "id": "d0e7afc8",
   "metadata": {},
   "outputs": [],
   "source": [
    "lr = LinearRegression()"
   ]
  },
  {
   "cell_type": "markdown",
   "id": "2ecb24a9",
   "metadata": {},
   "source": [
    "#### (ii) Spilt data set using train test split"
   ]
  },
  {
   "cell_type": "code",
   "execution_count": 23,
   "id": "918d1286",
   "metadata": {},
   "outputs": [],
   "source": [
    "from sklearn.model_selection import train_test_split"
   ]
  },
  {
   "cell_type": "code",
   "execution_count": 24,
   "id": "66e6b2b8",
   "metadata": {},
   "outputs": [],
   "source": [
    "X_train, X_test, y_train, y_test = train_test_split(X, y, test_size=0.20, random_state=355)"
   ]
  },
  {
   "cell_type": "code",
   "execution_count": 25,
   "id": "b6ee3732",
   "metadata": {},
   "outputs": [
    {
     "name": "stdout",
     "output_type": "stream",
     "text": [
      "The shape of X-train dataset is : (160, 3)\n",
      "The shape of X-test dataset is : (40, 3)\n",
      "The shape of y-train dataset is : (160,)\n",
      "The shape of y-test dataset is : (40,)\n"
     ]
    }
   ],
   "source": [
    "print('The shape of X-train dataset is :',X_train.shape)\n",
    "print('The shape of X-test dataset is :',X_test.shape)\n",
    "print('The shape of y-train dataset is :',y_train.shape)\n",
    "print('The shape of y-test dataset is :',y_test.shape)"
   ]
  },
  {
   "cell_type": "markdown",
   "id": "de80e7a3",
   "metadata": {},
   "source": [
    "#### (iii) Fit the model"
   ]
  },
  {
   "cell_type": "code",
   "execution_count": 26,
   "id": "1b8191c3",
   "metadata": {},
   "outputs": [
    {
     "data": {
      "text/plain": [
       "LinearRegression()"
      ]
     },
     "execution_count": 26,
     "metadata": {},
     "output_type": "execute_result"
    }
   ],
   "source": [
    "lr.fit(X_train,y_train)"
   ]
  },
  {
   "cell_type": "markdown",
   "id": "95344c60",
   "metadata": {},
   "source": [
    "#### (iv) Displaying the score for training data set "
   ]
  },
  {
   "cell_type": "code",
   "execution_count": 27,
   "id": "5920e0e2",
   "metadata": {},
   "outputs": [
    {
     "name": "stdout",
     "output_type": "stream",
     "text": [
      "The score of linear regrression on training data set is : 0.8925625247247966\n"
     ]
    }
   ],
   "source": [
    "print('The score of linear regrression on training data set is :',lr.score(X_train,y_train))"
   ]
  },
  {
   "cell_type": "markdown",
   "id": "07b22127",
   "metadata": {},
   "source": [
    "#### (v) Displaying the score for testing data set"
   ]
  },
  {
   "cell_type": "code",
   "execution_count": 28,
   "id": "79e6c850",
   "metadata": {},
   "outputs": [
    {
     "name": "stdout",
     "output_type": "stream",
     "text": [
      "The score of linear regrression on testing data set is : 0.9129791003854311\n"
     ]
    }
   ],
   "source": [
    "print('The score of linear regrression on testing data set is :',lr.score(X_test,y_test))"
   ]
  },
  {
   "cell_type": "markdown",
   "id": "e5fec146",
   "metadata": {},
   "source": [
    "#### (vi) Predict the value on test set"
   ]
  },
  {
   "cell_type": "code",
   "execution_count": 29,
   "id": "b6260532",
   "metadata": {},
   "outputs": [
    {
     "data": {
      "text/plain": [
       "array([ 6.66475168, 12.68996813, 19.18789019, 10.73767138,  8.51128771,\n",
       "       21.85839533, 16.46070696, 13.95650458,  7.99961504, 14.98520643,\n",
       "       11.49432159, 21.59939662, 12.0335902 , 11.98137772, 12.4562088 ,\n",
       "       13.86548952,  7.21802104, 10.50800853, 19.97045525, 17.03430336,\n",
       "       17.30878578, 14.75037064, 16.54181955, 12.41663054, 15.68419744,\n",
       "       16.97507074,  7.90927771, 10.08743223, 24.71613038, 17.61306495,\n",
       "       22.86769655, 21.07774994, 18.78023118, 10.71171783, 14.68454314,\n",
       "       10.01495745,  8.87611124,  8.02675632,  6.67144752, 21.64468566])"
      ]
     },
     "execution_count": 29,
     "metadata": {},
     "output_type": "execute_result"
    }
   ],
   "source": [
    "y_pred = lr.predict(X_test)\n",
    "y_pred"
   ]
  },
  {
   "cell_type": "markdown",
   "id": "1eb1cdb4",
   "metadata": {},
   "source": [
    "#### (vii) Visualize the actual v/s predicted sales"
   ]
  },
  {
   "cell_type": "code",
   "execution_count": 30,
   "id": "d3f629ca",
   "metadata": {},
   "outputs": [
    {
     "data": {
      "text/plain": [
       "<function matplotlib.pyplot.show(close=None, block=None)>"
      ]
     },
     "execution_count": 30,
     "metadata": {},
     "output_type": "execute_result"
    },
    {
     "data": {
      "image/png": "[encoded data removed]",
      "text/plain": [
       "<Figure size 432x288 with 1 Axes>"
      ]
     },
     "metadata": {
      "needs_background": "light"
     },
     "output_type": "display_data"
    }
   ],
   "source": [
    "plt.scatter(y_test,y_pred,c = 'orange')\n",
    "plt.xlabel('Actual Sales')\n",
    "plt.ylabel('Predicted Sales')\n",
    "plt.show"
   ]
  },
  {
   "cell_type": "markdown",
   "id": "4dccb855",
   "metadata": {},
   "source": [
    "### b) Part - 2 When i am not included 'newspaper'"
   ]
  },
  {
   "cell_type": "code",
   "execution_count": 31,
   "id": "b02f27b0",
   "metadata": {},
   "outputs": [],
   "source": [
    "X_wn = df.drop(columns=['sales','newspaper'])\n",
    "y_wn = df['sales']"
   ]
  },
  {
   "cell_type": "code",
   "execution_count": 32,
   "id": "6495a4b0",
   "metadata": {},
   "outputs": [
    {
     "data": {
      "text/plain": [
       "(200, 2)"
      ]
     },
     "execution_count": 32,
     "metadata": {},
     "output_type": "execute_result"
    }
   ],
   "source": [
    "X_wn.shape"
   ]
  },
  {
   "cell_type": "code",
   "execution_count": 33,
   "id": "72258bfd",
   "metadata": {},
   "outputs": [
    {
     "data": {
      "text/plain": [
       "(200,)"
      ]
     },
     "execution_count": 33,
     "metadata": {},
     "output_type": "execute_result"
    }
   ],
   "source": [
    "y_wn.shape"
   ]
  },
  {
   "cell_type": "markdown",
   "id": "eee78f94",
   "metadata": {},
   "source": [
    "#### (i). Initiate our model"
   ]
  },
  {
   "cell_type": "code",
   "execution_count": 34,
   "id": "d545c5e4",
   "metadata": {},
   "outputs": [],
   "source": [
    "lr_wn = LinearRegression()"
   ]
  },
  {
   "cell_type": "markdown",
   "id": "44879e0a",
   "metadata": {},
   "source": [
    "#### (ii) Spilt data set using train test split"
   ]
  },
  {
   "cell_type": "code",
   "execution_count": 35,
   "id": "2515ce12",
   "metadata": {},
   "outputs": [],
   "source": [
    "X_wn_train, X_wn_test, y_wn_train, y_wn_test = train_test_split(X_wn, y_wn, test_size=0.20, random_state=355)"
   ]
  },
  {
   "cell_type": "markdown",
   "id": "f5db691f",
   "metadata": {},
   "source": [
    "#### (iii) Fit the model"
   ]
  },
  {
   "cell_type": "code",
   "execution_count": 36,
   "id": "520f94c1",
   "metadata": {},
   "outputs": [
    {
     "data": {
      "text/plain": [
       "LinearRegression()"
      ]
     },
     "execution_count": 36,
     "metadata": {},
     "output_type": "execute_result"
    }
   ],
   "source": [
    "lr_wn.fit(X_wn_train,y_wn_train)"
   ]
  },
  {
   "cell_type": "markdown",
   "id": "60e1630d",
   "metadata": {},
   "source": [
    "#### (iv) Displaying the score for training data set "
   ]
  },
  {
   "cell_type": "code",
   "execution_count": 37,
   "id": "e87d17e0",
   "metadata": {},
   "outputs": [
    {
     "name": "stdout",
     "output_type": "stream",
     "text": [
      "The score of linear regrression on training data set is : 0.8925489723914413\n"
     ]
    }
   ],
   "source": [
    "print('The score of linear regrression on training data set is :',lr_wn.score(X_wn_train,y_wn_train))"
   ]
  },
  {
   "cell_type": "markdown",
   "id": "d37a2b75",
   "metadata": {},
   "source": [
    "#### (v) Displaying the score for testing data set"
   ]
  },
  {
   "cell_type": "code",
   "execution_count": 38,
   "id": "5b50d6c8",
   "metadata": {},
   "outputs": [
    {
     "name": "stdout",
     "output_type": "stream",
     "text": [
      "The score of linear regrression on testing data set is : 0.9132413391971931\n"
     ]
    }
   ],
   "source": [
    "print('The score of linear regrression on testing data set is :',lr_wn.score(X_wn_test,y_wn_test))"
   ]
  },
  {
   "cell_type": "markdown",
   "id": "f05e5695",
   "metadata": {},
   "source": [
    "#### (vi) Predict the value on test set"
   ]
  },
  {
   "cell_type": "code",
   "execution_count": 39,
   "id": "2e40e8a8",
   "metadata": {},
   "outputs": [
    {
     "data": {
      "text/plain": [
       "array([ 6.64086847, 12.67771639, 19.16796664, 10.70811562,  8.53597787,\n",
       "       21.86531996, 16.48874189, 13.95229926,  7.97783518, 15.00412008,\n",
       "       11.51832377, 21.59305047, 12.0335283 , 11.95401064, 12.42846659,\n",
       "       13.88789964,  7.21256808, 10.49794677, 19.95601468, 17.03995427,\n",
       "       17.33639438, 14.74998442, 16.54430191, 12.42241691, 15.66151167,\n",
       "       16.96651496,  7.92795619, 10.0826927 , 24.72037334, 17.61783873,\n",
       "       22.85692601, 21.09313543, 18.80860496, 10.70546614, 14.67150067,\n",
       "       10.01000411,  8.86325676,  8.00795952,  6.67360602, 21.66596493])"
      ]
     },
     "execution_count": 39,
     "metadata": {},
     "output_type": "execute_result"
    }
   ],
   "source": [
    "y_we_pred = lr_wn.predict(X_wn_test)\n",
    "y_we_pred"
   ]
  },
  {
   "cell_type": "markdown",
   "id": "bd0863f9",
   "metadata": {},
   "source": [
    "#### (vii) Visualize the actual v/s predicted sales"
   ]
  },
  {
   "cell_type": "code",
   "execution_count": 40,
   "id": "edf5b0be",
   "metadata": {},
   "outputs": [
    {
     "data": {
      "text/plain": [
       "<function matplotlib.pyplot.show(close=None, block=None)>"
      ]
     },
     "execution_count": 40,
     "metadata": {},
     "output_type": "execute_result"
    },
    {
     "data": {
      "image/png": "[encoded data removed]",
      "text/plain": [
       "<Figure size 432x288 with 1 Axes>"
      ]
     },
     "metadata": {
      "needs_background": "light"
     },
     "output_type": "display_data"
    }
   ],
   "source": [
    "plt.scatter(y_wn_test,y_we_pred,c = 'orange')\n",
    "plt.xlabel('Actual Sales')\n",
    "plt.ylabel('Predicted Sales')\n",
    "plt.show"
   ]
  },
  {
   "cell_type": "markdown",
   "id": "90d1631a",
   "metadata": {},
   "source": [
    "### 9. Predict the sales given features using this model"
   ]
  },
  {
   "cell_type": "code",
   "execution_count": 41,
   "id": "2f2aadf0",
   "metadata": {},
   "outputs": [
    {
     "data": {
      "text/html": [
       "<div>\n",
       "<style scoped>\n",
       "    .dataframe tbody tr th:only-of-type {\n",
       "        vertical-align: middle;\n",
       "    }\n",
       "\n",
       "    .dataframe tbody tr th {\n",
       "        vertical-align: top;\n",
       "    }\n",
       "\n",
       "    .dataframe thead th {\n",
       "        text-align: right;\n",
       "    }\n",
       "</style>\n",
       "<table border=\"1\" class=\"dataframe\">\n",
       "  <thead>\n",
       "    <tr style=\"text-align: right;\">\n",
       "      <th></th>\n",
       "      <th>TV</th>\n",
       "      <th>radio</th>\n",
       "      <th>newspaper</th>\n",
       "      <th>sales</th>\n",
       "    </tr>\n",
       "  </thead>\n",
       "  <tbody>\n",
       "    <tr>\n",
       "      <th>198</th>\n",
       "      <td>283.6</td>\n",
       "      <td>42.0</td>\n",
       "      <td>66.2</td>\n",
       "      <td>25.5</td>\n",
       "    </tr>\n",
       "    <tr>\n",
       "      <th>199</th>\n",
       "      <td>232.1</td>\n",
       "      <td>8.6</td>\n",
       "      <td>8.7</td>\n",
       "      <td>13.4</td>\n",
       "    </tr>\n",
       "  </tbody>\n",
       "</table>\n",
       "</div>"
      ],
      "text/plain": [
       "        TV  radio  newspaper  sales\n",
       "198  283.6   42.0       66.2   25.5\n",
       "199  232.1    8.6        8.7   13.4"
      ]
     },
     "execution_count": 41,
     "metadata": {},
     "output_type": "execute_result"
    }
   ],
   "source": [
    "df.tail(2)"
   ]
  },
  {
   "cell_type": "markdown",
   "id": "511ddf88",
   "metadata": {},
   "source": [
    "#### a). Model that includes all features"
   ]
  },
  {
   "cell_type": "code",
   "execution_count": 42,
   "id": "07114be0",
   "metadata": {},
   "outputs": [
    {
     "data": {
      "text/plain": [
       "array([23.75457009])"
      ]
     },
     "execution_count": 42,
     "metadata": {},
     "output_type": "execute_result"
    }
   ],
   "source": [
    "lr.predict([[283.6,42.0,66.2]])"
   ]
  },
  {
   "cell_type": "code",
   "execution_count": 43,
   "id": "4455fe79",
   "metadata": {},
   "outputs": [
    {
     "data": {
      "text/plain": [
       "array([15.15005287])"
      ]
     },
     "execution_count": 43,
     "metadata": {},
     "output_type": "execute_result"
    }
   ],
   "source": [
    "lr.predict([[232.1,8.6,8.7]])"
   ]
  },
  {
   "cell_type": "markdown",
   "id": "802a359a",
   "metadata": {},
   "source": [
    "#### b). Model that not include 'newspaper'"
   ]
  },
  {
   "cell_type": "code",
   "execution_count": 44,
   "id": "bcfd4fd3",
   "metadata": {},
   "outputs": [
    {
     "data": {
      "text/plain": [
       "array([23.7334378])"
      ]
     },
     "execution_count": 44,
     "metadata": {},
     "output_type": "execute_result"
    }
   ],
   "source": [
    "lr_wn.predict([[283.6,42.0]])"
   ]
  },
  {
   "cell_type": "code",
   "execution_count": 45,
   "id": "db3d0672",
   "metadata": {},
   "outputs": [
    {
     "data": {
      "text/plain": [
       "array([15.16471128])"
      ]
     },
     "execution_count": 45,
     "metadata": {},
     "output_type": "execute_result"
    }
   ],
   "source": [
    "lr_wn.predict([[232.1,8.6]])"
   ]
  },
  {
   "cell_type": "markdown",
   "id": "33d2f2f6",
   "metadata": {},
   "source": [
    "##### Outcome : These both model predict result above 90 %"
   ]
  },
  {
   "cell_type": "markdown",
   "id": "8cc1cec5",
   "metadata": {},
   "source": [
    "### 10. Score Comparision"
   ]
  },
  {
   "cell_type": "code",
   "execution_count": 46,
   "id": "3fed333d",
   "metadata": {},
   "outputs": [],
   "source": [
    "score = pd.DataFrame({})\n",
    "score['Training_set_Score_with_newspaper'] = [lr.score(X_train,y_train)]\n",
    "score['Training_set_Score_without_newspaper'] = [lr_wn.score(X_wn_train,y_wn_train)]\n",
    "score['Testing_set_Score_with_newspaper'] = [lr.score(X_test,y_test)]\n",
    "score['Testing_set_Score_without_newspaper'] = [lr_wn.score(X_wn_test,y_wn_test)]"
   ]
  },
  {
   "cell_type": "code",
   "execution_count": 47,
   "id": "670fa8ca",
   "metadata": {},
   "outputs": [
    {
     "data": {
      "text/html": [
       "<div>\n",
       "<style scoped>\n",
       "    .dataframe tbody tr th:only-of-type {\n",
       "        vertical-align: middle;\n",
       "    }\n",
       "\n",
       "    .dataframe tbody tr th {\n",
       "        vertical-align: top;\n",
       "    }\n",
       "\n",
       "    .dataframe thead th {\n",
       "        text-align: right;\n",
       "    }\n",
       "</style>\n",
       "<table border=\"1\" class=\"dataframe\">\n",
       "  <thead>\n",
       "    <tr style=\"text-align: right;\">\n",
       "      <th></th>\n",
       "      <th>Training_set_Score_with_newspaper</th>\n",
       "      <th>Training_set_Score_without_newspaper</th>\n",
       "      <th>Testing_set_Score_with_newspaper</th>\n",
       "      <th>Testing_set_Score_without_newspaper</th>\n",
       "    </tr>\n",
       "  </thead>\n",
       "  <tbody>\n",
       "    <tr>\n",
       "      <th>0</th>\n",
       "      <td>0.892563</td>\n",
       "      <td>0.892549</td>\n",
       "      <td>0.912979</td>\n",
       "      <td>0.913241</td>\n",
       "    </tr>\n",
       "  </tbody>\n",
       "</table>\n",
       "</div>"
      ],
      "text/plain": [
       "   Training_set_Score_with_newspaper  Training_set_Score_without_newspaper  \\\n",
       "0                           0.892563                              0.892549   \n",
       "\n",
       "   Testing_set_Score_with_newspaper  Testing_set_Score_without_newspaper  \n",
       "0                          0.912979                             0.913241  "
      ]
     },
     "execution_count": 47,
     "metadata": {},
     "output_type": "execute_result"
    }
   ],
   "source": [
    "score"
   ]
  },
  {
   "cell_type": "markdown",
   "id": "484a69f4",
   "metadata": {},
   "source": [
    "##### Outcome : \n",
    "* With & without 'newspaper' score almost same. So my suggestion not to invest on advertising by newspaper.\n",
    "* I can drop it.\n",
    "* Now i am considering the model without 'newspaper' for further."
   ]
  },
  {
   "cell_type": "markdown",
   "id": "596de755",
   "metadata": {},
   "source": [
    "### 11. Model Evaluation"
   ]
  },
  {
   "cell_type": "code",
   "execution_count": 48,
   "id": "6b1fec6d",
   "metadata": {},
   "outputs": [],
   "source": [
    "from sklearn.metrics import mean_squared_error, mean_absolute_error"
   ]
  },
  {
   "cell_type": "code",
   "execution_count": 49,
   "id": "7364446b",
   "metadata": {},
   "outputs": [],
   "source": [
    "y_we_pred = lr_wn.predict(X_wn_test)"
   ]
  },
  {
   "cell_type": "code",
   "execution_count": 50,
   "id": "8d963ea1",
   "metadata": {},
   "outputs": [
    {
     "data": {
      "text/plain": [
       "1.3161931928374961"
      ]
     },
     "execution_count": 50,
     "metadata": {},
     "output_type": "execute_result"
    }
   ],
   "source": [
    "mean_absolute_error(y_wn_test, y_we_pred)"
   ]
  },
  {
   "cell_type": "code",
   "execution_count": 51,
   "id": "d774b057",
   "metadata": {},
   "outputs": [
    {
     "data": {
      "text/plain": [
       "2.543408224229008"
      ]
     },
     "execution_count": 51,
     "metadata": {},
     "output_type": "execute_result"
    }
   ],
   "source": [
    "mean_squared_error(y_wn_test, y_we_pred)"
   ]
  },
  {
   "cell_type": "code",
   "execution_count": 52,
   "id": "6a9a0efc",
   "metadata": {},
   "outputs": [
    {
     "data": {
      "text/plain": [
       "1.5948066416431204"
      ]
     },
     "execution_count": 52,
     "metadata": {},
     "output_type": "execute_result"
    }
   ],
   "source": [
    "np.sqrt(mean_squared_error(y_wn_test, y_we_pred))"
   ]
  },
  {
   "cell_type": "markdown",
   "id": "482df00e",
   "metadata": {},
   "source": [
    "##### Successfully completed building the Model"
   ]
  },
  {
   "cell_type": "markdown",
   "id": "2623a0f4",
   "metadata": {},
   "source": [
    "### 12. Checking whether model is overfitted "
   ]
  },
  {
   "cell_type": "code",
   "execution_count": 53,
   "id": "88064e0b",
   "metadata": {},
   "outputs": [],
   "source": [
    "from sklearn.linear_model import Lasso, LassoCV"
   ]
  },
  {
   "cell_type": "code",
   "execution_count": 54,
   "id": "fd19634b",
   "metadata": {},
   "outputs": [
    {
     "data": {
      "text/plain": [
       "LassoCV(max_iter=100, normalize=True)"
      ]
     },
     "execution_count": 54,
     "metadata": {},
     "output_type": "execute_result"
    }
   ],
   "source": [
    "lCV = LassoCV(alphas=None,max_iter=100,normalize=True)\n",
    "lCV.fit(X_wn_train,y_wn_train)"
   ]
  },
  {
   "cell_type": "code",
   "execution_count": 55,
   "id": "5e4d6b4d",
   "metadata": {},
   "outputs": [
    {
     "data": {
      "text/plain": [
       "0.00031917845731458706"
      ]
     },
     "execution_count": 55,
     "metadata": {},
     "output_type": "execute_result"
    }
   ],
   "source": [
    "alpha = lCV.alpha_\n",
    "alpha"
   ]
  },
  {
   "cell_type": "code",
   "execution_count": 56,
   "id": "7c91dd04",
   "metadata": {},
   "outputs": [
    {
     "data": {
      "text/plain": [
       "Lasso(alpha=0.00031917845731458706)"
      ]
     },
     "execution_count": 56,
     "metadata": {},
     "output_type": "execute_result"
    }
   ],
   "source": [
    "lesso_reg = Lasso(alpha)\n",
    "lesso_reg.fit(X_wn_train,y_wn_train)"
   ]
  },
  {
   "cell_type": "code",
   "execution_count": 57,
   "id": "0ad20d9d",
   "metadata": {},
   "outputs": [
    {
     "data": {
      "text/plain": [
       "0.9132411662805637"
      ]
     },
     "execution_count": 57,
     "metadata": {},
     "output_type": "execute_result"
    }
   ],
   "source": [
    "lesso_reg.score(X_wn_test,y_wn_test)"
   ]
  },
  {
   "cell_type": "markdown",
   "id": "b6d58d59",
   "metadata": {},
   "source": [
    "##### Outcome : As i observed my model is not overfitted."
   ]
  },
  {
   "cell_type": "markdown",
   "id": "f27a2d04",
   "metadata": {},
   "source": [
    "### 13. Saving the model"
   ]
  },
  {
   "cell_type": "code",
   "execution_count": 58,
   "id": "f07b71ad",
   "metadata": {},
   "outputs": [],
   "source": [
    "import pickle"
   ]
  },
  {
   "cell_type": "code",
   "execution_count": 60,
   "id": "2ae1f4bc",
   "metadata": {},
   "outputs": [],
   "source": [
    "final_result = 'Advertising Sales Channel Prediction.pickle'\n",
    "pickle.dump(lr_wn,open(final_result,'wb'))"
   ]
  }
 ],
 "metadata": {
  "kernelspec": {
   "display_name": "Python 3",
   "language": "python",
   "name": "python3"
  },
  "language_info": {
   "codemirror_mode": {
    "name": "ipython",
    "version": 3
   },
   "file_extension": ".py",
   "mimetype": "text/x-python",
   "name": "python",
   "nbconvert_exporter": "python",
   "pygments_lexer": "ipython3",
   "version": "3.8.8"
  }
 },
 "nbformat": 4,
 "nbformat_minor": 5
}
